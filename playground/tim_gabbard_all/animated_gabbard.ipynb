{
 "cells": [
  {
   "cell_type": "code",
   "execution_count": 1,
   "metadata": {},
   "outputs": [],
   "source": [
    "import numpy as np\n",
    "import pandas as pd\n",
    "import matplotlib as mpl\n",
    "import matplotlib.pyplot as plt\n",
    "from matplotlib.animation import FuncAnimation, FFMpegWriter\n",
    "from tqdm import tqdm"
   ]
  },
  {
   "cell_type": "code",
   "execution_count": 2,
   "metadata": {},
   "outputs": [],
   "source": [
    "input_file_path = '../../../siads591 data/processed_data/gabbard/gabbard_1D_scaled_1980.pkl'\n",
    "output_file_path = './gabbard_debris_1D_60fps_1980_start.mp4'"
   ]
  },
  {
   "cell_type": "code",
   "execution_count": 3,
   "metadata": {},
   "outputs": [],
   "source": [
    "bitrate = 1000\n",
    "dpi = 300\n",
    "fps = 60\n",
    "freq = '1D'\n",
    "use_slice = slice(None, None, None) # 2 ways to slice the data, this is index slicing for the date range"
   ]
  },
  {
   "cell_type": "code",
   "execution_count": 4,
   "metadata": {},
   "outputs": [
    {
     "name": "stdout",
     "output_type": "stream",
     "text": [
      "<class 'pandas.core.frame.DataFrame'>\n",
      "DatetimeIndex: 79734374 entries, 1980-01-01 to 2021-01-20\n",
      "Data columns (total 4 columns):\n",
      " #   Column        Dtype  \n",
      "---  ------        -----  \n",
      " 0   NORAD_CAT_ID  uint64 \n",
      " 1   PERIOD        float64\n",
      " 2   APOAPSIS      float64\n",
      " 3   PERIAPSIS     float64\n",
      "dtypes: float64(3), uint64(1)\n",
      "memory usage: 3.0 GB\n"
     ]
    },
    {
     "data": {
      "text/plain": [
       "None"
      ]
     },
     "metadata": {},
     "output_type": "display_data"
    },
    {
     "data": {
      "text/html": [
       "<div>\n",
       "<style scoped>\n",
       "    .dataframe tbody tr th:only-of-type {\n",
       "        vertical-align: middle;\n",
       "    }\n",
       "\n",
       "    .dataframe tbody tr th {\n",
       "        vertical-align: top;\n",
       "    }\n",
       "\n",
       "    .dataframe thead th {\n",
       "        text-align: right;\n",
       "    }\n",
       "</style>\n",
       "<table border=\"1\" class=\"dataframe\">\n",
       "  <thead>\n",
       "    <tr style=\"text-align: right;\">\n",
       "      <th></th>\n",
       "      <th>NORAD_CAT_ID</th>\n",
       "      <th>PERIOD</th>\n",
       "      <th>APOAPSIS</th>\n",
       "      <th>PERIAPSIS</th>\n",
       "    </tr>\n",
       "    <tr>\n",
       "      <th>EPOCH</th>\n",
       "      <th></th>\n",
       "      <th></th>\n",
       "      <th></th>\n",
       "      <th></th>\n",
       "    </tr>\n",
       "  </thead>\n",
       "  <tbody>\n",
       "    <tr>\n",
       "      <th>1980-01-01</th>\n",
       "      <td>51</td>\n",
       "      <td>59122.0</td>\n",
       "      <td>33706.200000</td>\n",
       "      <td>30377.800000</td>\n",
       "    </tr>\n",
       "    <tr>\n",
       "      <th>1980-01-02</th>\n",
       "      <td>51</td>\n",
       "      <td>59122.0</td>\n",
       "      <td>33705.416667</td>\n",
       "      <td>30378.527778</td>\n",
       "    </tr>\n",
       "    <tr>\n",
       "      <th>1980-01-03</th>\n",
       "      <td>51</td>\n",
       "      <td>59122.0</td>\n",
       "      <td>33704.833333</td>\n",
       "      <td>30379.055556</td>\n",
       "    </tr>\n",
       "    <tr>\n",
       "      <th>1980-01-04</th>\n",
       "      <td>51</td>\n",
       "      <td>59122.0</td>\n",
       "      <td>33704.250000</td>\n",
       "      <td>30379.583333</td>\n",
       "    </tr>\n",
       "  </tbody>\n",
       "</table>\n",
       "</div>"
      ],
      "text/plain": [
       "            NORAD_CAT_ID   PERIOD      APOAPSIS     PERIAPSIS\n",
       "EPOCH                                                        \n",
       "1980-01-01            51  59122.0  33706.200000  30377.800000\n",
       "1980-01-02            51  59122.0  33705.416667  30378.527778\n",
       "1980-01-03            51  59122.0  33704.833333  30379.055556\n",
       "1980-01-04            51  59122.0  33704.250000  30379.583333"
      ]
     },
     "metadata": {},
     "output_type": "display_data"
    }
   ],
   "source": [
    "df = pd.read_pickle(f'{input_file_path}')\n",
    "df = df[(df.index >= \"1980-01-01\") & (df.index <= \"2021-01-20\")] # manually set min/max range based on datetime\n",
    "display(df.info())\n",
    "display(df.head(4))"
   ]
  },
  {
   "cell_type": "code",
   "execution_count": 5,
   "metadata": {},
   "outputs": [
    {
     "name": "stdout",
     "output_type": "stream",
     "text": [
      "14996 frames\n"
     ]
    }
   ],
   "source": [
    "dates = pd.date_range(start=df.index.min(), end=df.index.max(), freq=freq)\n",
    "dates = dates[use_slice]\n",
    "print(f'{len(dates)} frames')"
   ]
  },
  {
   "cell_type": "code",
   "execution_count": null,
   "metadata": {},
   "outputs": [
    {
     "name": "stderr",
     "output_type": "stream",
     "text": [
      " 32%|███▏      | 4749/14997 [22:23<48:22,  3.53it/s]  "
     ]
    }
   ],
   "source": [
    "# set this to a specific frame number to draw only 1 frame in the notebook to test output\n",
    "# Set None generate full video\n",
    "draw_one_frame = None\n",
    "\n",
    "fig, ax = plt.subplots(dpi=dpi, figsize=(8,5))\n",
    "\n",
    "ax.set_xlim(87,130)\n",
    "ax.set_ylim(100,2750)\n",
    "ax.set_xlabel(\"Orbital Period (min)\")\n",
    "ax.set_ylabel(\"Altitude (km)\")\n",
    "artists = []\n",
    "\n",
    "def plot_it(ax,e):\n",
    "    global df\n",
    "    cdf = df[df.index==e].copy()\n",
    "\n",
    "    # revert the scaling of the data\n",
    "    cdf['PERIOD'] = cdf.PERIOD.astype(np.float64) / 500\n",
    "    cdf['APOAPSIS'] = cdf.APOAPSIS.astype(np.float64) / 20\n",
    "    cdf['PERIAPSIS'] = cdf.PERIAPSIS.astype(np.float64) / 20\n",
    "    \n",
    "    apo = ax.scatter(cdf.PERIOD, cdf.APOAPSIS, color='#fe2700', marker='o', edgecolors='none', alpha=0.25, s=1, label=\"Apoapsis\")\n",
    "    peri = ax.scatter(cdf.PERIOD, cdf.PERIAPSIS, color='#038fd5', marker='o', edgecolors='none', alpha=0.25, s=1, label=\"Periapsis\")\n",
    "    plt.legend(loc=\"upper right\", numpoints=1, fontsize=10, markerscale=10)\n",
    "    return [apo,peri]\n",
    "\n",
    "def update(f):\n",
    "    global pbar, artists, yr\n",
    "    i, date = f\n",
    "    ax.set_title(f\"{date.month_name()} {date.year} (frame {i})\", loc='right')\n",
    "    for a in artists:\n",
    "        a.remove()\n",
    "    artists = plot_it(ax,date)\n",
    "    pbar.update(1)\n",
    "\n",
    "if type(draw_one_frame) == int:\n",
    "    pbar = tqdm(total=1, position=0, leave=True)\n",
    "    update((draw_one_frame,dates[draw_one_frame]))\n",
    "    pbar.close()\n",
    "else:\n",
    "    pbar = tqdm(total=len(dates)+1, position=0, leave=True)\n",
    "    ani = FuncAnimation(fig, update, list(enumerate(dates)))\n",
    "    writervideo = FFMpegWriter(fps=fps, bitrate=bitrate)\n",
    "    ani.save(f'{output_file_path}', writer=writervideo, dpi=dpi)\n",
    "    pbar.close()"
   ]
  }
 ],
 "metadata": {
  "kernelspec": {
   "display_name": "Python 3",
   "language": "python",
   "name": "python3"
  },
  "language_info": {
   "codemirror_mode": {
    "name": "ipython",
    "version": 3
   },
   "file_extension": ".py",
   "mimetype": "text/x-python",
   "name": "python",
   "nbconvert_exporter": "python",
   "pygments_lexer": "ipython3",
   "version": "3.8.5"
  }
 },
 "nbformat": 4,
 "nbformat_minor": 4
}
