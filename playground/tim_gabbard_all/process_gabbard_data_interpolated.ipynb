{
 "cells": [
  {
   "cell_type": "code",
   "execution_count": 1,
   "metadata": {},
   "outputs": [],
   "source": [
    "import pandas as pd\n",
    "import datetime\n",
    "import numpy as np\n",
    "\n",
    "# local file paths\n",
    "input_file_path = f'../../../siads591 data/filtered_raw/gabbard_min.pkl.gz'\n",
    "out_path = f'../../../siads591 data/processed_data/gabbard/'\n",
    "\n",
    "# freq             frequency of datapoints after reindexing\n",
    "# start_date       start date for data to start processing - remember to leave enough gap for interpolation\n",
    "# interpolate_lim  limits of interpolation based on the frequency\n",
    "#                  (1D frequency, 30 limit = 30 days 1 way, effectively a max of 60 days between points)\n",
    "# out_file_name    output file name\n",
    "\n",
    "# freq, start_date, interpolate_lim, out_file_name = '1D', '1979-10-01', 45, 'gabbard_1D_scaled_1980.pkl'\n",
    "freq, start_date, interpolate_lim, out_file_name = '1D', None, 10, 'gabbard_1D_scaled_il10.pkl'\n",
    "# freq, start_date, interpolate_lim, out_file_name = '12H', '1979-10-01', 90, 'gabbard_scaled_1980.pkl'\n",
    "# freq, start_date, interpolate_lim, out_file_name = '5D', None, 12, 'gabbard_5D_scaled.pkl'"
   ]
  },
  {
   "cell_type": "code",
   "execution_count": 2,
   "metadata": {},
   "outputs": [],
   "source": [
    "raw_df = pd.read_pickle(f'{input_file_path}', compression=\"gzip\")"
   ]
  },
  {
   "cell_type": "code",
   "execution_count": 3,
   "metadata": {},
   "outputs": [],
   "source": [
    "raw_df = raw_df.reset_index().sort_values(by=[\"EPOCH\",\"NORAD_CAT_ID\"]).drop_duplicates(subset=[\"EPOCH\",\"NORAD_CAT_ID\"]).set_index(\"EPOCH\")"
   ]
  },
  {
   "cell_type": "code",
   "execution_count": 4,
   "metadata": {},
   "outputs": [],
   "source": [
    "if start_date != None:\n",
    "    raw_df = raw_df[raw_df.index > start_date]"
   ]
  },
  {
   "cell_type": "code",
   "execution_count": 5,
   "metadata": {},
   "outputs": [
    {
     "data": {
      "text/html": [
       "<div>\n",
       "<style scoped>\n",
       "    .dataframe tbody tr th:only-of-type {\n",
       "        vertical-align: middle;\n",
       "    }\n",
       "\n",
       "    .dataframe tbody tr th {\n",
       "        vertical-align: top;\n",
       "    }\n",
       "\n",
       "    .dataframe thead th {\n",
       "        text-align: right;\n",
       "    }\n",
       "</style>\n",
       "<table border=\"1\" class=\"dataframe\">\n",
       "  <thead>\n",
       "    <tr style=\"text-align: right;\">\n",
       "      <th></th>\n",
       "      <th>NORAD_CAT_ID</th>\n",
       "      <th>PERIOD_x500</th>\n",
       "      <th>APOAPSIS_x20</th>\n",
       "      <th>PERIAPSIS_x20</th>\n",
       "    </tr>\n",
       "    <tr>\n",
       "      <th>EPOCH</th>\n",
       "      <th></th>\n",
       "      <th></th>\n",
       "      <th></th>\n",
       "      <th></th>\n",
       "    </tr>\n",
       "  </thead>\n",
       "  <tbody>\n",
       "    <tr>\n",
       "      <th>1959-10-24 11:14:07.924127</th>\n",
       "      <td>23</td>\n",
       "      <td>50681</td>\n",
       "      <td>21830</td>\n",
       "      <td>11100</td>\n",
       "    </tr>\n",
       "    <tr>\n",
       "      <th>1959-11-03 17:34:40.920383</th>\n",
       "      <td>23</td>\n",
       "      <td>50675</td>\n",
       "      <td>21803</td>\n",
       "      <td>11100</td>\n",
       "    </tr>\n",
       "    <tr>\n",
       "      <th>1959-11-10 18:16:00.424991</th>\n",
       "      <td>23</td>\n",
       "      <td>50668</td>\n",
       "      <td>21779</td>\n",
       "      <td>11100</td>\n",
       "    </tr>\n",
       "    <tr>\n",
       "      <th>1959-11-17 18:56:50.595935</th>\n",
       "      <td>23</td>\n",
       "      <td>50665</td>\n",
       "      <td>21768</td>\n",
       "      <td>11100</td>\n",
       "    </tr>\n",
       "  </tbody>\n",
       "</table>\n",
       "</div>"
      ],
      "text/plain": [
       "                            NORAD_CAT_ID  PERIOD_x500  APOAPSIS_x20  \\\n",
       "EPOCH                                                                 \n",
       "1959-10-24 11:14:07.924127            23        50681         21830   \n",
       "1959-11-03 17:34:40.920383            23        50675         21803   \n",
       "1959-11-10 18:16:00.424991            23        50668         21779   \n",
       "1959-11-17 18:56:50.595935            23        50665         21768   \n",
       "\n",
       "                            PERIAPSIS_x20  \n",
       "EPOCH                                      \n",
       "1959-10-24 11:14:07.924127          11100  \n",
       "1959-11-03 17:34:40.920383          11100  \n",
       "1959-11-10 18:16:00.424991          11100  \n",
       "1959-11-17 18:56:50.595935          11100  "
      ]
     },
     "metadata": {},
     "output_type": "display_data"
    },
    {
     "name": "stdout",
     "output_type": "stream",
     "text": [
      "<class 'pandas.core.frame.DataFrame'>\n",
      "DatetimeIndex: 84875328 entries, 1959-10-24 11:14:07.924127 to 2021-01-26 04:48:39.119328\n",
      "Data columns (total 4 columns):\n",
      " #   Column         Dtype \n",
      "---  ------         ----- \n",
      " 0   NORAD_CAT_ID   uint16\n",
      " 1   PERIOD_x500    UInt16\n",
      " 2   APOAPSIS_x20   UInt16\n",
      " 3   PERIAPSIS_x20  UInt16\n",
      "dtypes: UInt16(3), uint16(1)\n",
      "memory usage: 1.5 GB\n"
     ]
    },
    {
     "data": {
      "text/plain": [
       "None"
      ]
     },
     "metadata": {},
     "output_type": "display_data"
    }
   ],
   "source": [
    "display(raw_df.head(4))\n",
    "display(raw_df.info())"
   ]
  },
  {
   "cell_type": "code",
   "execution_count": 6,
   "metadata": {},
   "outputs": [],
   "source": [
    "# create a new dataframe with min/max epoch of each satellite\n",
    "reindexed_df = raw_df.reset_index().groupby(by=\"NORAD_CAT_ID\").agg({'EPOCH':['min','max']})\n",
    "\n",
    "# rename columns and add a joining column.  Boolean is the least memory intensive.\n",
    "reindexed_df.columns = [\"_\".join(x) for x in reindexed_df.columns.ravel()]\n",
    "reindexed_df['key'] = True\n",
    "\n",
    "# generate valid EPOCH entries for each satellite\n",
    "reindexed_df = reindexed_df.reset_index().merge(pd.DataFrame({'EPOCH':pd.date_range(start=raw_df.index.floor(freq=freq).min(), end=raw_df.index.max(), freq=freq),'key':True}),on='key').drop('key',1)\n",
    "reindexed_df = reindexed_df[(reindexed_df.EPOCH_min < reindexed_df.EPOCH) & (reindexed_df.EPOCH_max > reindexed_df.EPOCH)][['NORAD_CAT_ID','EPOCH']]\n",
    "\n",
    "# save this value for later use\n",
    "num_rows = len(reindexed_df)\n",
    "\n",
    "# combine the generated table with the raw data\n",
    "reindexed_df = reindexed_df.append(raw_df.reset_index(), ignore_index=True).sort_values(by=['NORAD_CAT_ID','EPOCH'])\n",
    "reindexed_df[\"NORAD_CAT_ID\"] = reindexed_df[\"NORAD_CAT_ID\"].astype(np.uint16)\n",
    "\n",
    "reindexed_df = reindexed_df.reset_index().rename(columns={\"index\":\"old_index\"}).set_index(\"EPOCH\")\n",
    "\n",
    "# interpolate values for the generated EPOCH, col by col\n",
    "reindexed_df[\"PERIOD_x500\"] = reindexed_df[\"PERIOD_x500\"].astype(np.float32).interpolate(method='time', limit_area=\"inside\", limit=interpolate_lim, limit_direction='both').round(0).astype(pd.UInt16Dtype())\n",
    "reindexed_df[\"APOAPSIS_x20\"] = reindexed_df[\"APOAPSIS_x20\"].astype(np.float32).interpolate(method='time', limit_area=\"inside\", limit=interpolate_lim, limit_direction='both').round(0).astype(pd.UInt16Dtype())\n",
    "reindexed_df[\"PERIAPSIS_x20\"] = reindexed_df[\"PERIAPSIS_x20\"].astype(np.float32).interpolate(method='time', limit_area=\"inside\", limit=interpolate_lim, limit_direction='both').round(0).astype(pd.UInt16Dtype())\n",
    "\n",
    "# remove the raw data\n",
    "reindexed_df = reindexed_df[reindexed_df.old_index < num_rows]\n",
    "reindexed_df = reindexed_df.drop(columns=[\"old_index\"])"
   ]
  },
  {
   "cell_type": "code",
   "execution_count": 7,
   "metadata": {},
   "outputs": [
    {
     "data": {
      "text/html": [
       "<div>\n",
       "<style scoped>\n",
       "    .dataframe tbody tr th:only-of-type {\n",
       "        vertical-align: middle;\n",
       "    }\n",
       "\n",
       "    .dataframe tbody tr th {\n",
       "        vertical-align: top;\n",
       "    }\n",
       "\n",
       "    .dataframe thead th {\n",
       "        text-align: right;\n",
       "    }\n",
       "</style>\n",
       "<table border=\"1\" class=\"dataframe\">\n",
       "  <thead>\n",
       "    <tr style=\"text-align: right;\">\n",
       "      <th></th>\n",
       "      <th>NORAD_CAT_ID</th>\n",
       "      <th>PERIOD_x500</th>\n",
       "      <th>APOAPSIS_x20</th>\n",
       "      <th>PERIAPSIS_x20</th>\n",
       "    </tr>\n",
       "    <tr>\n",
       "      <th>EPOCH</th>\n",
       "      <th></th>\n",
       "      <th></th>\n",
       "      <th></th>\n",
       "      <th></th>\n",
       "    </tr>\n",
       "  </thead>\n",
       "  <tbody>\n",
       "    <tr>\n",
       "      <th>1987-12-22</th>\n",
       "      <td>12</td>\n",
       "      <td>52156</td>\n",
       "      <td>20451</td>\n",
       "      <td>18028</td>\n",
       "    </tr>\n",
       "    <tr>\n",
       "      <th>1987-12-23</th>\n",
       "      <td>12</td>\n",
       "      <td>48928</td>\n",
       "      <td>13615</td>\n",
       "      <td>12601</td>\n",
       "    </tr>\n",
       "    <tr>\n",
       "      <th>1987-12-24</th>\n",
       "      <td>12</td>\n",
       "      <td>55924</td>\n",
       "      <td>30704</td>\n",
       "      <td>21760</td>\n",
       "    </tr>\n",
       "    <tr>\n",
       "      <th>1987-12-25</th>\n",
       "      <td>12</td>\n",
       "      <td>51887</td>\n",
       "      <td>24154</td>\n",
       "      <td>13181</td>\n",
       "    </tr>\n",
       "  </tbody>\n",
       "</table>\n",
       "</div>"
      ],
      "text/plain": [
       "            NORAD_CAT_ID  PERIOD_x500  APOAPSIS_x20  PERIAPSIS_x20\n",
       "EPOCH                                                             \n",
       "1987-12-22            12        52156         20451          18028\n",
       "1987-12-23            12        48928         13615          12601\n",
       "1987-12-24            12        55924         30704          21760\n",
       "1987-12-25            12        51887         24154          13181"
      ]
     },
     "metadata": {},
     "output_type": "display_data"
    },
    {
     "name": "stdout",
     "output_type": "stream",
     "text": [
      "<class 'pandas.core.frame.DataFrame'>\n",
      "DatetimeIndex: 99798124 entries, 1987-12-22 to 2021-01-26\n",
      "Data columns (total 4 columns):\n",
      " #   Column         Dtype \n",
      "---  ------         ----- \n",
      " 0   NORAD_CAT_ID   uint16\n",
      " 1   PERIOD_x500    UInt16\n",
      " 2   APOAPSIS_x20   UInt16\n",
      " 3   PERIAPSIS_x20  UInt16\n",
      "dtypes: UInt16(3), uint16(1)\n",
      "memory usage: 1.8 GB\n"
     ]
    },
    {
     "data": {
      "text/plain": [
       "None"
      ]
     },
     "metadata": {},
     "output_type": "display_data"
    }
   ],
   "source": [
    "display(reindexed_df.head(4))\n",
    "display(reindexed_df.info())"
   ]
  },
  {
   "cell_type": "code",
   "execution_count": 8,
   "metadata": {},
   "outputs": [],
   "source": [
    "reindexed_df.to_pickle(f\"{out_path}{out_file_name}\")"
   ]
  },
  {
   "cell_type": "code",
   "execution_count": 9,
   "metadata": {},
   "outputs": [
    {
     "data": {
      "text/plain": [
       "<AxesSubplot:>"
      ]
     },
     "execution_count": 9,
     "metadata": {},
     "output_type": "execute_result"
    },
    {
     "data": {
      "image/png": "[encoded data removed]",
      "text/plain": [
       "<Figure size 432x288 with 1 Axes>"
      ]
     },
     "metadata": {
      "needs_background": "light"
     },
     "output_type": "display_data"
    }
   ],
   "source": [
    "reindexed_df.index.value_counts().plot()"
   ]
  }
 ],
 "metadata": {
  "kernelspec": {
   "display_name": "Python 3",
   "language": "python",
   "name": "python3"
  },
  "language_info": {
   "codemirror_mode": {
    "name": "ipython",
    "version": 3
   },
   "file_extension": ".py",
   "mimetype": "text/x-python",
   "name": "python",
   "nbconvert_exporter": "python",
   "pygments_lexer": "ipython3",
   "version": "3.8.5"
  }
 },
 "nbformat": 4,
 "nbformat_minor": 4
}
