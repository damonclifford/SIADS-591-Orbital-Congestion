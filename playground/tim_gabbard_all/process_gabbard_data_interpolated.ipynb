{
 "cells": [
  {
   "cell_type": "code",
   "execution_count": 1,
   "metadata": {},
   "outputs": [],
   "source": [
    "import pandas as pd\n",
    "import datetime\n",
    "import numpy as np\n",
    "from tqdm import tqdm\n",
    "from ipywidgets import IntProgress\n",
    "\n",
    "# local file paths\n",
    "input_file_path = f'../../../siads591 data/filtered_raw/gabbard_min.pkl.gz'\n",
    "out_path = f'../../../siads591 data/processed_data/gabbard/'\n",
    "\n",
    "# freq             frequency of datapoints after reindexing\n",
    "# start_date       start date for data to start processing - remember to leave enough gap for interpolation\n",
    "# interpolate_lim  limits of interpolation based on the frequency\n",
    "#                  (1D frequency, 30 limit = 30 days 1 way, effectively a max of 60 days between points)\n",
    "# out_file_name    output file name\n",
    "\n",
    "freq, start_date, interpolate_lim, out_file_name = '36H', None, 20, 'gabbard_36H20.pkl'\n",
    "# freq, start_date, interpolate_lim, out_file_name = '1D', '1979-10-01', 45, 'gabbard_1D_scaled_1980.pkl'\n",
    "# freq, start_date, interpolate_lim, out_file_name = '1D', None, 30, 'gabbard_1D_scaled_il30.pkl'\n",
    "# freq, start_date, interpolate_lim, out_file_name = '12H', '1979-10-01', 90, 'gabbard_scaled_1980.pkl'\n",
    "# freq, start_date, interpolate_lim, out_file_name = '5D', None, 12, 'gabbard_5D_scaled.pkl'"
   ]
  },
  {
   "cell_type": "code",
   "execution_count": 2,
   "metadata": {},
   "outputs": [],
   "source": [
    "raw_df = pd.read_pickle(f'{input_file_path}', compression=\"gzip\")"
   ]
  },
  {
   "cell_type": "code",
   "execution_count": 3,
   "metadata": {},
   "outputs": [],
   "source": [
    "if start_date != None:\n",
    "    raw_df = raw_df[raw_df.index > start_date]"
   ]
  },
  {
   "cell_type": "code",
   "execution_count": 4,
   "metadata": {},
   "outputs": [
    {
     "data": {
      "text/html": [
       "<div>\n",
       "<style scoped>\n",
       "    .dataframe tbody tr th:only-of-type {\n",
       "        vertical-align: middle;\n",
       "    }\n",
       "\n",
       "    .dataframe tbody tr th {\n",
       "        vertical-align: top;\n",
       "    }\n",
       "\n",
       "    .dataframe thead th {\n",
       "        text-align: right;\n",
       "    }\n",
       "</style>\n",
       "<table border=\"1\" class=\"dataframe\">\n",
       "  <thead>\n",
       "    <tr style=\"text-align: right;\">\n",
       "      <th></th>\n",
       "      <th>NORAD_CAT_ID</th>\n",
       "      <th>PERIOD_x500</th>\n",
       "      <th>APOAPSIS_x20</th>\n",
       "      <th>PERIAPSIS_x20</th>\n",
       "    </tr>\n",
       "    <tr>\n",
       "      <th>EPOCH</th>\n",
       "      <th></th>\n",
       "      <th></th>\n",
       "      <th></th>\n",
       "      <th></th>\n",
       "    </tr>\n",
       "  </thead>\n",
       "  <tbody>\n",
       "    <tr>\n",
       "      <th>2004-04-27 14:18:48.216960</th>\n",
       "      <td>18549</td>\n",
       "      <td>56019</td>\n",
       "      <td>37260</td>\n",
       "      <td>15554</td>\n",
       "    </tr>\n",
       "    <tr>\n",
       "      <th>2004-04-27 15:59:40.727904</th>\n",
       "      <td>18727</td>\n",
       "      <td>56952</td>\n",
       "      <td>29484</td>\n",
       "      <td>26739</td>\n",
       "    </tr>\n",
       "    <tr>\n",
       "      <th>2004-04-27 19:45:13.686048</th>\n",
       "      <td>19027</td>\n",
       "      <td>51961</td>\n",
       "      <td>20122</td>\n",
       "      <td>17635</td>\n",
       "    </tr>\n",
       "    <tr>\n",
       "      <th>2004-04-27 15:43:11.393472</th>\n",
       "      <td>19128</td>\n",
       "      <td>52496</td>\n",
       "      <td>22942</td>\n",
       "      <td>16822</td>\n",
       "    </tr>\n",
       "  </tbody>\n",
       "</table>\n",
       "</div>"
      ],
      "text/plain": [
       "                            NORAD_CAT_ID  PERIOD_x500  APOAPSIS_x20  \\\n",
       "EPOCH                                                                 \n",
       "2004-04-27 14:18:48.216960         18549        56019         37260   \n",
       "2004-04-27 15:59:40.727904         18727        56952         29484   \n",
       "2004-04-27 19:45:13.686048         19027        51961         20122   \n",
       "2004-04-27 15:43:11.393472         19128        52496         22942   \n",
       "\n",
       "                            PERIAPSIS_x20  \n",
       "EPOCH                                      \n",
       "2004-04-27 14:18:48.216960          15554  \n",
       "2004-04-27 15:59:40.727904          26739  \n",
       "2004-04-27 19:45:13.686048          17635  \n",
       "2004-04-27 15:43:11.393472          16822  "
      ]
     },
     "metadata": {},
     "output_type": "display_data"
    },
    {
     "name": "stdout",
     "output_type": "stream",
     "text": [
      "<class 'pandas.core.frame.DataFrame'>\n",
      "DatetimeIndex: 86326993 entries, 2004-04-27 14:18:48.216960 to 2021-01-25 23:08:08.404224\n",
      "Data columns (total 4 columns):\n",
      " #   Column         Dtype \n",
      "---  ------         ----- \n",
      " 0   NORAD_CAT_ID   uint16\n",
      " 1   PERIOD_x500    UInt16\n",
      " 2   APOAPSIS_x20   UInt16\n",
      " 3   PERIAPSIS_x20  UInt16\n",
      "dtypes: UInt16(3), uint16(1)\n",
      "memory usage: 1.5 GB\n"
     ]
    },
    {
     "data": {
      "text/plain": [
       "None"
      ]
     },
     "metadata": {},
     "output_type": "display_data"
    }
   ],
   "source": [
    "display(raw_df.head(4))\n",
    "display(raw_df.info())"
   ]
  },
  {
   "cell_type": "code",
   "execution_count": 5,
   "metadata": {},
   "outputs": [],
   "source": [
    "def f(source_df):\n",
    "    # drop duplicated index first\n",
    "    source_df = source_df[~source_df.index.duplicated(keep='first')]\n",
    "    \n",
    "    # Create new dataframe with index based on frequency\n",
    "    new_date_index = pd.date_range(start=source_df.index.ceil(freq=freq).min(), end=source_df.index.max(), freq=freq)\n",
    "    new_df = pd.DataFrame({}, index=new_date_index)\n",
    "    new_df['NORAD_CAT_ID'] = source_df.NORAD_CAT_ID[0]\n",
    "    \n",
    "    # Combine with raw and perform interpolation\n",
    "    reindexed_df = pd.concat([source_df,new_df]).sort_index()\n",
    "    reindexed_df[\"PERIOD_x500\"] = reindexed_df[\"PERIOD_x500\"].astype(np.float32).interpolate(method='time', limit_area=\"inside\", limit=interpolate_lim, limit_direction='both').round(0).astype(pd.UInt16Dtype())\n",
    "    reindexed_df[\"APOAPSIS_x20\"] = reindexed_df[\"APOAPSIS_x20\"].astype(np.float32).interpolate(method='time', limit_area=\"inside\", limit=interpolate_lim, limit_direction='both').round(0).astype(pd.UInt16Dtype())\n",
    "    reindexed_df[\"PERIAPSIS_x20\"] = reindexed_df[\"PERIAPSIS_x20\"].astype(np.float32).interpolate(method='time', limit_area=\"inside\", limit=interpolate_lim, limit_direction='both').round(0).astype(pd.UInt16Dtype())\n",
    "    \n",
    "    # get rid of the source data\n",
    "    reindexed_df = reindexed_df.drop(source_df.index)\n",
    "\n",
    "    return reindexed_df"
   ]
  },
  {
   "cell_type": "code",
   "execution_count": 6,
   "metadata": {},
   "outputs": [
    {
     "name": "stderr",
     "output_type": "stream",
     "text": [
      "Interpolate progress: 100%|██████████| 23623/23623 [09:54<00:00, 39.75it/s] \n"
     ]
    }
   ],
   "source": [
    "tqdm.pandas(desc=\"Interpolate progress\")\n",
    "\n",
    "# create a new dataframe with min/max epoch of each satellite\n",
    "df = raw_df.groupby(by=\"NORAD_CAT_ID\").progress_apply(f)\n",
    "df.index = df.index.droplevel()"
   ]
  },
  {
   "cell_type": "code",
   "execution_count": 7,
   "metadata": {},
   "outputs": [
    {
     "data": {
      "text/html": [
       "<div>\n",
       "<style scoped>\n",
       "    .dataframe tbody tr th:only-of-type {\n",
       "        vertical-align: middle;\n",
       "    }\n",
       "\n",
       "    .dataframe tbody tr th {\n",
       "        vertical-align: top;\n",
       "    }\n",
       "\n",
       "    .dataframe thead th {\n",
       "        text-align: right;\n",
       "    }\n",
       "</style>\n",
       "<table border=\"1\" class=\"dataframe\">\n",
       "  <thead>\n",
       "    <tr style=\"text-align: right;\">\n",
       "      <th></th>\n",
       "      <th>NORAD_CAT_ID</th>\n",
       "      <th>PERIOD_x500</th>\n",
       "      <th>APOAPSIS_x20</th>\n",
       "      <th>PERIAPSIS_x20</th>\n",
       "    </tr>\n",
       "  </thead>\n",
       "  <tbody>\n",
       "    <tr>\n",
       "      <th>1987-12-22 00:00:00</th>\n",
       "      <td>12</td>\n",
       "      <td>63999</td>\n",
       "      <td>65535</td>\n",
       "      <td>11141</td>\n",
       "    </tr>\n",
       "    <tr>\n",
       "      <th>1987-12-23 12:00:00</th>\n",
       "      <td>12</td>\n",
       "      <td>63999</td>\n",
       "      <td>65535</td>\n",
       "      <td>11144</td>\n",
       "    </tr>\n",
       "    <tr>\n",
       "      <th>1987-12-25 00:00:00</th>\n",
       "      <td>12</td>\n",
       "      <td>63999</td>\n",
       "      <td>65535</td>\n",
       "      <td>11146</td>\n",
       "    </tr>\n",
       "    <tr>\n",
       "      <th>1987-12-26 12:00:00</th>\n",
       "      <td>12</td>\n",
       "      <td>63999</td>\n",
       "      <td>65535</td>\n",
       "      <td>11144</td>\n",
       "    </tr>\n",
       "  </tbody>\n",
       "</table>\n",
       "</div>"
      ],
      "text/plain": [
       "                     NORAD_CAT_ID  PERIOD_x500  APOAPSIS_x20  PERIAPSIS_x20\n",
       "1987-12-22 00:00:00            12        63999         65535          11141\n",
       "1987-12-23 12:00:00            12        63999         65535          11144\n",
       "1987-12-25 00:00:00            12        63999         65535          11146\n",
       "1987-12-26 12:00:00            12        63999         65535          11144"
      ]
     },
     "metadata": {},
     "output_type": "display_data"
    },
    {
     "name": "stdout",
     "output_type": "stream",
     "text": [
      "<class 'pandas.core.frame.DataFrame'>\n",
      "DatetimeIndex: 66533939 entries, 1987-12-22 00:00:00 to 2021-01-25 12:00:00\n",
      "Data columns (total 4 columns):\n",
      " #   Column         Dtype \n",
      "---  ------         ----- \n",
      " 0   NORAD_CAT_ID   uint16\n",
      " 1   PERIOD_x500    UInt16\n",
      " 2   APOAPSIS_x20   UInt16\n",
      " 3   PERIAPSIS_x20  UInt16\n",
      "dtypes: UInt16(3), uint16(1)\n",
      "memory usage: 1.2 GB\n"
     ]
    },
    {
     "data": {
      "text/plain": [
       "None"
      ]
     },
     "metadata": {},
     "output_type": "display_data"
    }
   ],
   "source": [
    "display(df.head(4))\n",
    "display(df.info())"
   ]
  },
  {
   "cell_type": "code",
   "execution_count": 8,
   "metadata": {},
   "outputs": [],
   "source": [
    "df.to_pickle(f\"{out_path}{out_file_name}\")"
   ]
  },
  {
   "cell_type": "code",
   "execution_count": 9,
   "metadata": {},
   "outputs": [
    {
     "data": {
      "text/plain": [
       "<AxesSubplot:>"
      ]
     },
     "execution_count": 9,
     "metadata": {},
     "output_type": "execute_result"
    },
    {
     "data": {
      "image/png": "[encoded data removed]",
      "text/plain": [
       "<Figure size 432x288 with 1 Axes>"
      ]
     },
     "metadata": {
      "needs_background": "light"
     },
     "output_type": "display_data"
    }
   ],
   "source": [
    "df.index.value_counts().plot()"
   ]
  }
 ],
 "metadata": {
  "kernelspec": {
   "display_name": "Python 3",
   "language": "python",
   "name": "python3"
  },
  "language_info": {
   "codemirror_mode": {
    "name": "ipython",
    "version": 3
   },
   "file_extension": ".py",
   "mimetype": "text/x-python",
   "name": "python",
   "nbconvert_exporter": "python",
   "pygments_lexer": "ipython3",
   "version": "3.8.5"
  }
 },
 "nbformat": 4,
 "nbformat_minor": 4
}
