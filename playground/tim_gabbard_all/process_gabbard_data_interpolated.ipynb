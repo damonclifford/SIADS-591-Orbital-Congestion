{
 "cells": [
  {
   "cell_type": "code",
   "execution_count": 1,
   "metadata": {},
   "outputs": [],
   "source": [
    "import pandas as pd\n",
    "import datetime\n",
    "import numpy as np\n",
    "\n",
    "# local file paths\n",
    "input_file_path = f'../../../siads591 data/filtered_raw/gabbard.pkl.gz'\n",
    "out_path = f'../../../siads591 data/processed_data/gabbard/'\n",
    "\n",
    "# freq = frequency of datapoints after reindexing\n",
    "# interpolate_lim = limits of interpolation based on the frequency\n",
    "#                   (1D frequency, 30 limit = 30 days 1 way, effectively a max of 60 days between points)\n",
    "# out_file_name = output file name\n",
    "\n",
    "freq, interpolate_lim, out_file_name = '1D', 45, 'gabbard_1D.pkl'\n",
    "# freq, interpolate_lim, out_file_name = '12H', 90, 'gabbard_12H.pkl'\n",
    "# freq, interpolate_lim, out_file_name = '5D', 12, 'gabbard_5D.pkl'"
   ]
  },
  {
   "cell_type": "code",
   "execution_count": 2,
   "metadata": {},
   "outputs": [],
   "source": [
    "raw_df = pd.read_pickle(f'{input_file_path}', compression=\"gzip\")"
   ]
  },
  {
   "cell_type": "code",
   "execution_count": 3,
   "metadata": {},
   "outputs": [
    {
     "data": {
      "text/html": [
       "<div>\n",
       "<style scoped>\n",
       "    .dataframe tbody tr th:only-of-type {\n",
       "        vertical-align: middle;\n",
       "    }\n",
       "\n",
       "    .dataframe tbody tr th {\n",
       "        vertical-align: top;\n",
       "    }\n",
       "\n",
       "    .dataframe thead th {\n",
       "        text-align: right;\n",
       "    }\n",
       "</style>\n",
       "<table border=\"1\" class=\"dataframe\">\n",
       "  <thead>\n",
       "    <tr style=\"text-align: right;\">\n",
       "      <th></th>\n",
       "      <th>NORAD_CAT_ID</th>\n",
       "      <th>PERIOD</th>\n",
       "      <th>APOAPSIS</th>\n",
       "      <th>PERIAPSIS</th>\n",
       "    </tr>\n",
       "    <tr>\n",
       "      <th>EPOCH</th>\n",
       "      <th></th>\n",
       "      <th></th>\n",
       "      <th></th>\n",
       "      <th></th>\n",
       "    </tr>\n",
       "  </thead>\n",
       "  <tbody>\n",
       "    <tr>\n",
       "      <th>2004-04-27 14:18:48.216960</th>\n",
       "      <td>18549</td>\n",
       "      <td>112.038002</td>\n",
       "      <td>1863.027954</td>\n",
       "      <td>777.705017</td>\n",
       "    </tr>\n",
       "    <tr>\n",
       "      <th>2004-04-27 15:59:40.727904</th>\n",
       "      <td>18727</td>\n",
       "      <td>113.903999</td>\n",
       "      <td>1474.209961</td>\n",
       "      <td>1336.979980</td>\n",
       "    </tr>\n",
       "    <tr>\n",
       "      <th>2004-04-27 19:45:13.686048</th>\n",
       "      <td>19027</td>\n",
       "      <td>103.922997</td>\n",
       "      <td>1006.145996</td>\n",
       "      <td>881.767029</td>\n",
       "    </tr>\n",
       "    <tr>\n",
       "      <th>2004-04-27 15:43:11.393472</th>\n",
       "      <td>19128</td>\n",
       "      <td>104.991997</td>\n",
       "      <td>1147.142944</td>\n",
       "      <td>841.101013</td>\n",
       "    </tr>\n",
       "  </tbody>\n",
       "</table>\n",
       "</div>"
      ],
      "text/plain": [
       "                            NORAD_CAT_ID      PERIOD     APOAPSIS    PERIAPSIS\n",
       "EPOCH                                                                         \n",
       "2004-04-27 14:18:48.216960         18549  112.038002  1863.027954   777.705017\n",
       "2004-04-27 15:59:40.727904         18727  113.903999  1474.209961  1336.979980\n",
       "2004-04-27 19:45:13.686048         19027  103.922997  1006.145996   881.767029\n",
       "2004-04-27 15:43:11.393472         19128  104.991997  1147.142944   841.101013"
      ]
     },
     "metadata": {},
     "output_type": "display_data"
    },
    {
     "name": "stdout",
     "output_type": "stream",
     "text": [
      "<class 'pandas.core.frame.DataFrame'>\n",
      "DatetimeIndex: 87875444 entries, 2004-04-27 14:18:48.216960 to 2021-01-25 23:08:08.404224\n",
      "Data columns (total 4 columns):\n",
      " #   Column        Dtype  \n",
      "---  ------        -----  \n",
      " 0   NORAD_CAT_ID  uint32 \n",
      " 1   PERIOD        float32\n",
      " 2   APOAPSIS      float32\n",
      " 3   PERIAPSIS     float32\n",
      "dtypes: float32(3), uint32(1)\n",
      "memory usage: 2.0 GB\n"
     ]
    },
    {
     "data": {
      "text/plain": [
       "None"
      ]
     },
     "metadata": {},
     "output_type": "display_data"
    }
   ],
   "source": [
    "display(raw_df.head(4))\n",
    "display(raw_df.info())"
   ]
  },
  {
   "cell_type": "code",
   "execution_count": null,
   "metadata": {},
   "outputs": [],
   "source": [
    "# create a new dataframe with min/max epoch of each satellite\n",
    "reindexed_df = raw_df.reset_index().groupby(by=\"NORAD_CAT_ID\").agg({'EPOCH':['min','max']})\n",
    "\n",
    "# rename columns and add a np.nan column\n",
    "reindexed_df.columns = [\"_\".join(x) for x in reindexed_df.columns.ravel()]\n",
    "reindexed_df['key'] = np.nan\n",
    "\n",
    "# generate valid EPOCH entries for each satellite\n",
    "reindexed_df = reindexed_df.reset_index().merge(pd.DataFrame({'EPOCH':pd.date_range(start=raw_df.index.floor(freq=freq).min(), end=raw_df.index.max(), freq=freq),'key':np.nan}),on='key').drop('key',1)\n",
    "reindexed_df = reindexed_df[(reindexed_df.EPOCH_min < reindexed_df.EPOCH) & (reindexed_df.EPOCH_max > reindexed_df.EPOCH)][['NORAD_CAT_ID','EPOCH']]\n",
    "\n",
    "# save this value for later use\n",
    "num_rows = len(reindexed_df)\n",
    "\n",
    "# combine the generated table with the raw data\n",
    "reindexed_df = reindexed_df.append(raw_df.reset_index(), ignore_index=True).sort_values(by=['NORAD_CAT_ID','EPOCH'])\n",
    "\n",
    "# interpolate values for the generate EPOCH\n",
    "reindexed_df = reindexed_df.interpolate(method='linear', limit_area=\"inside\", limit=interpolate_lim, limit_direction='both')\n",
    "\n",
    "# remove the raw data\n",
    "reindexed_df = reindexed_df[reindexed_df.index < num_rows]\n",
    "\n",
    "# set index\n",
    "reindexed_df = reindexed_df.set_index('EPOCH')"
   ]
  },
  {
   "cell_type": "code",
   "execution_count": null,
   "metadata": {},
   "outputs": [],
   "source": [
    "display(reindexed_df.head(4))\n",
    "display(reindexed_df.info())"
   ]
  },
  {
   "cell_type": "code",
   "execution_count": null,
   "metadata": {},
   "outputs": [],
   "source": [
    "reindexed_df.to_pickle(f\"{out_path}{out_file_name}\")"
   ]
  },
  {
   "cell_type": "code",
   "execution_count": null,
   "metadata": {},
   "outputs": [],
   "source": [
    "idx_vals = reindexed_df.index.value_counts()"
   ]
  },
  {
   "cell_type": "code",
   "execution_count": null,
   "metadata": {},
   "outputs": [],
   "source": [
    "idx_vals.plot()"
   ]
  }
 ],
 "metadata": {
  "kernelspec": {
   "display_name": "Python 3",
   "language": "python",
   "name": "python3"
  },
  "language_info": {
   "codemirror_mode": {
    "name": "ipython",
    "version": 3
   },
   "file_extension": ".py",
   "mimetype": "text/x-python",
   "name": "python",
   "nbconvert_exporter": "python",
   "pygments_lexer": "ipython3",
   "version": "3.8.5"
  }
 },
 "nbformat": 4,
 "nbformat_minor": 4
}
