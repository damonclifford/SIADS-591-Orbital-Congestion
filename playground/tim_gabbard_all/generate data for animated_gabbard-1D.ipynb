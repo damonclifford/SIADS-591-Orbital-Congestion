{
 "cells": [
  {
   "cell_type": "code",
   "execution_count": 1,
   "metadata": {},
   "outputs": [],
   "source": [
    "import pandas as pd\n",
    "import datetime\n",
    "path = f'../../../siads591 data/debris_yearly_gabbard_pkl/'"
   ]
  },
  {
   "cell_type": "code",
   "execution_count": 2,
   "metadata": {},
   "outputs": [
    {
     "name": "stdout",
     "output_type": "stream",
     "text": [
      "<class 'pandas.core.frame.DataFrame'>\n",
      "DatetimeIndex: 8221261 entries, 2007-01-01 00:03:24.443999 to 2009-12-31 23:59:57.716448\n",
      "Data columns (total 4 columns):\n",
      " #   Column        Dtype  \n",
      "---  ------        -----  \n",
      " 0   NORAD_CAT_ID  uint32 \n",
      " 1   PERIOD        float32\n",
      " 2   APOAPSIS      float32\n",
      " 3   PERIAPSIS     float32\n",
      "dtypes: float32(3), uint32(1)\n",
      "memory usage: 188.2 MB\n"
     ]
    }
   ],
   "source": [
    "dfs = []\n",
    "freq = '1D'\n",
    "# for y in range(1999,2002):\n",
    "for y in range(2007,2010):\n",
    "    df = pd.read_pickle(f'{path}{y}.pkl.gz', compression=\"gzip\")\n",
    "    dfs.append(df)\n",
    "raw_df = pd.concat(dfs)\n",
    "raw_df.info()"
   ]
  },
  {
   "cell_type": "code",
   "execution_count": 3,
   "metadata": {},
   "outputs": [
    {
     "name": "stdout",
     "output_type": "stream",
     "text": [
      "<class 'pandas.core.frame.DataFrame'>\n",
      "MultiIndex: 5764264 entries, (51, Timestamp('2007-01-01 00:00:00', freq='D')) to (36277, Timestamp('2009-12-29 00:00:00', freq='D'))\n",
      "Data columns (total 3 columns):\n",
      " #   Column     Dtype  \n",
      "---  ------     -----  \n",
      " 0   PERIOD     float32\n",
      " 1   APOAPSIS   float32\n",
      " 2   PERIAPSIS  float32\n",
      "dtypes: float32(3)\n",
      "memory usage: 88.0 MB\n"
     ]
    }
   ],
   "source": [
    "df = raw_df.reset_index().groupby(['NORAD_CAT_ID', pd.Grouper(key='EPOCH', freq=freq)]).mean()\n",
    "df.info()"
   ]
  },
  {
   "cell_type": "code",
   "execution_count": 4,
   "metadata": {},
   "outputs": [
    {
     "data": {
      "text/html": [
       "<div>\n",
       "<style scoped>\n",
       "    .dataframe tbody tr th:only-of-type {\n",
       "        vertical-align: middle;\n",
       "    }\n",
       "\n",
       "    .dataframe tbody tr th {\n",
       "        vertical-align: top;\n",
       "    }\n",
       "\n",
       "    .dataframe thead th {\n",
       "        text-align: right;\n",
       "    }\n",
       "</style>\n",
       "<table border=\"1\" class=\"dataframe\">\n",
       "  <thead>\n",
       "    <tr style=\"text-align: right;\">\n",
       "      <th></th>\n",
       "      <th>NORAD_CAT_ID</th>\n",
       "      <th>PERIOD</th>\n",
       "      <th>APOAPSIS</th>\n",
       "      <th>PERIAPSIS</th>\n",
       "    </tr>\n",
       "    <tr>\n",
       "      <th>EPOCH</th>\n",
       "      <th></th>\n",
       "      <th></th>\n",
       "      <th></th>\n",
       "      <th></th>\n",
       "    </tr>\n",
       "  </thead>\n",
       "  <tbody>\n",
       "    <tr>\n",
       "      <th>2007-01-01 00:03:24.443999</th>\n",
       "      <td>22433</td>\n",
       "      <td>101.310997</td>\n",
       "      <td>893.202026</td>\n",
       "      <td>748.330994</td>\n",
       "    </tr>\n",
       "    <tr>\n",
       "      <th>2007-01-01 00:03:55.360511</th>\n",
       "      <td>17026</td>\n",
       "      <td>104.476997</td>\n",
       "      <td>1026.788940</td>\n",
       "      <td>913.116028</td>\n",
       "    </tr>\n",
       "    <tr>\n",
       "      <th>2007-01-01 00:04:25.817376</th>\n",
       "      <td>4993</td>\n",
       "      <td>103.421997</td>\n",
       "      <td>991.815979</td>\n",
       "      <td>849.054993</td>\n",
       "    </tr>\n",
       "    <tr>\n",
       "      <th>2007-01-01 00:05:07.286784</th>\n",
       "      <td>26207</td>\n",
       "      <td>100.232002</td>\n",
       "      <td>864.067993</td>\n",
       "      <td>675.075012</td>\n",
       "    </tr>\n",
       "    <tr>\n",
       "      <th>2007-01-01 00:05:40.624224</th>\n",
       "      <td>22408</td>\n",
       "      <td>102.888000</td>\n",
       "      <td>994.833984</td>\n",
       "      <td>795.719971</td>\n",
       "    </tr>\n",
       "    <tr>\n",
       "      <th>...</th>\n",
       "      <td>...</td>\n",
       "      <td>...</td>\n",
       "      <td>...</td>\n",
       "      <td>...</td>\n",
       "    </tr>\n",
       "    <tr>\n",
       "      <th>2009-12-31 23:59:22.953408</th>\n",
       "      <td>8158</td>\n",
       "      <td>114.183998</td>\n",
       "      <td>1472.323975</td>\n",
       "      <td>1364.348022</td>\n",
       "    </tr>\n",
       "    <tr>\n",
       "      <th>2009-12-31 23:59:27.523968</th>\n",
       "      <td>34505</td>\n",
       "      <td>100.186996</td>\n",
       "      <td>780.598999</td>\n",
       "      <td>754.239014</td>\n",
       "    </tr>\n",
       "    <tr>\n",
       "      <th>2009-12-31 23:59:33.565056</th>\n",
       "      <td>31486</td>\n",
       "      <td>102.253998</td>\n",
       "      <td>882.645996</td>\n",
       "      <td>848.080994</td>\n",
       "    </tr>\n",
       "    <tr>\n",
       "      <th>2009-12-31 23:59:37.729535</th>\n",
       "      <td>27569</td>\n",
       "      <td>103.571999</td>\n",
       "      <td>953.062012</td>\n",
       "      <td>901.890991</td>\n",
       "    </tr>\n",
       "    <tr>\n",
       "      <th>2009-12-31 23:59:57.716448</th>\n",
       "      <td>34901</td>\n",
       "      <td>100.824997</td>\n",
       "      <td>849.096008</td>\n",
       "      <td>746.320007</td>\n",
       "    </tr>\n",
       "  </tbody>\n",
       "</table>\n",
       "<p>8221261 rows × 4 columns</p>\n",
       "</div>"
      ],
      "text/plain": [
       "                            NORAD_CAT_ID      PERIOD     APOAPSIS    PERIAPSIS\n",
       "EPOCH                                                                         \n",
       "2007-01-01 00:03:24.443999         22433  101.310997   893.202026   748.330994\n",
       "2007-01-01 00:03:55.360511         17026  104.476997  1026.788940   913.116028\n",
       "2007-01-01 00:04:25.817376          4993  103.421997   991.815979   849.054993\n",
       "2007-01-01 00:05:07.286784         26207  100.232002   864.067993   675.075012\n",
       "2007-01-01 00:05:40.624224         22408  102.888000   994.833984   795.719971\n",
       "...                                  ...         ...          ...          ...\n",
       "2009-12-31 23:59:22.953408          8158  114.183998  1472.323975  1364.348022\n",
       "2009-12-31 23:59:27.523968         34505  100.186996   780.598999   754.239014\n",
       "2009-12-31 23:59:33.565056         31486  102.253998   882.645996   848.080994\n",
       "2009-12-31 23:59:37.729535         27569  103.571999   953.062012   901.890991\n",
       "2009-12-31 23:59:57.716448         34901  100.824997   849.096008   746.320007\n",
       "\n",
       "[8221261 rows x 4 columns]"
      ]
     },
     "execution_count": 4,
     "metadata": {},
     "output_type": "execute_result"
    }
   ],
   "source": [
    "raw_df"
   ]
  },
  {
   "cell_type": "code",
   "execution_count": 5,
   "metadata": {},
   "outputs": [],
   "source": [
    "df = raw_df.reset_index().groupby(['NORAD_CAT_ID', pd.Grouper(key='EPOCH', freq=freq)]).mean()"
   ]
  },
  {
   "cell_type": "code",
   "execution_count": 6,
   "metadata": {},
   "outputs": [],
   "source": [
    "all_dates = pd.date_range(start=df.index.get_level_values(1).min(), end=df.index.get_level_values(1).max(), freq=freq)"
   ]
  },
  {
   "cell_type": "code",
   "execution_count": 7,
   "metadata": {},
   "outputs": [
    {
     "data": {
      "text/plain": [
       "DatetimeIndex(['2007-01-01', '2007-01-02', '2007-01-03', '2007-01-04',\n",
       "               '2007-01-05', '2007-01-06', '2007-01-07', '2007-01-08',\n",
       "               '2007-01-09', '2007-01-10',\n",
       "               ...\n",
       "               '2009-12-22', '2009-12-23', '2009-12-24', '2009-12-25',\n",
       "               '2009-12-26', '2009-12-27', '2009-12-28', '2009-12-29',\n",
       "               '2009-12-30', '2009-12-31'],\n",
       "              dtype='datetime64[ns]', length=1096, freq='D')"
      ]
     },
     "execution_count": 7,
     "metadata": {},
     "output_type": "execute_result"
    }
   ],
   "source": [
    "all_dates"
   ]
  },
  {
   "cell_type": "code",
   "execution_count": 8,
   "metadata": {},
   "outputs": [],
   "source": [
    "df2 = df.unstack(level=0).reindex(all_dates).interpolate(method='linear', limit_area=\"inside\", limit=30, limit_direction='both').stack().reset_index().rename(columns={'level_0':'EPOCH'})"
   ]
  },
  {
   "cell_type": "code",
   "execution_count": 9,
   "metadata": {},
   "outputs": [
    {
     "data": {
      "text/html": [
       "<div>\n",
       "<style scoped>\n",
       "    .dataframe tbody tr th:only-of-type {\n",
       "        vertical-align: middle;\n",
       "    }\n",
       "\n",
       "    .dataframe tbody tr th {\n",
       "        vertical-align: top;\n",
       "    }\n",
       "\n",
       "    .dataframe thead th {\n",
       "        text-align: right;\n",
       "    }\n",
       "</style>\n",
       "<table border=\"1\" class=\"dataframe\">\n",
       "  <thead>\n",
       "    <tr style=\"text-align: right;\">\n",
       "      <th></th>\n",
       "      <th>EPOCH</th>\n",
       "      <th>NORAD_CAT_ID</th>\n",
       "      <th>PERIOD</th>\n",
       "      <th>APOAPSIS</th>\n",
       "      <th>PERIAPSIS</th>\n",
       "    </tr>\n",
       "  </thead>\n",
       "  <tbody>\n",
       "    <tr>\n",
       "      <th>0</th>\n",
       "      <td>2007-01-01</td>\n",
       "      <td>51</td>\n",
       "      <td>118.208000</td>\n",
       "      <td>1681.223999</td>\n",
       "      <td>1519.645996</td>\n",
       "    </tr>\n",
       "    <tr>\n",
       "      <th>1</th>\n",
       "      <td>2007-01-01</td>\n",
       "      <td>53</td>\n",
       "      <td>118.320999</td>\n",
       "      <td>1685.048584</td>\n",
       "      <td>1526.050537</td>\n",
       "    </tr>\n",
       "    <tr>\n",
       "      <th>2</th>\n",
       "      <td>2007-01-01</td>\n",
       "      <td>85</td>\n",
       "      <td>104.206001</td>\n",
       "      <td>1342.460938</td>\n",
       "      <td>572.095459</td>\n",
       "    </tr>\n",
       "    <tr>\n",
       "      <th>3</th>\n",
       "      <td>2007-01-01</td>\n",
       "      <td>115</td>\n",
       "      <td>97.535004</td>\n",
       "      <td>669.490479</td>\n",
       "      <td>612.007996</td>\n",
       "    </tr>\n",
       "    <tr>\n",
       "      <th>4</th>\n",
       "      <td>2007-01-01</td>\n",
       "      <td>119</td>\n",
       "      <td>101.388000</td>\n",
       "      <td>903.093994</td>\n",
       "      <td>745.719971</td>\n",
       "    </tr>\n",
       "    <tr>\n",
       "      <th>...</th>\n",
       "      <td>...</td>\n",
       "      <td>...</td>\n",
       "      <td>...</td>\n",
       "      <td>...</td>\n",
       "      <td>...</td>\n",
       "    </tr>\n",
       "    <tr>\n",
       "      <th>7274244</th>\n",
       "      <td>2009-12-31</td>\n",
       "      <td>36092</td>\n",
       "      <td>101.236000</td>\n",
       "      <td>933.590454</td>\n",
       "      <td>700.828491</td>\n",
       "    </tr>\n",
       "    <tr>\n",
       "      <th>7274245</th>\n",
       "      <td>2009-12-31</td>\n",
       "      <td>36093</td>\n",
       "      <td>101.210999</td>\n",
       "      <td>933.750977</td>\n",
       "      <td>698.346985</td>\n",
       "    </tr>\n",
       "    <tr>\n",
       "      <th>7274246</th>\n",
       "      <td>2009-12-31</td>\n",
       "      <td>36099</td>\n",
       "      <td>101.939003</td>\n",
       "      <td>857.299988</td>\n",
       "      <td>843.664001</td>\n",
       "    </tr>\n",
       "    <tr>\n",
       "      <th>7274247</th>\n",
       "      <td>2009-12-31</td>\n",
       "      <td>36100</td>\n",
       "      <td>101.938004</td>\n",
       "      <td>857.721008</td>\n",
       "      <td>843.133972</td>\n",
       "    </tr>\n",
       "    <tr>\n",
       "      <th>7274248</th>\n",
       "      <td>2009-12-31</td>\n",
       "      <td>36134</td>\n",
       "      <td>95.204002</td>\n",
       "      <td>531.127991</td>\n",
       "      <td>525.848999</td>\n",
       "    </tr>\n",
       "  </tbody>\n",
       "</table>\n",
       "<p>7274249 rows × 5 columns</p>\n",
       "</div>"
      ],
      "text/plain": [
       "             EPOCH  NORAD_CAT_ID      PERIOD     APOAPSIS    PERIAPSIS\n",
       "0       2007-01-01            51  118.208000  1681.223999  1519.645996\n",
       "1       2007-01-01            53  118.320999  1685.048584  1526.050537\n",
       "2       2007-01-01            85  104.206001  1342.460938   572.095459\n",
       "3       2007-01-01           115   97.535004   669.490479   612.007996\n",
       "4       2007-01-01           119  101.388000   903.093994   745.719971\n",
       "...            ...           ...         ...          ...          ...\n",
       "7274244 2009-12-31         36092  101.236000   933.590454   700.828491\n",
       "7274245 2009-12-31         36093  101.210999   933.750977   698.346985\n",
       "7274246 2009-12-31         36099  101.939003   857.299988   843.664001\n",
       "7274247 2009-12-31         36100  101.938004   857.721008   843.133972\n",
       "7274248 2009-12-31         36134   95.204002   531.127991   525.848999\n",
       "\n",
       "[7274249 rows x 5 columns]"
      ]
     },
     "execution_count": 9,
     "metadata": {},
     "output_type": "execute_result"
    }
   ],
   "source": [
    "df2"
   ]
  },
  {
   "cell_type": "code",
   "execution_count": 10,
   "metadata": {},
   "outputs": [],
   "source": [
    "df2.to_pickle(f\"./gabbard_out_20072009_1d.pkl\")"
   ]
  }
 ],
 "metadata": {
  "kernelspec": {
   "display_name": "Python 3",
   "language": "python",
   "name": "python3"
  },
  "language_info": {
   "codemirror_mode": {
    "name": "ipython",
    "version": 3
   },
   "file_extension": ".py",
   "mimetype": "text/x-python",
   "name": "python",
   "nbconvert_exporter": "python",
   "pygments_lexer": "ipython3",
   "version": "3.8.5"
  }
 },
 "nbformat": 4,
 "nbformat_minor": 4
}
