{
 "cells": [
  {
   "cell_type": "code",
   "execution_count": 1,
   "metadata": {},
   "outputs": [],
   "source": [
    "import pandas as pd\n",
    "import datetime\n",
    "import numpy as np\n",
    "\n",
    "# local file paths\n",
    "input_path = f'../../../siads591 data/debris_yearly_gabbard_pkl/'\n",
    "out_path = f'../../../siads591 data/gabbard/'\n",
    "\n",
    "# start_year = first year file to look at\n",
    "# end_year = last year file to look at (inclusive)\n",
    "# freq = frequency of datapoints after reindexing\n",
    "# interpolate_lim = limits of interpolation based on the frequency\n",
    "#                   (1D frequency, 30 limit = 30 days 1 way, effectively a max of 60 days between points)\n",
    "# out_file_name = output file name\n",
    "\n",
    "# start_year, end_year, freq, interpolate_lim, out_file_name = 1960, 2021, '1D', 30, 'all_debris_1D.pkl'\n",
    "start_year, end_year, freq, interpolate_lim, out_file_name = 1960, 2021, '12H', 90, 'all_debris_12H.pkl'"
   ]
  },
  {
   "cell_type": "code",
   "execution_count": 2,
   "metadata": {},
   "outputs": [],
   "source": [
    "dfs = []\n",
    "for y in range(start_year,end_year+1):\n",
    "    df = pd.read_pickle(f'{input_path}{y}.pkl.gz', compression=\"gzip\")\n",
    "    dfs.append(df)\n",
    "raw_df = pd.concat(dfs)"
   ]
  },
  {
   "cell_type": "code",
   "execution_count": 3,
   "metadata": {},
   "outputs": [
    {
     "data": {
      "text/html": [
       "<div>\n",
       "<style scoped>\n",
       "    .dataframe tbody tr th:only-of-type {\n",
       "        vertical-align: middle;\n",
       "    }\n",
       "\n",
       "    .dataframe tbody tr th {\n",
       "        vertical-align: top;\n",
       "    }\n",
       "\n",
       "    .dataframe thead th {\n",
       "        text-align: right;\n",
       "    }\n",
       "</style>\n",
       "<table border=\"1\" class=\"dataframe\">\n",
       "  <thead>\n",
       "    <tr style=\"text-align: right;\">\n",
       "      <th></th>\n",
       "      <th>NORAD_CAT_ID</th>\n",
       "      <th>PERIOD</th>\n",
       "      <th>APOAPSIS</th>\n",
       "      <th>PERIAPSIS</th>\n",
       "    </tr>\n",
       "    <tr>\n",
       "      <th>EPOCH</th>\n",
       "      <th></th>\n",
       "      <th></th>\n",
       "      <th></th>\n",
       "      <th></th>\n",
       "    </tr>\n",
       "  </thead>\n",
       "  <tbody>\n",
       "    <tr>\n",
       "      <th>1960-08-16 11:33:28.410048</th>\n",
       "      <td>51</td>\n",
       "      <td>118.248001</td>\n",
       "      <td>1690.036987</td>\n",
       "      <td>1514.431030</td>\n",
       "    </tr>\n",
       "    <tr>\n",
       "      <th>1960-08-16 11:41:13.296480</th>\n",
       "      <td>53</td>\n",
       "      <td>118.405998</td>\n",
       "      <td>1697.227051</td>\n",
       "      <td>1521.487061</td>\n",
       "    </tr>\n",
       "    <tr>\n",
       "      <th>1960-08-24 16:39:55.734048</th>\n",
       "      <td>51</td>\n",
       "      <td>118.286003</td>\n",
       "      <td>1690.285034</td>\n",
       "      <td>1517.640015</td>\n",
       "    </tr>\n",
       "    <tr>\n",
       "      <th>1960-08-24 16:52:59.167775</th>\n",
       "      <td>53</td>\n",
       "      <td>118.390999</td>\n",
       "      <td>1695.915039</td>\n",
       "      <td>1521.487061</td>\n",
       "    </tr>\n",
       "    <tr>\n",
       "      <th>1960-09-18 07:20:01.794048</th>\n",
       "      <td>51</td>\n",
       "      <td>118.246002</td>\n",
       "      <td>1689.970947</td>\n",
       "      <td>1514.365967</td>\n",
       "    </tr>\n",
       "    <tr>\n",
       "      <th>...</th>\n",
       "      <td>...</td>\n",
       "      <td>...</td>\n",
       "      <td>...</td>\n",
       "      <td>...</td>\n",
       "    </tr>\n",
       "    <tr>\n",
       "      <th>2021-01-18 21:54:04.595616</th>\n",
       "      <td>29110</td>\n",
       "      <td>97.584999</td>\n",
       "      <td>644.786011</td>\n",
       "      <td>641.546997</td>\n",
       "    </tr>\n",
       "    <tr>\n",
       "      <th>2021-01-18 22:33:11.999808</th>\n",
       "      <td>40274</td>\n",
       "      <td>96.713997</td>\n",
       "      <td>1046.178955</td>\n",
       "      <td>156.429001</td>\n",
       "    </tr>\n",
       "    <tr>\n",
       "      <th>2021-01-18 22:41:27.647232</th>\n",
       "      <td>39357</td>\n",
       "      <td>98.055000</td>\n",
       "      <td>671.218018</td>\n",
       "      <td>660.156006</td>\n",
       "    </tr>\n",
       "    <tr>\n",
       "      <th>2021-01-18 23:36:21.428640</th>\n",
       "      <td>152</td>\n",
       "      <td>102.179001</td>\n",
       "      <td>968.398010</td>\n",
       "      <td>755.263000</td>\n",
       "    </tr>\n",
       "    <tr>\n",
       "      <th>2021-01-19 00:11:17.669760</th>\n",
       "      <td>47308</td>\n",
       "      <td>90.311996</td>\n",
       "      <td>381.122009</td>\n",
       "      <td>198.522003</td>\n",
       "    </tr>\n",
       "  </tbody>\n",
       "</table>\n",
       "<p>76588309 rows × 4 columns</p>\n",
       "</div>"
      ],
      "text/plain": [
       "                            NORAD_CAT_ID      PERIOD     APOAPSIS    PERIAPSIS\n",
       "EPOCH                                                                         \n",
       "1960-08-16 11:33:28.410048            51  118.248001  1690.036987  1514.431030\n",
       "1960-08-16 11:41:13.296480            53  118.405998  1697.227051  1521.487061\n",
       "1960-08-24 16:39:55.734048            51  118.286003  1690.285034  1517.640015\n",
       "1960-08-24 16:52:59.167775            53  118.390999  1695.915039  1521.487061\n",
       "1960-09-18 07:20:01.794048            51  118.246002  1689.970947  1514.365967\n",
       "...                                  ...         ...          ...          ...\n",
       "2021-01-18 21:54:04.595616         29110   97.584999   644.786011   641.546997\n",
       "2021-01-18 22:33:11.999808         40274   96.713997  1046.178955   156.429001\n",
       "2021-01-18 22:41:27.647232         39357   98.055000   671.218018   660.156006\n",
       "2021-01-18 23:36:21.428640           152  102.179001   968.398010   755.263000\n",
       "2021-01-19 00:11:17.669760         47308   90.311996   381.122009   198.522003\n",
       "\n",
       "[76588309 rows x 4 columns]"
      ]
     },
     "metadata": {},
     "output_type": "display_data"
    },
    {
     "data": {
      "text/plain": [
       "NORAD_CAT_ID     uint32\n",
       "PERIOD          float32\n",
       "APOAPSIS        float32\n",
       "PERIAPSIS       float32\n",
       "dtype: object"
      ]
     },
     "metadata": {},
     "output_type": "display_data"
    },
    {
     "name": "stdout",
     "output_type": "stream",
     "text": [
      "<class 'pandas.core.frame.DataFrame'>\n",
      "DatetimeIndex: 76588309 entries, 1960-08-16 11:33:28.410048 to 2021-01-19 00:11:17.669760\n",
      "Data columns (total 4 columns):\n",
      " #   Column        Dtype  \n",
      "---  ------        -----  \n",
      " 0   NORAD_CAT_ID  uint32 \n",
      " 1   PERIOD        float32\n",
      " 2   APOAPSIS      float32\n",
      " 3   PERIAPSIS     float32\n",
      "dtypes: float32(3), uint32(1)\n",
      "memory usage: 1.7 GB\n"
     ]
    },
    {
     "data": {
      "text/plain": [
       "None"
      ]
     },
     "metadata": {},
     "output_type": "display_data"
    }
   ],
   "source": [
    "display(raw_df)\n",
    "display(raw_df.dtypes)\n",
    "display(raw_df.info())"
   ]
  },
  {
   "cell_type": "code",
   "execution_count": 4,
   "metadata": {},
   "outputs": [],
   "source": [
    "# create a new dataframe with min/max epoch of each satellite\n",
    "reindexed_df = raw_df.reset_index().groupby(by=\"NORAD_CAT_ID\").agg({'EPOCH':['min','max']})\n",
    "\n",
    "# rename columns and add a np.nan column\n",
    "reindexed_df.columns = [\"_\".join(x) for x in reindexed_df.columns.ravel()]\n",
    "reindexed_df['key'] = np.nan\n",
    "\n",
    "# generate valid EPOCH entries for each satellite\n",
    "reindexed_df = reindexed_df.reset_index().merge(pd.DataFrame({'EPOCH':pd.date_range(start=raw_df.index.floor(freq=freq).min(), end=raw_df.index.max(), freq=freq),'key':np.nan}),on='key').drop('key',1)\n",
    "reindexed_df = reindexed_df[(reindexed_df.EPOCH_min < reindexed_df.EPOCH) & (reindexed_df.EPOCH_max > reindexed_df.EPOCH)][['NORAD_CAT_ID','EPOCH']]\n",
    "\n",
    "# save this value for later use\n",
    "num_rows = len(reindexed_df)\n",
    "\n",
    "# combine the generated table with the raw data\n",
    "reindexed_df = reindexed_df.append(raw_df.reset_index(), ignore_index=True).sort_values(by=['NORAD_CAT_ID','EPOCH'])\n",
    "\n",
    "# interpolate values for the generate EPOCH\n",
    "reindexed_df = reindexed_df.interpolate(method='linear', limit_area=\"inside\", limit=interpolate_lim, limit_direction='both')\n",
    "\n",
    "# remove the raw data\n",
    "reindexed_df = reindexed_df[reindexed_df.index < num_rows]\n",
    "\n",
    "# set index\n",
    "reindexed_df = reindexed_df.set_index('EPOCH')"
   ]
  },
  {
   "cell_type": "code",
   "execution_count": 5,
   "metadata": {},
   "outputs": [
    {
     "data": {
      "text/html": [
       "<div>\n",
       "<style scoped>\n",
       "    .dataframe tbody tr th:only-of-type {\n",
       "        vertical-align: middle;\n",
       "    }\n",
       "\n",
       "    .dataframe tbody tr th {\n",
       "        vertical-align: top;\n",
       "    }\n",
       "\n",
       "    .dataframe thead th {\n",
       "        text-align: right;\n",
       "    }\n",
       "</style>\n",
       "<table border=\"1\" class=\"dataframe\">\n",
       "  <thead>\n",
       "    <tr style=\"text-align: right;\">\n",
       "      <th></th>\n",
       "      <th>NORAD_CAT_ID</th>\n",
       "      <th>PERIOD</th>\n",
       "      <th>APOAPSIS</th>\n",
       "      <th>PERIAPSIS</th>\n",
       "    </tr>\n",
       "    <tr>\n",
       "      <th>EPOCH</th>\n",
       "      <th></th>\n",
       "      <th></th>\n",
       "      <th></th>\n",
       "      <th></th>\n",
       "    </tr>\n",
       "  </thead>\n",
       "  <tbody>\n",
       "    <tr>\n",
       "      <th>1960-08-16 12:00:00</th>\n",
       "      <td>51</td>\n",
       "      <td>118.250114</td>\n",
       "      <td>1690.050781</td>\n",
       "      <td>1514.609253</td>\n",
       "    </tr>\n",
       "    <tr>\n",
       "      <th>1960-08-17 00:00:00</th>\n",
       "      <td>51</td>\n",
       "      <td>118.252220</td>\n",
       "      <td>1690.064575</td>\n",
       "      <td>1514.787598</td>\n",
       "    </tr>\n",
       "    <tr>\n",
       "      <th>1960-08-17 12:00:00</th>\n",
       "      <td>51</td>\n",
       "      <td>118.254333</td>\n",
       "      <td>1690.078369</td>\n",
       "      <td>1514.965820</td>\n",
       "    </tr>\n",
       "    <tr>\n",
       "      <th>1960-08-18 00:00:00</th>\n",
       "      <td>51</td>\n",
       "      <td>118.256447</td>\n",
       "      <td>1690.092163</td>\n",
       "      <td>1515.144165</td>\n",
       "    </tr>\n",
       "    <tr>\n",
       "      <th>1960-08-18 12:00:00</th>\n",
       "      <td>51</td>\n",
       "      <td>118.258560</td>\n",
       "      <td>1690.105835</td>\n",
       "      <td>1515.322388</td>\n",
       "    </tr>\n",
       "    <tr>\n",
       "      <th>...</th>\n",
       "      <td>...</td>\n",
       "      <td>...</td>\n",
       "      <td>...</td>\n",
       "      <td>...</td>\n",
       "    </tr>\n",
       "    <tr>\n",
       "      <th>2021-01-17 00:00:00</th>\n",
       "      <td>47308</td>\n",
       "      <td>90.419502</td>\n",
       "      <td>390.523010</td>\n",
       "      <td>199.667999</td>\n",
       "    </tr>\n",
       "    <tr>\n",
       "      <th>2021-01-17 12:00:00</th>\n",
       "      <td>47308</td>\n",
       "      <td>90.390999</td>\n",
       "      <td>387.849670</td>\n",
       "      <td>199.550003</td>\n",
       "    </tr>\n",
       "    <tr>\n",
       "      <th>2021-01-18 00:00:00</th>\n",
       "      <td>47308</td>\n",
       "      <td>90.377998</td>\n",
       "      <td>386.702332</td>\n",
       "      <td>199.403992</td>\n",
       "    </tr>\n",
       "    <tr>\n",
       "      <th>2021-01-18 12:00:00</th>\n",
       "      <td>47308</td>\n",
       "      <td>90.334000</td>\n",
       "      <td>382.877014</td>\n",
       "      <td>198.890503</td>\n",
       "    </tr>\n",
       "    <tr>\n",
       "      <th>2021-01-19 00:00:00</th>\n",
       "      <td>47308</td>\n",
       "      <td>90.315498</td>\n",
       "      <td>381.350525</td>\n",
       "      <td>198.606995</td>\n",
       "    </tr>\n",
       "  </tbody>\n",
       "</table>\n",
       "<p>175928314 rows × 4 columns</p>\n",
       "</div>"
      ],
      "text/plain": [
       "                     NORAD_CAT_ID      PERIOD     APOAPSIS    PERIAPSIS\n",
       "EPOCH                                                                  \n",
       "1960-08-16 12:00:00            51  118.250114  1690.050781  1514.609253\n",
       "1960-08-17 00:00:00            51  118.252220  1690.064575  1514.787598\n",
       "1960-08-17 12:00:00            51  118.254333  1690.078369  1514.965820\n",
       "1960-08-18 00:00:00            51  118.256447  1690.092163  1515.144165\n",
       "1960-08-18 12:00:00            51  118.258560  1690.105835  1515.322388\n",
       "...                           ...         ...          ...          ...\n",
       "2021-01-17 00:00:00         47308   90.419502   390.523010   199.667999\n",
       "2021-01-17 12:00:00         47308   90.390999   387.849670   199.550003\n",
       "2021-01-18 00:00:00         47308   90.377998   386.702332   199.403992\n",
       "2021-01-18 12:00:00         47308   90.334000   382.877014   198.890503\n",
       "2021-01-19 00:00:00         47308   90.315498   381.350525   198.606995\n",
       "\n",
       "[175928314 rows x 4 columns]"
      ]
     },
     "metadata": {},
     "output_type": "display_data"
    },
    {
     "data": {
      "text/plain": [
       "NORAD_CAT_ID     uint64\n",
       "PERIOD          float32\n",
       "APOAPSIS        float32\n",
       "PERIAPSIS       float32\n",
       "dtype: object"
      ]
     },
     "metadata": {},
     "output_type": "display_data"
    },
    {
     "name": "stdout",
     "output_type": "stream",
     "text": [
      "<class 'pandas.core.frame.DataFrame'>\n",
      "DatetimeIndex: 175928314 entries, 1960-08-16 12:00:00 to 2021-01-19 00:00:00\n",
      "Data columns (total 4 columns):\n",
      " #   Column        Dtype  \n",
      "---  ------        -----  \n",
      " 0   NORAD_CAT_ID  uint64 \n",
      " 1   PERIOD        float32\n",
      " 2   APOAPSIS      float32\n",
      " 3   PERIAPSIS     float32\n",
      "dtypes: float32(3), uint64(1)\n",
      "memory usage: 4.6 GB\n"
     ]
    },
    {
     "data": {
      "text/plain": [
       "None"
      ]
     },
     "metadata": {},
     "output_type": "display_data"
    }
   ],
   "source": [
    "display(reindexed_df)\n",
    "display(reindexed_df.dtypes)\n",
    "display(reindexed_df.info())"
   ]
  },
  {
   "cell_type": "code",
   "execution_count": 6,
   "metadata": {},
   "outputs": [],
   "source": [
    "reindexed_df.to_pickle(f\"{out_path}{out_file_name}\")"
   ]
  },
  {
   "cell_type": "code",
   "execution_count": 8,
   "metadata": {},
   "outputs": [],
   "source": [
    "idx_vals = reindexed_df.index.value_counts()"
   ]
  },
  {
   "cell_type": "code",
   "execution_count": 9,
   "metadata": {},
   "outputs": [
    {
     "data": {
      "text/plain": [
       "<AxesSubplot:>"
      ]
     },
     "execution_count": 9,
     "metadata": {},
     "output_type": "execute_result"
    },
    {
     "data": {
      "image/png": "[encoded data removed]",
      "text/plain": [
       "<Figure size 432x288 with 1 Axes>"
      ]
     },
     "metadata": {
      "needs_background": "light"
     },
     "output_type": "display_data"
    }
   ],
   "source": [
    "idx_vals.plot()"
   ]
  }
 ],
 "metadata": {
  "kernelspec": {
   "display_name": "Python 3",
   "language": "python",
   "name": "python3"
  },
  "language_info": {
   "codemirror_mode": {
    "name": "ipython",
    "version": 3
   },
   "file_extension": ".py",
   "mimetype": "text/x-python",
   "name": "python",
   "nbconvert_exporter": "python",
   "pygments_lexer": "ipython3",
   "version": "3.8.5"
  }
 },
 "nbformat": 4,
 "nbformat_minor": 4
}
