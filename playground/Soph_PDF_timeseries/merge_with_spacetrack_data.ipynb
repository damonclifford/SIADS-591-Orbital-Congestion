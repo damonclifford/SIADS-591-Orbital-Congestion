{
 "cells": [
  {
   "cell_type": "code",
   "execution_count": 12,
   "metadata": {},
   "outputs": [],
   "source": [
    "import pandas as pd\n",
    "import datetime"
   ]
  },
  {
   "cell_type": "code",
   "execution_count": 13,
   "metadata": {},
   "outputs": [],
   "source": [
    "df1 = pd.read_csv(\"./satellite_breakup(from PDF).csv\")\n",
    "df1[[\"LAUNCH DATE\", \"BREAKUP DATE\"]] = df1[[\"LAUNCH DATE\", \"BREAKUP DATE\"]].apply(pd.to_datetime)\n",
    "df1[\"launch_designator\"] = df1[\"INTERNATIONAL DESIGNATOR\"].str.slice(stop=8)\n",
    "df1 = df1[['SATELLITE NAME', 'INTERNATIONAL DESIGNATOR', 'US SATELLITE NUMBER', 'LAUNCH DATE', 'BREAKUP DATE', 'DEBRIS CATALOGED', 'DEBRIS ON-ORBIT', 'launch_designator']]\n",
    "\n",
    "df2 = pd.read_csv(\"../satcat_all.csv\")\n",
    "df2[[\"DEBUT\", \"DECAY\", \"LAUNCH\"]] = df2[[\"DEBUT\", \"DECAY\", \"LAUNCH\"]].apply(pd.to_datetime)\n",
    "df2[\"launch_designator\"] = df2.INTLDES.str.slice(stop=8)\n",
    "df2 = df2[['INTLDES', 'NORAD_CAT_ID', 'OBJECT_TYPE', 'SATNAME', 'DEBUT', 'LAUNCH', 'DECAY', 'launch_designator']]"
   ]
  },
  {
   "cell_type": "code",
   "execution_count": 14,
   "metadata": {},
   "outputs": [],
   "source": [
    "def fix_date(x):\n",
    "    if x.year > 2056:\n",
    "        year = x.year - 100\n",
    "    else:\n",
    "        year = x.year\n",
    "    return datetime.date(year,x.month,x.day)\n",
    "\n",
    "# dates < 1969 are parsed as 20xx, fix it\n",
    "df1['BREAKUP DATE'] = df1['BREAKUP DATE'].apply(fix_date)\n",
    "df1['LAUNCH DATE'] = df1['LAUNCH DATE'].apply(fix_date)"
   ]
  },
  {
   "cell_type": "markdown",
   "metadata": {},
   "source": [
    "US SATELLITE NUMBER == NORAD_CAT_ID\n",
    "\n",
    "Check if PDF data includes anything that doesn't exist in SATCAT\n",
    "\n",
    "NOPE! That's great"
   ]
  },
  {
   "cell_type": "code",
   "execution_count": 43,
   "metadata": {},
   "outputs": [
    {
     "data": {
      "text/html": [
       "<div>\n",
       "<style scoped>\n",
       "    .dataframe tbody tr th:only-of-type {\n",
       "        vertical-align: middle;\n",
       "    }\n",
       "\n",
       "    .dataframe tbody tr th {\n",
       "        vertical-align: top;\n",
       "    }\n",
       "\n",
       "    .dataframe thead th {\n",
       "        text-align: right;\n",
       "    }\n",
       "</style>\n",
       "<table border=\"1\" class=\"dataframe\">\n",
       "  <thead>\n",
       "    <tr style=\"text-align: right;\">\n",
       "      <th></th>\n",
       "      <th>SATELLITE NAME</th>\n",
       "      <th>INTERNATIONAL DESIGNATOR</th>\n",
       "      <th>US SATELLITE NUMBER</th>\n",
       "      <th>LAUNCH DATE</th>\n",
       "      <th>BREAKUP DATE</th>\n",
       "      <th>DEBRIS CATALOGED</th>\n",
       "      <th>DEBRIS ON-ORBIT</th>\n",
       "      <th>launch_designator</th>\n",
       "    </tr>\n",
       "  </thead>\n",
       "  <tbody>\n",
       "  </tbody>\n",
       "</table>\n",
       "</div>"
      ],
      "text/plain": [
       "Empty DataFrame\n",
       "Columns: [SATELLITE NAME, INTERNATIONAL DESIGNATOR, US SATELLITE NUMBER, LAUNCH DATE, BREAKUP DATE, DEBRIS CATALOGED, DEBRIS ON-ORBIT, launch_designator]\n",
       "Index: []"
      ]
     },
     "execution_count": 43,
     "metadata": {},
     "output_type": "execute_result"
    }
   ],
   "source": [
    "df1[~df1[\"US SATELLITE NUMBER\"].isin(df2.NORAD_CAT_ID.values)]\n",
    "# 0 rows = everything matches up"
   ]
  },
  {
   "cell_type": "markdown",
   "metadata": {},
   "source": [
    "As seen below, there are 13 incidents where the same launch had 2 documented breakup dates. Unfortunately we cannot assign the proper breakup date for debris generated from these events. However, there aren't too many of these debris, we may be able to get away with assigning 1 of the breakup dates to all debris with the same starting launch designator."
   ]
  },
  {
   "cell_type": "code",
   "execution_count": 44,
   "metadata": {},
   "outputs": [
    {
     "data": {
      "text/plain": [
       "2008-067    2\n",
       "1989-001    2\n",
       "2002-037    2\n",
       "1990-045    2\n",
       "1984-011    2\n",
       "1990-110    2\n",
       "1987-079    2\n",
       "1992-047    2\n",
       "2010-007    2\n",
       "1999-057    2\n",
       "1986-069    2\n",
       "1988-085    2\n",
       "1991-025    2\n",
       "Name: launch_designator, dtype: int64"
      ]
     },
     "execution_count": 44,
     "metadata": {},
     "output_type": "execute_result"
    }
   ],
   "source": [
    "t = df1.launch_designator.value_counts()\n",
    "t[t>=2]"
   ]
  },
  {
   "cell_type": "code",
   "execution_count": 45,
   "metadata": {},
   "outputs": [],
   "source": [
    "combined = df2.merge(df1[[\"launch_designator\",\"BREAKUP DATE\"]], how=\"left\", left_on=\"launch_designator\", right_on=\"launch_designator\")\n",
    "# combined[(combined.OBJECT_TYPE==\"DEBRIS\") & combined[\"BREAKUP DATE\"].notnull()]\n",
    "# combined[(combined.OBJECT_TYPE==\"DEBRIS\") & combined[\"BREAKUP DATE\"].isnull()]"
   ]
  },
  {
   "cell_type": "markdown",
   "metadata": {},
   "source": [
    "All relevant data is now combined int he `combined` dataframe.  We just need to select the correct date to use with the following rules:\n",
    "1. For non-DEBRIS, we can use the LAUNCH\n",
    "1. For debris listed in the PDF file, we should use `BREAKUP DATE`\n",
    "1. If the `DEBUT` is earlier than `DECAY`, we can probably trust it\n",
    "1. If it `DEBUT` later than 2004, we can also trust it since these are reported to space track as soon as they are spotted\n",
    "1. if a debris `DECAYED` within 1 year of `LAUNCH`, let's just assumed that it was created on launch, ok? :)"
   ]
  },
  {
   "cell_type": "code",
   "execution_count": 46,
   "metadata": {},
   "outputs": [],
   "source": [
    "# For non-DEBRIS, we can use the LAUNCH\n",
    "combined.loc[(combined.OBJECT_TYPE!=\"DEBRIS\"),\"exist_date\"] = combined.LAUNCH"
   ]
  },
  {
   "cell_type": "code",
   "execution_count": 47,
   "metadata": {},
   "outputs": [],
   "source": [
    "# For debris listed in the PDF file, we should use BREAKUP DATE\n",
    "combined.loc[((combined.OBJECT_TYPE==\"DEBRIS\") & combined[\"BREAKUP DATE\"].notnull()),\"exist_date\"] = combined[\"BREAKUP DATE\"]"
   ]
  },
  {
   "cell_type": "code",
   "execution_count": 48,
   "metadata": {},
   "outputs": [],
   "source": [
    "# If the `DEBUT` is earlier than `DECAY`, we can probably trust it\n",
    "combined.loc[((combined.OBJECT_TYPE==\"DEBRIS\") & combined[\"exist_date\"].isnull() & (combined.DECAY > combined.DEBUT)),\"exist_date\"] = combined.DEBUT"
   ]
  },
  {
   "cell_type": "code",
   "execution_count": 50,
   "metadata": {},
   "outputs": [],
   "source": [
    "# If it `DEBUT` later than 2004, we can also trust it since these are reported to space track as soon as they are spotted\n",
    "combined.loc[((combined.OBJECT_TYPE==\"DEBRIS\") & combined[\"exist_date\"].isnull() & (combined.DEBUT > \"2004\")),\"exist_date\"] = combined.DEBUT"
   ]
  },
  {
   "cell_type": "code",
   "execution_count": 59,
   "metadata": {},
   "outputs": [],
   "source": [
    "# if a debris DECAYED within 1 year, let's just assumed that it was created on launch, ok? :)\n",
    "combined.loc[(combined[\"exist_date\"].isnull() & (combined.DECAY - combined.LAUNCH < datetime.timedelta(days=365))),\"exist_date\"] = combined.LAUNCH"
   ]
  },
  {
   "cell_type": "code",
   "execution_count": 60,
   "metadata": {},
   "outputs": [
    {
     "data": {
      "text/html": [
       "<div>\n",
       "<style scoped>\n",
       "    .dataframe tbody tr th:only-of-type {\n",
       "        vertical-align: middle;\n",
       "    }\n",
       "\n",
       "    .dataframe tbody tr th {\n",
       "        vertical-align: top;\n",
       "    }\n",
       "\n",
       "    .dataframe thead th {\n",
       "        text-align: right;\n",
       "    }\n",
       "</style>\n",
       "<table border=\"1\" class=\"dataframe\">\n",
       "  <thead>\n",
       "    <tr style=\"text-align: right;\">\n",
       "      <th></th>\n",
       "      <th>INTLDES</th>\n",
       "      <th>NORAD_CAT_ID</th>\n",
       "      <th>OBJECT_TYPE</th>\n",
       "      <th>SATNAME</th>\n",
       "      <th>DEBUT</th>\n",
       "      <th>LAUNCH</th>\n",
       "      <th>DECAY</th>\n",
       "      <th>launch_designator</th>\n",
       "      <th>BREAKUP DATE</th>\n",
       "      <th>exist_date</th>\n",
       "    </tr>\n",
       "  </thead>\n",
       "  <tbody>\n",
       "    <tr>\n",
       "      <th>16</th>\n",
       "      <td>1959-001C</td>\n",
       "      <td>5807</td>\n",
       "      <td>DEBRIS</td>\n",
       "      <td>VANGUARD DEB</td>\n",
       "      <td>2002-01-13</td>\n",
       "      <td>1959-02-17</td>\n",
       "      <td>1982-11-22</td>\n",
       "      <td>1959-001</td>\n",
       "      <td>NaN</td>\n",
       "      <td>NaT</td>\n",
       "    </tr>\n",
       "    <tr>\n",
       "      <th>49</th>\n",
       "      <td>1960-005D</td>\n",
       "      <td>37</td>\n",
       "      <td>DEBRIS</td>\n",
       "      <td>SPUTNIK 4 DEB</td>\n",
       "      <td>2002-01-13</td>\n",
       "      <td>1960-05-15</td>\n",
       "      <td>1961-06-30</td>\n",
       "      <td>1960-005</td>\n",
       "      <td>NaN</td>\n",
       "      <td>NaT</td>\n",
       "    </tr>\n",
       "    <tr>\n",
       "      <th>76</th>\n",
       "      <td>1960-014C</td>\n",
       "      <td>69</td>\n",
       "      <td>DEBRIS</td>\n",
       "      <td>JUNO II DEB</td>\n",
       "      <td>2002-01-13</td>\n",
       "      <td>1960-11-03</td>\n",
       "      <td>1970-02-16</td>\n",
       "      <td>1960-014</td>\n",
       "      <td>NaN</td>\n",
       "      <td>NaT</td>\n",
       "    </tr>\n",
       "    <tr>\n",
       "      <th>77</th>\n",
       "      <td>1960-014D</td>\n",
       "      <td>105</td>\n",
       "      <td>DEBRIS</td>\n",
       "      <td>JUNO II DEB</td>\n",
       "      <td>2002-01-13</td>\n",
       "      <td>1960-11-03</td>\n",
       "      <td>1972-03-03</td>\n",
       "      <td>1960-014</td>\n",
       "      <td>NaN</td>\n",
       "      <td>NaT</td>\n",
       "    </tr>\n",
       "    <tr>\n",
       "      <th>101</th>\n",
       "      <td>1961-004E</td>\n",
       "      <td>3738</td>\n",
       "      <td>DEBRIS</td>\n",
       "      <td>SCOUT X-1 DEB</td>\n",
       "      <td>2002-01-13</td>\n",
       "      <td>1961-02-16</td>\n",
       "      <td>1982-03-29</td>\n",
       "      <td>1961-004</td>\n",
       "      <td>NaN</td>\n",
       "      <td>NaT</td>\n",
       "    </tr>\n",
       "    <tr>\n",
       "      <th>...</th>\n",
       "      <td>...</td>\n",
       "      <td>...</td>\n",
       "      <td>...</td>\n",
       "      <td>...</td>\n",
       "      <td>...</td>\n",
       "      <td>...</td>\n",
       "      <td>...</td>\n",
       "      <td>...</td>\n",
       "      <td>...</td>\n",
       "      <td>...</td>\n",
       "    </tr>\n",
       "    <tr>\n",
       "      <th>35964</th>\n",
       "      <td>1999-028G</td>\n",
       "      <td>25751</td>\n",
       "      <td>DEBRIS</td>\n",
       "      <td>USA 144 DEB</td>\n",
       "      <td>2002-01-13</td>\n",
       "      <td>1999-05-22</td>\n",
       "      <td>NaT</td>\n",
       "      <td>1999-028</td>\n",
       "      <td>NaN</td>\n",
       "      <td>NaT</td>\n",
       "    </tr>\n",
       "    <tr>\n",
       "      <th>35966</th>\n",
       "      <td>1999-028J</td>\n",
       "      <td>25753</td>\n",
       "      <td>DEBRIS</td>\n",
       "      <td>USA 144 DEB</td>\n",
       "      <td>2002-01-13</td>\n",
       "      <td>1999-05-22</td>\n",
       "      <td>NaT</td>\n",
       "      <td>1999-028</td>\n",
       "      <td>NaN</td>\n",
       "      <td>NaT</td>\n",
       "    </tr>\n",
       "    <tr>\n",
       "      <th>35967</th>\n",
       "      <td>1999-028K</td>\n",
       "      <td>25754</td>\n",
       "      <td>DEBRIS</td>\n",
       "      <td>USA 144 DEB</td>\n",
       "      <td>2002-01-13</td>\n",
       "      <td>1999-05-22</td>\n",
       "      <td>NaT</td>\n",
       "      <td>1999-028</td>\n",
       "      <td>NaN</td>\n",
       "      <td>NaT</td>\n",
       "    </tr>\n",
       "    <tr>\n",
       "      <th>35968</th>\n",
       "      <td>1999-028L</td>\n",
       "      <td>25755</td>\n",
       "      <td>DEBRIS</td>\n",
       "      <td>USA 144 DEB</td>\n",
       "      <td>2002-01-13</td>\n",
       "      <td>1999-05-22</td>\n",
       "      <td>NaT</td>\n",
       "      <td>1999-028</td>\n",
       "      <td>NaN</td>\n",
       "      <td>NaT</td>\n",
       "    </tr>\n",
       "    <tr>\n",
       "      <th>37890</th>\n",
       "      <td>2001-040C</td>\n",
       "      <td>26907</td>\n",
       "      <td>DEBRIS</td>\n",
       "      <td>USA 160 DEB</td>\n",
       "      <td>2002-03-10</td>\n",
       "      <td>2001-09-08</td>\n",
       "      <td>NaT</td>\n",
       "      <td>2001-040</td>\n",
       "      <td>NaN</td>\n",
       "      <td>NaT</td>\n",
       "    </tr>\n",
       "  </tbody>\n",
       "</table>\n",
       "<p>1020 rows × 10 columns</p>\n",
       "</div>"
      ],
      "text/plain": [
       "         INTLDES  NORAD_CAT_ID OBJECT_TYPE        SATNAME      DEBUT  \\\n",
       "16     1959-001C          5807      DEBRIS   VANGUARD DEB 2002-01-13   \n",
       "49     1960-005D            37      DEBRIS  SPUTNIK 4 DEB 2002-01-13   \n",
       "76     1960-014C            69      DEBRIS    JUNO II DEB 2002-01-13   \n",
       "77     1960-014D           105      DEBRIS    JUNO II DEB 2002-01-13   \n",
       "101    1961-004E          3738      DEBRIS  SCOUT X-1 DEB 2002-01-13   \n",
       "...          ...           ...         ...            ...        ...   \n",
       "35964  1999-028G         25751      DEBRIS    USA 144 DEB 2002-01-13   \n",
       "35966  1999-028J         25753      DEBRIS    USA 144 DEB 2002-01-13   \n",
       "35967  1999-028K         25754      DEBRIS    USA 144 DEB 2002-01-13   \n",
       "35968  1999-028L         25755      DEBRIS    USA 144 DEB 2002-01-13   \n",
       "37890  2001-040C         26907      DEBRIS    USA 160 DEB 2002-03-10   \n",
       "\n",
       "          LAUNCH      DECAY launch_designator BREAKUP DATE exist_date  \n",
       "16    1959-02-17 1982-11-22          1959-001          NaN        NaT  \n",
       "49    1960-05-15 1961-06-30          1960-005          NaN        NaT  \n",
       "76    1960-11-03 1970-02-16          1960-014          NaN        NaT  \n",
       "77    1960-11-03 1972-03-03          1960-014          NaN        NaT  \n",
       "101   1961-02-16 1982-03-29          1961-004          NaN        NaT  \n",
       "...          ...        ...               ...          ...        ...  \n",
       "35964 1999-05-22        NaT          1999-028          NaN        NaT  \n",
       "35966 1999-05-22        NaT          1999-028          NaN        NaT  \n",
       "35967 1999-05-22        NaT          1999-028          NaN        NaT  \n",
       "35968 1999-05-22        NaT          1999-028          NaN        NaT  \n",
       "37890 2001-09-08        NaT          2001-040          NaN        NaT  \n",
       "\n",
       "[1020 rows x 10 columns]"
      ]
     },
     "execution_count": 60,
     "metadata": {},
     "output_type": "execute_result"
    }
   ],
   "source": [
    "combined[combined[\"exist_date\"].isnull()]"
   ]
  },
  {
   "cell_type": "code",
   "execution_count": 8,
   "metadata": {},
   "outputs": [
    {
     "data": {
      "text/html": [
       "<div>\n",
       "<style scoped>\n",
       "    .dataframe tbody tr th:only-of-type {\n",
       "        vertical-align: middle;\n",
       "    }\n",
       "\n",
       "    .dataframe tbody tr th {\n",
       "        vertical-align: top;\n",
       "    }\n",
       "\n",
       "    .dataframe thead th {\n",
       "        text-align: right;\n",
       "    }\n",
       "</style>\n",
       "<table border=\"1\" class=\"dataframe\">\n",
       "  <thead>\n",
       "    <tr style=\"text-align: right;\">\n",
       "      <th></th>\n",
       "      <th>SATELLITE NAME</th>\n",
       "      <th>INTERNATIONAL DESIGNATOR</th>\n",
       "      <th>US SATELLITE NUMBER</th>\n",
       "      <th>LAUNCH DATE</th>\n",
       "      <th>BREAKUP DATE</th>\n",
       "      <th>DEBRIS CATALOGED</th>\n",
       "      <th>DEBRIS ON-ORBIT</th>\n",
       "      <th>launch_designator</th>\n",
       "    </tr>\n",
       "  </thead>\n",
       "  <tbody>\n",
       "    <tr>\n",
       "      <th>0</th>\n",
       "      <td>TRANSIT 4A R/B</td>\n",
       "      <td>1961-015C</td>\n",
       "      <td>118</td>\n",
       "      <td>1961-06-29</td>\n",
       "      <td>1961-06-29</td>\n",
       "      <td>296</td>\n",
       "      <td>172.0</td>\n",
       "      <td>1961-015</td>\n",
       "    </tr>\n",
       "  </tbody>\n",
       "</table>\n",
       "</div>"
      ],
      "text/plain": [
       "   SATELLITE NAME INTERNATIONAL DESIGNATOR  US SATELLITE NUMBER LAUNCH DATE  \\\n",
       "0  TRANSIT 4A R/B                1961-015C                  118  1961-06-29   \n",
       "\n",
       "  BREAKUP DATE  DEBRIS CATALOGED  DEBRIS ON-ORBIT launch_designator  \n",
       "0   1961-06-29               296            172.0          1961-015  "
      ]
     },
     "metadata": {},
     "output_type": "display_data"
    },
    {
     "name": "stdout",
     "output_type": "stream",
     "text": [
      "Documented in satcat: 24\n"
     ]
    }
   ],
   "source": [
    "display(df1[df1[\"INTERNATIONAL DESIGNATOR\"]==\"1961-015C\"])\n",
    "print(\"Documented in satcat:\",len(df2[df2.INTLDES.str.startswith(\"1961-015C\") & (df2.OBJECT_TYPE == \"DEBRIS\")]))\n",
    "# can see from this example that the PDF file DEBRIS CATALOGED and DEBRIS ON-ORBIT is more than SATCAT"
   ]
  },
  {
   "cell_type": "code",
   "execution_count": 6,
   "metadata": {},
   "outputs": [],
   "source": [
    "df2.loc[(df2.OBJECT_TYPE!=\"DEBRIS\"),\"exist_date\"] = df2[[\"DEBUT\", \"LAUNCH\"]].min(axis=1)"
   ]
  }
 ],
 "metadata": {
  "kernelspec": {
   "display_name": "Python 3",
   "language": "python",
   "name": "python3"
  },
  "language_info": {
   "codemirror_mode": {
    "name": "ipython",
    "version": 3
   },
   "file_extension": ".py",
   "mimetype": "text/x-python",
   "name": "python",
   "nbconvert_exporter": "python",
   "pygments_lexer": "ipython3",
   "version": "3.8.5"
  }
 },
 "nbformat": 4,
 "nbformat_minor": 4
}
