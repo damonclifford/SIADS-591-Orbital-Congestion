{
 "cells": [
  {
   "cell_type": "code",
   "execution_count": 1,
   "metadata": {},
   "outputs": [],
   "source": [
    "import pandas as pd\n",
    "import datetime"
   ]
  },
  {
   "cell_type": "code",
   "execution_count": 2,
   "metadata": {},
   "outputs": [],
   "source": [
    "df1 = pd.read_csv(\"./satellite_breakup(from PDF).csv\")\n",
    "df1[[\"LAUNCH DATE\", \"BREAKUP DATE\"]] = df1[[\"LAUNCH DATE\", \"BREAKUP DATE\"]].apply(pd.to_datetime)\n",
    "df1[\"launch_designator\"] = df1[\"INTERNATIONAL DESIGNATOR\"].str.slice(stop=8)\n",
    "df1 = df1[['SATELLITE NAME', 'INTERNATIONAL DESIGNATOR', 'US SATELLITE NUMBER', 'LAUNCH DATE', 'BREAKUP DATE', 'DEBRIS CATALOGED', 'DEBRIS ON-ORBIT', 'launch_designator']]\n",
    "\n",
    "df2 = pd.read_csv(\"../satcat_all.csv\")\n",
    "df2[[\"DEBUT\", \"DECAY\", \"LAUNCH\"]] = df2[[\"DEBUT\", \"DECAY\", \"LAUNCH\"]].apply(pd.to_datetime)\n",
    "df2[\"launch_designator\"] = df2.INTLDES.str.slice(stop=8)\n",
    "df2 = df2[['INTLDES', 'NORAD_CAT_ID', 'OBJECT_TYPE', 'SATNAME', 'DEBUT', 'LAUNCH', 'DECAY', 'launch_designator']]"
   ]
  },
  {
   "cell_type": "code",
   "execution_count": 3,
   "metadata": {},
   "outputs": [],
   "source": [
    "def fix_date(x):\n",
    "    if x.year > 2056:\n",
    "        year = x.year - 100\n",
    "    else:\n",
    "        year = x.year\n",
    "    return datetime.date(year,x.month,x.day)\n",
    "\n",
    "# dates < 1969 are parsed as 20xx, fix it\n",
    "df1['BREAKUP DATE'] = df1['BREAKUP DATE'].apply(fix_date)\n",
    "df1['LAUNCH DATE'] = df1['LAUNCH DATE'].apply(fix_date)"
   ]
  },
  {
   "cell_type": "markdown",
   "metadata": {},
   "source": [
    "US SATELLITE NUMBER == NORAD_CAT_ID\n",
    "\n",
    "Check if PDF data includes anything that doesn't exist in SATCAT\n",
    "\n",
    "NOPE! That's great"
   ]
  },
  {
   "cell_type": "code",
   "execution_count": 4,
   "metadata": {},
   "outputs": [
    {
     "data": {
      "text/html": [
       "<div>\n",
       "<style scoped>\n",
       "    .dataframe tbody tr th:only-of-type {\n",
       "        vertical-align: middle;\n",
       "    }\n",
       "\n",
       "    .dataframe tbody tr th {\n",
       "        vertical-align: top;\n",
       "    }\n",
       "\n",
       "    .dataframe thead th {\n",
       "        text-align: right;\n",
       "    }\n",
       "</style>\n",
       "<table border=\"1\" class=\"dataframe\">\n",
       "  <thead>\n",
       "    <tr style=\"text-align: right;\">\n",
       "      <th></th>\n",
       "      <th>SATELLITE NAME</th>\n",
       "      <th>INTERNATIONAL DESIGNATOR</th>\n",
       "      <th>US SATELLITE NUMBER</th>\n",
       "      <th>LAUNCH DATE</th>\n",
       "      <th>BREAKUP DATE</th>\n",
       "      <th>DEBRIS CATALOGED</th>\n",
       "      <th>DEBRIS ON-ORBIT</th>\n",
       "      <th>launch_designator</th>\n",
       "    </tr>\n",
       "  </thead>\n",
       "  <tbody>\n",
       "  </tbody>\n",
       "</table>\n",
       "</div>"
      ],
      "text/plain": [
       "Empty DataFrame\n",
       "Columns: [SATELLITE NAME, INTERNATIONAL DESIGNATOR, US SATELLITE NUMBER, LAUNCH DATE, BREAKUP DATE, DEBRIS CATALOGED, DEBRIS ON-ORBIT, launch_designator]\n",
       "Index: []"
      ]
     },
     "execution_count": 4,
     "metadata": {},
     "output_type": "execute_result"
    }
   ],
   "source": [
    "df1[~df1[\"US SATELLITE NUMBER\"].isin(df2.NORAD_CAT_ID.values)]\n",
    "# 0 rows = everything matches up"
   ]
  },
  {
   "cell_type": "markdown",
   "metadata": {},
   "source": [
    "As seen below, there are 13 incidents where the same launch had 2 documented breakup dates. Unfortunately we cannot assign the proper breakup date for debris generated from these events. However, there aren't too many of these debris, we may be able to get away with assigning 1 of the breakup dates to all debris with the same starting launch designator."
   ]
  },
  {
   "cell_type": "code",
   "execution_count": 5,
   "metadata": {},
   "outputs": [
    {
     "data": {
      "text/plain": [
       "2008-067    2\n",
       "1990-045    2\n",
       "1992-047    2\n",
       "1991-025    2\n",
       "1988-085    2\n",
       "1987-079    2\n",
       "2010-007    2\n",
       "1989-001    2\n",
       "1999-057    2\n",
       "1990-110    2\n",
       "1984-011    2\n",
       "1986-069    2\n",
       "2002-037    2\n",
       "Name: launch_designator, dtype: int64"
      ]
     },
     "execution_count": 5,
     "metadata": {},
     "output_type": "execute_result"
    }
   ],
   "source": [
    "t = df1.launch_designator.value_counts()\n",
    "t[t>=2]"
   ]
  },
  {
   "cell_type": "code",
   "execution_count": 6,
   "metadata": {},
   "outputs": [],
   "source": [
    "df1 = df1.drop_duplicates(subset=\"launch_designator\")"
   ]
  },
  {
   "cell_type": "code",
   "execution_count": 7,
   "metadata": {},
   "outputs": [
    {
     "data": {
      "text/plain": [
       "47232"
      ]
     },
     "execution_count": 7,
     "metadata": {},
     "output_type": "execute_result"
    }
   ],
   "source": [
    "combined = df2.merge(df1[[\"launch_designator\",\"BREAKUP DATE\"]], how=\"left\", left_on=\"launch_designator\", right_on=\"launch_designator\")\n",
    "# combined[(combined.OBJECT_TYPE==\"DEBRIS\") & combined[\"BREAKUP DATE\"].notnull()]\n",
    "# combined[(combined.OBJECT_TYPE==\"DEBRIS\") & combined[\"BREAKUP DATE\"].isnull()]\n",
    "len(combined)"
   ]
  },
  {
   "cell_type": "markdown",
   "metadata": {},
   "source": [
    "All relevant data is now combined int he `combined` dataframe.  We just need to select the correct date to use with the following rules:\n",
    "1. For non-DEBRIS, we can use the LAUNCH\n",
    "1. For debris listed in the PDF file, we should use `BREAKUP DATE`\n",
    "1. If the `DEBUT` is earlier than `DECAY`, we can probably trust it\n",
    "1. If it `DEBUT` later than 2005, we can also trust it since these are reported to space track as soon as they are spotted\n",
    "1. if a debris `DECAYED` within 1 year of `LAUNCH`, let's just assumed that it was created on launch, ok? :)"
   ]
  },
  {
   "cell_type": "code",
   "execution_count": 8,
   "metadata": {},
   "outputs": [
    {
     "data": {
      "text/plain": [
       "30911"
      ]
     },
     "execution_count": 8,
     "metadata": {},
     "output_type": "execute_result"
    }
   ],
   "source": [
    "# For non-DEBRIS, we can use the LAUNCH\n",
    "combined.loc[(combined.OBJECT_TYPE!=\"DEBRIS\"),\"exist_date\"] = combined.LAUNCH\n",
    "len(combined[combined[\"exist_date\"].isnull()])"
   ]
  },
  {
   "cell_type": "code",
   "execution_count": 9,
   "metadata": {},
   "outputs": [
    {
     "data": {
      "text/plain": [
       "10286"
      ]
     },
     "execution_count": 9,
     "metadata": {},
     "output_type": "execute_result"
    }
   ],
   "source": [
    "# For debris listed in the PDF file, we should use BREAKUP DATE\n",
    "combined.loc[((combined.OBJECT_TYPE==\"DEBRIS\") & combined[\"BREAKUP DATE\"].notnull()),\"exist_date\"] = combined[\"BREAKUP DATE\"]\n",
    "len(combined[combined[\"exist_date\"].isnull()])"
   ]
  },
  {
   "cell_type": "code",
   "execution_count": 10,
   "metadata": {},
   "outputs": [
    {
     "data": {
      "text/plain": [
       "9137"
      ]
     },
     "execution_count": 10,
     "metadata": {},
     "output_type": "execute_result"
    }
   ],
   "source": [
    "# If the `DEBUT` is earlier than `DECAY`, we can probably trust it\n",
    "combined.loc[((combined.OBJECT_TYPE==\"DEBRIS\") & combined[\"exist_date\"].isnull() & (combined.DECAY > combined.DEBUT)),\"exist_date\"] = combined.DEBUT\n",
    "len(combined[combined[\"exist_date\"].isnull()])"
   ]
  },
  {
   "cell_type": "code",
   "execution_count": 11,
   "metadata": {},
   "outputs": [
    {
     "data": {
      "text/plain": [
       "7237"
      ]
     },
     "execution_count": 11,
     "metadata": {},
     "output_type": "execute_result"
    }
   ],
   "source": [
    "# If it `DEBUT` later than 2005, we can also trust it since these are reported to space track as soon as they are spotted\n",
    "combined.loc[((combined.OBJECT_TYPE==\"DEBRIS\") & combined[\"exist_date\"].isnull() & (combined.DEBUT > \"2005\")),\"exist_date\"] = combined.DEBUT\n",
    "len(combined[combined[\"exist_date\"].isnull()])"
   ]
  },
  {
   "cell_type": "code",
   "execution_count": 12,
   "metadata": {},
   "outputs": [
    {
     "data": {
      "text/plain": [
       "2832"
      ]
     },
     "execution_count": 12,
     "metadata": {},
     "output_type": "execute_result"
    }
   ],
   "source": [
    "# if a debris DECAYED within 1 year of launch, let's just assumed that it was created on launch, ok? :)\n",
    "combined.loc[(combined[\"exist_date\"].isnull() & (combined.DECAY - combined.LAUNCH < datetime.timedelta(days=365))),\"exist_date\"] = combined.LAUNCH\n",
    "len(combined[combined[\"exist_date\"].isnull()])"
   ]
  },
  {
   "cell_type": "code",
   "execution_count": 13,
   "metadata": {},
   "outputs": [
    {
     "data": {
      "text/plain": [
       "MIR DEB                     321\n",
       "SALYUT 7 DEB                171\n",
       "SL-8 DEB                    167\n",
       "WESTFORD NEEDLES            137\n",
       "SL-16 DEB                    89\n",
       "                           ... \n",
       "COSMOS 176 DEB                1\n",
       "ARIANE 44LP+ DEB (SPELDA      1\n",
       "MINOTAUR DEB                  1\n",
       "COSMOS 1863 DEB               1\n",
       "COSMOS 1826 DEB               1\n",
       "Name: SATNAME, Length: 378, dtype: int64"
      ]
     },
     "execution_count": 13,
     "metadata": {},
     "output_type": "execute_result"
    }
   ],
   "source": [
    "combined[combined[\"exist_date\"].isnull()].SATNAME.value_counts()"
   ]
  },
  {
   "cell_type": "code",
   "execution_count": 14,
   "metadata": {},
   "outputs": [
    {
     "data": {
      "text/plain": [
       "1986-017    323\n",
       "1982-033    171\n",
       "1963-014    139\n",
       "1977-097     88\n",
       "1989-061     62\n",
       "           ... \n",
       "1971-011      1\n",
       "1983-109      1\n",
       "1988-029      1\n",
       "1986-054      1\n",
       "1966-044      1\n",
       "Name: launch_designator, Length: 658, dtype: int64"
      ]
     },
     "execution_count": 14,
     "metadata": {},
     "output_type": "execute_result"
    }
   ],
   "source": [
    "combined[combined[\"exist_date\"].isnull()].launch_designator.value_counts()"
   ]
  },
  {
   "cell_type": "code",
   "execution_count": 15,
   "metadata": {},
   "outputs": [
    {
     "data": {
      "text/html": [
       "<div>\n",
       "<style scoped>\n",
       "    .dataframe tbody tr th:only-of-type {\n",
       "        vertical-align: middle;\n",
       "    }\n",
       "\n",
       "    .dataframe tbody tr th {\n",
       "        vertical-align: top;\n",
       "    }\n",
       "\n",
       "    .dataframe thead th {\n",
       "        text-align: right;\n",
       "    }\n",
       "</style>\n",
       "<table border=\"1\" class=\"dataframe\">\n",
       "  <thead>\n",
       "    <tr style=\"text-align: right;\">\n",
       "      <th></th>\n",
       "      <th>INTLDES</th>\n",
       "      <th>NORAD_CAT_ID</th>\n",
       "      <th>OBJECT_TYPE</th>\n",
       "      <th>SATNAME</th>\n",
       "      <th>DEBUT</th>\n",
       "      <th>LAUNCH</th>\n",
       "      <th>DECAY</th>\n",
       "      <th>launch_designator</th>\n",
       "      <th>BREAKUP DATE</th>\n",
       "      <th>exist_date</th>\n",
       "    </tr>\n",
       "  </thead>\n",
       "  <tbody>\n",
       "    <tr>\n",
       "      <th>1198</th>\n",
       "      <td>1964-046G</td>\n",
       "      <td>860</td>\n",
       "      <td>DEBRIS</td>\n",
       "      <td>SL-8 DEB</td>\n",
       "      <td>2002-01-13 00:00:00</td>\n",
       "      <td>1964-08-18</td>\n",
       "      <td>1964-09-16</td>\n",
       "      <td>1964-046</td>\n",
       "      <td>NaN</td>\n",
       "      <td>1964-08-18 00:00:00</td>\n",
       "    </tr>\n",
       "    <tr>\n",
       "      <th>1196</th>\n",
       "      <td>1964-046E</td>\n",
       "      <td>857</td>\n",
       "      <td>DEBRIS</td>\n",
       "      <td>SL-8 DEB</td>\n",
       "      <td>2002-01-13 00:00:00</td>\n",
       "      <td>1964-08-18</td>\n",
       "      <td>1964-09-21</td>\n",
       "      <td>1964-046</td>\n",
       "      <td>NaN</td>\n",
       "      <td>1964-08-18 00:00:00</td>\n",
       "    </tr>\n",
       "    <tr>\n",
       "      <th>1197</th>\n",
       "      <td>1964-046F</td>\n",
       "      <td>859</td>\n",
       "      <td>DEBRIS</td>\n",
       "      <td>SL-8 DEB</td>\n",
       "      <td>2002-01-13 00:00:00</td>\n",
       "      <td>1964-08-18</td>\n",
       "      <td>1964-09-25</td>\n",
       "      <td>1964-046</td>\n",
       "      <td>NaN</td>\n",
       "      <td>1964-08-18 00:00:00</td>\n",
       "    </tr>\n",
       "    <tr>\n",
       "      <th>1694</th>\n",
       "      <td>1965-020AU</td>\n",
       "      <td>1418</td>\n",
       "      <td>DEBRIS</td>\n",
       "      <td>SL-8 DEB</td>\n",
       "      <td>2002-01-13 00:00:00</td>\n",
       "      <td>1965-03-15</td>\n",
       "      <td>1965-08-10</td>\n",
       "      <td>1965-020</td>\n",
       "      <td>1965-03-15</td>\n",
       "      <td>1965-03-15</td>\n",
       "    </tr>\n",
       "    <tr>\n",
       "      <th>1677</th>\n",
       "      <td>1965-020AB</td>\n",
       "      <td>1356</td>\n",
       "      <td>DEBRIS</td>\n",
       "      <td>SL-8 DEB</td>\n",
       "      <td>2002-01-13 00:00:00</td>\n",
       "      <td>1965-03-15</td>\n",
       "      <td>1965-08-14</td>\n",
       "      <td>1965-020</td>\n",
       "      <td>1965-03-15</td>\n",
       "      <td>1965-03-15</td>\n",
       "    </tr>\n",
       "    <tr>\n",
       "      <th>...</th>\n",
       "      <td>...</td>\n",
       "      <td>...</td>\n",
       "      <td>...</td>\n",
       "      <td>...</td>\n",
       "      <td>...</td>\n",
       "      <td>...</td>\n",
       "      <td>...</td>\n",
       "      <td>...</td>\n",
       "      <td>...</td>\n",
       "      <td>...</td>\n",
       "    </tr>\n",
       "    <tr>\n",
       "      <th>25585</th>\n",
       "      <td>1992-053D</td>\n",
       "      <td>25027</td>\n",
       "      <td>DEBRIS</td>\n",
       "      <td>SL-8 DEB</td>\n",
       "      <td>2004-10-07 11:32:23</td>\n",
       "      <td>1992-08-12</td>\n",
       "      <td>NaT</td>\n",
       "      <td>1992-053</td>\n",
       "      <td>NaN</td>\n",
       "      <td>NaT</td>\n",
       "    </tr>\n",
       "    <tr>\n",
       "      <th>27538</th>\n",
       "      <td>1993-036C</td>\n",
       "      <td>23007</td>\n",
       "      <td>DEBRIS</td>\n",
       "      <td>SL-8 DEB</td>\n",
       "      <td>2004-10-07 11:32:23</td>\n",
       "      <td>1993-06-16</td>\n",
       "      <td>NaT</td>\n",
       "      <td>1993-036</td>\n",
       "      <td>2009-02-10</td>\n",
       "      <td>2009-02-10</td>\n",
       "    </tr>\n",
       "    <tr>\n",
       "      <th>27563</th>\n",
       "      <td>1993-036D</td>\n",
       "      <td>25028</td>\n",
       "      <td>DEBRIS</td>\n",
       "      <td>SL-8 DEB</td>\n",
       "      <td>2004-10-07 11:32:23</td>\n",
       "      <td>1993-06-16</td>\n",
       "      <td>NaT</td>\n",
       "      <td>1993-036</td>\n",
       "      <td>2009-02-10</td>\n",
       "      <td>2009-02-10</td>\n",
       "    </tr>\n",
       "    <tr>\n",
       "      <th>37848</th>\n",
       "      <td>2002-054D</td>\n",
       "      <td>27768</td>\n",
       "      <td>DEBRIS</td>\n",
       "      <td>SL-8 DEB</td>\n",
       "      <td>2004-10-07 12:05:46</td>\n",
       "      <td>2002-11-28</td>\n",
       "      <td>NaT</td>\n",
       "      <td>2002-054</td>\n",
       "      <td>NaN</td>\n",
       "      <td>NaT</td>\n",
       "    </tr>\n",
       "    <tr>\n",
       "      <th>37849</th>\n",
       "      <td>2002-054E</td>\n",
       "      <td>27769</td>\n",
       "      <td>DEBRIS</td>\n",
       "      <td>SL-8 DEB</td>\n",
       "      <td>2004-10-07 12:05:46</td>\n",
       "      <td>2002-11-28</td>\n",
       "      <td>NaT</td>\n",
       "      <td>2002-054</td>\n",
       "      <td>NaN</td>\n",
       "      <td>NaT</td>\n",
       "    </tr>\n",
       "  </tbody>\n",
       "</table>\n",
       "<p>551 rows × 10 columns</p>\n",
       "</div>"
      ],
      "text/plain": [
       "          INTLDES  NORAD_CAT_ID OBJECT_TYPE   SATNAME               DEBUT  \\\n",
       "1198    1964-046G           860      DEBRIS  SL-8 DEB 2002-01-13 00:00:00   \n",
       "1196    1964-046E           857      DEBRIS  SL-8 DEB 2002-01-13 00:00:00   \n",
       "1197    1964-046F           859      DEBRIS  SL-8 DEB 2002-01-13 00:00:00   \n",
       "1694   1965-020AU          1418      DEBRIS  SL-8 DEB 2002-01-13 00:00:00   \n",
       "1677   1965-020AB          1356      DEBRIS  SL-8 DEB 2002-01-13 00:00:00   \n",
       "...           ...           ...         ...       ...                 ...   \n",
       "25585   1992-053D         25027      DEBRIS  SL-8 DEB 2004-10-07 11:32:23   \n",
       "27538   1993-036C         23007      DEBRIS  SL-8 DEB 2004-10-07 11:32:23   \n",
       "27563   1993-036D         25028      DEBRIS  SL-8 DEB 2004-10-07 11:32:23   \n",
       "37848   2002-054D         27768      DEBRIS  SL-8 DEB 2004-10-07 12:05:46   \n",
       "37849   2002-054E         27769      DEBRIS  SL-8 DEB 2004-10-07 12:05:46   \n",
       "\n",
       "          LAUNCH      DECAY launch_designator BREAKUP DATE  \\\n",
       "1198  1964-08-18 1964-09-16          1964-046          NaN   \n",
       "1196  1964-08-18 1964-09-21          1964-046          NaN   \n",
       "1197  1964-08-18 1964-09-25          1964-046          NaN   \n",
       "1694  1965-03-15 1965-08-10          1965-020   1965-03-15   \n",
       "1677  1965-03-15 1965-08-14          1965-020   1965-03-15   \n",
       "...          ...        ...               ...          ...   \n",
       "25585 1992-08-12        NaT          1992-053          NaN   \n",
       "27538 1993-06-16        NaT          1993-036   2009-02-10   \n",
       "27563 1993-06-16        NaT          1993-036   2009-02-10   \n",
       "37848 2002-11-28        NaT          2002-054          NaN   \n",
       "37849 2002-11-28        NaT          2002-054          NaN   \n",
       "\n",
       "                exist_date  \n",
       "1198   1964-08-18 00:00:00  \n",
       "1196   1964-08-18 00:00:00  \n",
       "1197   1964-08-18 00:00:00  \n",
       "1694            1965-03-15  \n",
       "1677            1965-03-15  \n",
       "...                    ...  \n",
       "25585                  NaT  \n",
       "27538           2009-02-10  \n",
       "27563           2009-02-10  \n",
       "37848                  NaT  \n",
       "37849                  NaT  \n",
       "\n",
       "[551 rows x 10 columns]"
      ]
     },
     "execution_count": 15,
     "metadata": {},
     "output_type": "execute_result"
    }
   ],
   "source": [
    "combined[combined.SATNAME==\"SL-8 DEB\"].sort_values(by=\"DECAY\")"
   ]
  },
  {
   "cell_type": "code",
   "execution_count": 16,
   "metadata": {},
   "outputs": [
    {
     "data": {
      "text/html": [
       "<div>\n",
       "<style scoped>\n",
       "    .dataframe tbody tr th:only-of-type {\n",
       "        vertical-align: middle;\n",
       "    }\n",
       "\n",
       "    .dataframe tbody tr th {\n",
       "        vertical-align: top;\n",
       "    }\n",
       "\n",
       "    .dataframe thead th {\n",
       "        text-align: right;\n",
       "    }\n",
       "</style>\n",
       "<table border=\"1\" class=\"dataframe\">\n",
       "  <thead>\n",
       "    <tr style=\"text-align: right;\">\n",
       "      <th></th>\n",
       "      <th>INTLDES</th>\n",
       "      <th>NORAD_CAT_ID</th>\n",
       "      <th>OBJECT_TYPE</th>\n",
       "      <th>SATNAME</th>\n",
       "      <th>DEBUT</th>\n",
       "      <th>LAUNCH</th>\n",
       "      <th>DECAY</th>\n",
       "      <th>launch_designator</th>\n",
       "      <th>BREAKUP DATE</th>\n",
       "      <th>exist_date</th>\n",
       "    </tr>\n",
       "  </thead>\n",
       "  <tbody>\n",
       "    <tr>\n",
       "      <th>16425</th>\n",
       "      <td>1982-033D</td>\n",
       "      <td>13204</td>\n",
       "      <td>DEBRIS</td>\n",
       "      <td>SALYUT 7 DEB</td>\n",
       "      <td>2004-10-07 11:32:23</td>\n",
       "      <td>1982-04-19</td>\n",
       "      <td>1982-06-20</td>\n",
       "      <td>1982-033</td>\n",
       "      <td>NaN</td>\n",
       "      <td>1982-04-19 00:00:00</td>\n",
       "    </tr>\n",
       "    <tr>\n",
       "      <th>16450</th>\n",
       "      <td>1982-033E</td>\n",
       "      <td>13270</td>\n",
       "      <td>DEBRIS</td>\n",
       "      <td>SALYUT 7 DEB</td>\n",
       "      <td>2004-10-07 11:32:23</td>\n",
       "      <td>1982-04-19</td>\n",
       "      <td>1982-06-24</td>\n",
       "      <td>1982-033</td>\n",
       "      <td>NaN</td>\n",
       "      <td>1982-04-19 00:00:00</td>\n",
       "    </tr>\n",
       "    <tr>\n",
       "      <th>16475</th>\n",
       "      <td>1982-033F</td>\n",
       "      <td>13274</td>\n",
       "      <td>DEBRIS</td>\n",
       "      <td>SALYUT 7 DEB</td>\n",
       "      <td>2004-10-07 11:32:23</td>\n",
       "      <td>1982-04-19</td>\n",
       "      <td>1982-06-27</td>\n",
       "      <td>1982-033</td>\n",
       "      <td>NaN</td>\n",
       "      <td>1982-04-19 00:00:00</td>\n",
       "    </tr>\n",
       "    <tr>\n",
       "      <th>16500</th>\n",
       "      <td>1982-033G</td>\n",
       "      <td>13275</td>\n",
       "      <td>DEBRIS</td>\n",
       "      <td>SALYUT 7 DEB</td>\n",
       "      <td>2004-10-07 11:32:23</td>\n",
       "      <td>1982-04-19</td>\n",
       "      <td>1982-06-27</td>\n",
       "      <td>1982-033</td>\n",
       "      <td>NaN</td>\n",
       "      <td>1982-04-19 00:00:00</td>\n",
       "    </tr>\n",
       "    <tr>\n",
       "      <th>16525</th>\n",
       "      <td>1982-033H</td>\n",
       "      <td>13287</td>\n",
       "      <td>DEBRIS</td>\n",
       "      <td>SALYUT 7 DEB</td>\n",
       "      <td>2004-10-07 11:32:23</td>\n",
       "      <td>1982-04-19</td>\n",
       "      <td>1982-07-02</td>\n",
       "      <td>1982-033</td>\n",
       "      <td>NaN</td>\n",
       "      <td>1982-04-19 00:00:00</td>\n",
       "    </tr>\n",
       "    <tr>\n",
       "      <th>...</th>\n",
       "      <td>...</td>\n",
       "      <td>...</td>\n",
       "      <td>...</td>\n",
       "      <td>...</td>\n",
       "      <td>...</td>\n",
       "      <td>...</td>\n",
       "      <td>...</td>\n",
       "      <td>...</td>\n",
       "      <td>...</td>\n",
       "      <td>...</td>\n",
       "    </tr>\n",
       "    <tr>\n",
       "      <th>16513</th>\n",
       "      <td>1982-033GN</td>\n",
       "      <td>16253</td>\n",
       "      <td>DEBRIS</td>\n",
       "      <td>SALYUT 7 DEB</td>\n",
       "      <td>2004-10-07 11:32:23</td>\n",
       "      <td>1982-04-19</td>\n",
       "      <td>1986-12-03</td>\n",
       "      <td>1982-033</td>\n",
       "      <td>NaN</td>\n",
       "      <td>NaT</td>\n",
       "    </tr>\n",
       "    <tr>\n",
       "      <th>16492</th>\n",
       "      <td>1982-033FS</td>\n",
       "      <td>16166</td>\n",
       "      <td>DEBRIS</td>\n",
       "      <td>SALYUT 7 DEB</td>\n",
       "      <td>2004-10-07 11:32:23</td>\n",
       "      <td>1982-04-19</td>\n",
       "      <td>1987-01-15</td>\n",
       "      <td>1982-033</td>\n",
       "      <td>NaN</td>\n",
       "      <td>NaT</td>\n",
       "    </tr>\n",
       "    <tr>\n",
       "      <th>16527</th>\n",
       "      <td>1982-033HB</td>\n",
       "      <td>16813</td>\n",
       "      <td>DEBRIS</td>\n",
       "      <td>SALYUT 7 DEB</td>\n",
       "      <td>2004-10-07 11:32:23</td>\n",
       "      <td>1982-04-19</td>\n",
       "      <td>1987-01-27</td>\n",
       "      <td>1982-033</td>\n",
       "      <td>NaN</td>\n",
       "      <td>NaT</td>\n",
       "    </tr>\n",
       "    <tr>\n",
       "      <th>16528</th>\n",
       "      <td>1982-033HC</td>\n",
       "      <td>16814</td>\n",
       "      <td>DEBRIS</td>\n",
       "      <td>SALYUT 7 DEB</td>\n",
       "      <td>2004-10-07 11:32:23</td>\n",
       "      <td>1982-04-19</td>\n",
       "      <td>1987-02-20</td>\n",
       "      <td>1982-033</td>\n",
       "      <td>NaN</td>\n",
       "      <td>NaT</td>\n",
       "    </tr>\n",
       "    <tr>\n",
       "      <th>16534</th>\n",
       "      <td>1982-033HJ</td>\n",
       "      <td>17109</td>\n",
       "      <td>DEBRIS</td>\n",
       "      <td>SALYUT 7 DEB</td>\n",
       "      <td>2002-01-13 00:00:00</td>\n",
       "      <td>1982-04-19</td>\n",
       "      <td>1987-03-29</td>\n",
       "      <td>1982-033</td>\n",
       "      <td>NaN</td>\n",
       "      <td>NaT</td>\n",
       "    </tr>\n",
       "  </tbody>\n",
       "</table>\n",
       "<p>197 rows × 10 columns</p>\n",
       "</div>"
      ],
      "text/plain": [
       "          INTLDES  NORAD_CAT_ID OBJECT_TYPE       SATNAME               DEBUT  \\\n",
       "16425   1982-033D         13204      DEBRIS  SALYUT 7 DEB 2004-10-07 11:32:23   \n",
       "16450   1982-033E         13270      DEBRIS  SALYUT 7 DEB 2004-10-07 11:32:23   \n",
       "16475   1982-033F         13274      DEBRIS  SALYUT 7 DEB 2004-10-07 11:32:23   \n",
       "16500   1982-033G         13275      DEBRIS  SALYUT 7 DEB 2004-10-07 11:32:23   \n",
       "16525   1982-033H         13287      DEBRIS  SALYUT 7 DEB 2004-10-07 11:32:23   \n",
       "...           ...           ...         ...           ...                 ...   \n",
       "16513  1982-033GN         16253      DEBRIS  SALYUT 7 DEB 2004-10-07 11:32:23   \n",
       "16492  1982-033FS         16166      DEBRIS  SALYUT 7 DEB 2004-10-07 11:32:23   \n",
       "16527  1982-033HB         16813      DEBRIS  SALYUT 7 DEB 2004-10-07 11:32:23   \n",
       "16528  1982-033HC         16814      DEBRIS  SALYUT 7 DEB 2004-10-07 11:32:23   \n",
       "16534  1982-033HJ         17109      DEBRIS  SALYUT 7 DEB 2002-01-13 00:00:00   \n",
       "\n",
       "          LAUNCH      DECAY launch_designator BREAKUP DATE  \\\n",
       "16425 1982-04-19 1982-06-20          1982-033          NaN   \n",
       "16450 1982-04-19 1982-06-24          1982-033          NaN   \n",
       "16475 1982-04-19 1982-06-27          1982-033          NaN   \n",
       "16500 1982-04-19 1982-06-27          1982-033          NaN   \n",
       "16525 1982-04-19 1982-07-02          1982-033          NaN   \n",
       "...          ...        ...               ...          ...   \n",
       "16513 1982-04-19 1986-12-03          1982-033          NaN   \n",
       "16492 1982-04-19 1987-01-15          1982-033          NaN   \n",
       "16527 1982-04-19 1987-01-27          1982-033          NaN   \n",
       "16528 1982-04-19 1987-02-20          1982-033          NaN   \n",
       "16534 1982-04-19 1987-03-29          1982-033          NaN   \n",
       "\n",
       "                exist_date  \n",
       "16425  1982-04-19 00:00:00  \n",
       "16450  1982-04-19 00:00:00  \n",
       "16475  1982-04-19 00:00:00  \n",
       "16500  1982-04-19 00:00:00  \n",
       "16525  1982-04-19 00:00:00  \n",
       "...                    ...  \n",
       "16513                  NaT  \n",
       "16492                  NaT  \n",
       "16527                  NaT  \n",
       "16528                  NaT  \n",
       "16534                  NaT  \n",
       "\n",
       "[197 rows x 10 columns]"
      ]
     },
     "execution_count": 16,
     "metadata": {},
     "output_type": "execute_result"
    }
   ],
   "source": [
    "combined[combined.SATNAME==\"SALYUT 7 DEB\"].sort_values(by=\"DECAY\")"
   ]
  },
  {
   "cell_type": "code",
   "execution_count": 17,
   "metadata": {},
   "outputs": [
    {
     "data": {
      "text/html": [
       "<div>\n",
       "<style scoped>\n",
       "    .dataframe tbody tr th:only-of-type {\n",
       "        vertical-align: middle;\n",
       "    }\n",
       "\n",
       "    .dataframe tbody tr th {\n",
       "        vertical-align: top;\n",
       "    }\n",
       "\n",
       "    .dataframe thead th {\n",
       "        text-align: right;\n",
       "    }\n",
       "</style>\n",
       "<table border=\"1\" class=\"dataframe\">\n",
       "  <thead>\n",
       "    <tr style=\"text-align: right;\">\n",
       "      <th></th>\n",
       "      <th>SATELLITE NAME</th>\n",
       "      <th>INTERNATIONAL DESIGNATOR</th>\n",
       "      <th>US SATELLITE NUMBER</th>\n",
       "      <th>LAUNCH DATE</th>\n",
       "      <th>BREAKUP DATE</th>\n",
       "      <th>DEBRIS CATALOGED</th>\n",
       "      <th>DEBRIS ON-ORBIT</th>\n",
       "      <th>launch_designator</th>\n",
       "    </tr>\n",
       "  </thead>\n",
       "  <tbody>\n",
       "    <tr>\n",
       "      <th>0</th>\n",
       "      <td>TRANSIT 4A R/B</td>\n",
       "      <td>1961-015C</td>\n",
       "      <td>118</td>\n",
       "      <td>1961-06-29</td>\n",
       "      <td>1961-06-29</td>\n",
       "      <td>296</td>\n",
       "      <td>172.0</td>\n",
       "      <td>1961-015</td>\n",
       "    </tr>\n",
       "  </tbody>\n",
       "</table>\n",
       "</div>"
      ],
      "text/plain": [
       "   SATELLITE NAME INTERNATIONAL DESIGNATOR  US SATELLITE NUMBER LAUNCH DATE  \\\n",
       "0  TRANSIT 4A R/B                1961-015C                  118  1961-06-29   \n",
       "\n",
       "  BREAKUP DATE  DEBRIS CATALOGED  DEBRIS ON-ORBIT launch_designator  \n",
       "0   1961-06-29               296            172.0          1961-015  "
      ]
     },
     "metadata": {},
     "output_type": "display_data"
    },
    {
     "name": "stdout",
     "output_type": "stream",
     "text": [
      "Documented in satcat: 24\n"
     ]
    }
   ],
   "source": [
    "display(df1[df1[\"INTERNATIONAL DESIGNATOR\"]==\"1961-015C\"])\n",
    "print(\"Documented in satcat:\",len(df2[df2.INTLDES.str.startswith(\"1961-015C\") & (df2.OBJECT_TYPE == \"DEBRIS\")]))\n",
    "# can see from this example that the PDF file DEBRIS CATALOGED and DEBRIS ON-ORBIT is more than SATCAT"
   ]
  },
  {
   "cell_type": "code",
   "execution_count": 18,
   "metadata": {},
   "outputs": [],
   "source": [
    "# combined.to_pickle(\"../../data/satcat_incl_breakup_dates.pkl.gz\",\"gzip\")"
   ]
  },
  {
   "cell_type": "code",
   "execution_count": 19,
   "metadata": {},
   "outputs": [],
   "source": [
    "# test = pd.read_pickle(\"../../data/satcat_incl_breakup_dates.pkl.gz\",\"gzip\")"
   ]
  },
  {
   "cell_type": "code",
   "execution_count": 20,
   "metadata": {},
   "outputs": [],
   "source": [
    "# test"
   ]
  }
 ],
 "metadata": {
  "kernelspec": {
   "display_name": "Python 3",
   "language": "python",
   "name": "python3"
  },
  "language_info": {
   "codemirror_mode": {
    "name": "ipython",
    "version": 3
   },
   "file_extension": ".py",
   "mimetype": "text/x-python",
   "name": "python",
   "nbconvert_exporter": "python",
   "pygments_lexer": "ipython3",
   "version": "3.8.5"
  }
 },
 "nbformat": 4,
 "nbformat_minor": 4
}
