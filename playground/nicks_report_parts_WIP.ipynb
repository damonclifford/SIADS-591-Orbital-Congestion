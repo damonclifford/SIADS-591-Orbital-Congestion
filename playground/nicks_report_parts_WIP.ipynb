{
 "cells": [
  {
   "cell_type": "markdown",
   "metadata": {},
   "source": [
    "A dashboard was created to summarize and present, in an accessible way, some of the complex visuals created by the team.\n",
    "\n",
    "The dashboard can be accessed either online via Heroku or by runing the below script.  Both options use the same source code and data sources.\n",
    "\n",
    "[oc-dash.herokuapp.com/](https://oc-dash.herokuapp.com/)\n",
    "\n",
    "NOTE: do to resource limitations on the free version of Heroku, please limit the filtering to one week or less of data."
   ]
  },
  {
   "cell_type": "code",
   "execution_count": null,
   "metadata": {},
   "outputs": [
    {
     "name": "stdout",
     "output_type": "stream",
     "text": [
      "Dash is running on http://127.0.0.1:8050/\n",
      "\n",
      " * Serving Flask app \"__main__\" (lazy loading)\n",
      " * Environment: production\n",
      "   WARNING: This is a development server. Do not use it in a production deployment.\n",
      "   Use a production WSGI server instead.\n",
      " * Debug mode: on\n"
     ]
    }
   ],
   "source": [
    "import os\n",
    "os.chdir('../dashboard')\n",
    "exec(open('./app.py').read())\n",
    "os.chdir('..')"
   ]
  }
 ],
 "metadata": {
  "kernelspec": {
   "display_name": "Python 3",
   "language": "python",
   "name": "python3"
  },
  "language_info": {
   "codemirror_mode": {
    "name": "ipython",
    "version": 3
   },
   "file_extension": ".py",
   "mimetype": "text/x-python",
   "name": "python",
   "nbconvert_exporter": "python",
   "pygments_lexer": "ipython3",
   "version": "3.8.5"
  }
 },
 "nbformat": 4,
 "nbformat_minor": 4
}
