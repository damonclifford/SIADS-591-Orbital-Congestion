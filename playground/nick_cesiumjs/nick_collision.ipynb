{
 "cells": [
  {
   "cell_type": "code",
   "execution_count": 1,
   "metadata": {},
   "outputs": [],
   "source": [
    "from satellite_czml import satellite_czml\n",
    "from satellite_czml import satellite\n",
    "import pytz\n",
    "\n",
    "from datetime import datetime, timedelta\n",
    "import random"
   ]
  },
  {
   "cell_type": "code",
   "execution_count": 2,
   "metadata": {},
   "outputs": [],
   "source": [
    "# # Simple test\n",
    "# single = [['ISS (ZARYA)',\n",
    "#   '1 25544U 98067A   21016.23305200  .00001366  00000-0  32598-4 0  9992',\n",
    "#   '2 25544  51.6457  14.3113 0000235 231.0982 239.8264 15.49297436265049']]\n",
    "# single_czml = satellite_czml(tle_list=single).get_czml()"
   ]
  },
  {
   "cell_type": "code",
   "execution_count": 3,
   "metadata": {},
   "outputs": [],
   "source": [
    "import pandas as pd\n",
    "target_time = datetime(2009, 2,10,16,56,0)"
   ]
  },
  {
   "cell_type": "code",
   "execution_count": 4,
   "metadata": {},
   "outputs": [],
   "source": [
    "# Cosmos and Iridium Satellites before collision\n",
    "df = pd.read_pickle('../satellites_go_boom/iridium_33_before_after.pkl')\n",
    "df['CREATION_DATE'] = pd.to_datetime(df['CREATION_DATE'], format='%Y-%m-%dT%H:%M:%S')\n",
    "tle1 = df[df['CREATION_DATE'] == (df[df['CREATION_DATE'] < target_time]['CREATION_DATE'].max())][['OBJECT_NAME','TLE_LINE1','TLE_LINE2']].values.tolist()[0]\n",
    "\n",
    "df = pd.read_pickle('../satellites_go_boom/cosmos_2251_before_after.pkl')\n",
    "df['CREATION_DATE'] = pd.to_datetime(df['CREATION_DATE'], format='%Y-%m-%dT%H:%M:%S')\n",
    "tle2 = df[df['CREATION_DATE'] == (df[df['CREATION_DATE'] < target_time]['CREATION_DATE'].max())][['OBJECT_NAME','TLE_LINE1','TLE_LINE2']].values.tolist()[0]\n",
    "\n",
    "tles = [tle1, tle2]\n",
    "\n",
    "# This was attempting to create single CZML - gave up for now\n",
    "# end_time = target_time + timedelta(minutes=30)\n",
    "# start_time = target_time - timedelta(minutes=30)\n",
    "# czml_obj = satellite_czml(tle_list=tles, start_time=start_time, end_time=end_time)\n",
    "# for sat in czml_obj.satellites.values():\n",
    "#     sat.end_time = target_time.replace(tzinfo=pytz.UTC)\n",
    "\n",
    "end_time = target_time\n",
    "start_time = end_time - timedelta(minutes=30)\n",
    "czml_obj2 = satellite_czml(tle_list=tles, start_time=start_time, end_time=end_time)\n",
    "\n",
    "single_czml2 = czml_obj2.get_czml()"
   ]
  },
  {
   "cell_type": "code",
   "execution_count": 4,
   "metadata": {},
   "outputs": [],
   "source": [
    "# Debris after the collision\n",
    "df = pd.read_pickle('../satellites_go_boom/cosmos_2251_deb_first_801.pkl')\n",
    "# df['CREATION_DATE'] = pd.to_datetime(df['CREATION_DATE'], format='%Y-%m-%dT%H:%M:%S')\n",
    "# df = df[df['CREATION_DATE'] <= '2009-02-28']\n",
    "tles = df[['OBJECT_NAME','TLE_LINE1','TLE_LINE2']].values.tolist()\n",
    "\n",
    "df = pd.read_pickle('../satellites_go_boom/iridium_33_deb_first_482.pkl')\n",
    "# df['CREATION_DATE'] = pd.to_datetime(df['CREATION_DATE'], format='%Y-%m-%dT%H:%M:%S')\n",
    "# df = df[df['CREATION_DATE'] <= '2009-02-28']\n",
    "tles_b = df[['OBJECT_NAME','TLE_LINE1','TLE_LINE2']].values.tolist()\n",
    "\n",
    "tles.extend(tles_b)\n",
    "start_time = target_time\n",
    "end_time = start_time + timedelta(minutes=30)\n",
    "single_czml = satellite_czml(tle_list=tles, start_time=start_time, end_time=end_time,\n",
    "                             use_default_image=False, show_label=False, show_path=False).get_czml()"
   ]
  },
  {
   "cell_type": "code",
   "execution_count": 5,
   "metadata": {},
   "outputs": [
    {
     "name": "stdout",
     "output_type": "stream",
     "text": [
      "Dash is running on http://127.0.0.1:8050/\n",
      "\n",
      " * Serving Flask app \"__main__\" (lazy loading)\n",
      " * Environment: production\n",
      "   WARNING: This is a development server. Do not use it in a production deployment.\n",
      "   Use a production WSGI server instead.\n",
      " * Debug mode: on\n"
     ]
    }
   ],
   "source": [
    "import dash\n",
    "import dash_html_components as html\n",
    "import dash_core_components as dcc\n",
    "from dash.dependencies import Input, Output\n",
    "\n",
    "\n",
    "external_css = ['https://cesium.com/downloads/cesiumjs/releases/1.76/Build/Cesium/Widgets/widgets.css']\n",
    "\n",
    "external_scripts = [{'src':'https://cesium.com/downloads/cesiumjs/releases/1.76/Build/Cesium/Cesium.js'}]\n",
    "\n",
    "app = dash.Dash(__name__,\n",
    "                title='satellite_czml',\n",
    "                external_scripts=external_scripts,\n",
    "                external_stylesheets=external_css)\n",
    "\n",
    "app.layout = html.Div(children=[\n",
    "    dcc.Dropdown(id='choose_czml_dd',\n",
    "                 options=[\n",
    "                     {'label': 'Single CZML', 'value': 'single_czml'}\n",
    "                 ],\n",
    "                 value='single_czml'\n",
    "                ),\n",
    "    html.Div(id='cesiumContainer'),\n",
    "    html.Div(id='czml', style={'display': 'none'}),\n",
    "    html.Div(id='apikey', style={'display': 'none'}, children=\"ZXlKaGJHY2lPaUpJVXpJMU5pSXNJblI1Y0NJNklrcFhWQ0o5LmV5SnFkR2tpT2lJd05tSXdORGN5WkMwNE5tUTBMVFExTnpRdFltVTNOeTAxWVRabFpUVTRNRFUzWkRVaUxDSnBaQ0k2TkRBeE5ESXNJbWxoZENJNk1UWXdPRE0xTkRZNE9IMC5uT1pBQ291ay0tZnhQX2V1cXRnRmt3d05TMi02NEJaODFBTWVNbzlwZ1lj\")\n",
    "])\n",
    "\n",
    "@app.callback(\n",
    "    Output('czml', 'children'),\n",
    "    Input('choose_czml_dd', 'value'))\n",
    "def update_satellite_filter(v):\n",
    "    d = {'single_czml':single_czml\n",
    "        }\n",
    "    return d[v]\n",
    "\n",
    "app.clientside_callback('''\n",
    "function(id, czml, apikey) {\n",
    "    // Create the Cesium Viewer\n",
    "    if (!window.viewer) {\n",
    "        Cesium.Ion.defaultAccessToken = atob(apikey);\n",
    "        window.viewer = new Cesium.Viewer(id,{\n",
    "            shouldAnimate: true,\n",
    "        });\n",
    "        window.viewer.scene.globe.enableLighting = true;\n",
    "    }\n",
    "\n",
    "    // Update the Cesium Viewer\n",
    "    if (czml) {\n",
    "        window.viewer.dataSources.removeAll();\n",
    "        czmlJson = JSON.parse(czml);\n",
    "        window.viewer.dataSources.add(\n",
    "            Cesium.CzmlDataSource.load(czmlJson)\n",
    "        );\n",
    "    }\n",
    "\n",
    "    return true;\n",
    "}''',\n",
    "    Output('cesiumContainer', 'data-done'),\n",
    "    Input('cesiumContainer', 'id'),\n",
    "    Input('czml', 'children'),\n",
    "    Input('apikey', 'children')\n",
    ")\n",
    "\n",
    "if __name__ == '__main__':\n",
    "    app.run_server(debug=True, use_reloader=False)"
   ]
  },
  {
   "cell_type": "code",
   "execution_count": null,
   "metadata": {},
   "outputs": [],
   "source": []
  }
 ],
 "metadata": {
  "kernelspec": {
   "display_name": "Python 3",
   "language": "python",
   "name": "python3"
  },
  "language_info": {
   "codemirror_mode": {
    "name": "ipython",
    "version": 3
   },
   "file_extension": ".py",
   "mimetype": "text/x-python",
   "name": "python",
   "nbconvert_exporter": "python",
   "pygments_lexer": "ipython3",
   "version": "3.8.5"
  }
 },
 "nbformat": 4,
 "nbformat_minor": 4
}
