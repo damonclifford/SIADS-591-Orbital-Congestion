{
 "cells": [
  {
   "cell_type": "code",
   "execution_count": 1,
   "metadata": {},
   "outputs": [],
   "source": [
    "import timeit\n",
    "from datetime import datetime\n",
    "\n",
    "autorun_execute_count = 0"
   ]
  },
  {
   "cell_type": "code",
   "execution_count": null,
   "metadata": {},
   "outputs": [],
   "source": []
  },
  {
   "cell_type": "code",
   "execution_count": 2,
   "metadata": {},
   "outputs": [
    {
     "data": {
      "text/html": [
       "<script>\n",
       "    var intervalTime = 5000; // in ms\n",
       "    if (typeof autorun_toggle === 'undefined') {\n",
       "        var autorun_toggle = null;\n",
       "    }\n",
       "    function toggle_autorun() {\n",
       "        var btn = document.getElementById(\"autorun_button\");\n",
       "        setTimeout(function(){ // add a delay so the selected cell is correctly set here\n",
       "            if (autorun_toggle == null) {\n",
       "                var start_index = IPython.notebook.get_selected_index()+1;\n",
       "                var end_index = IPython.notebook.get_cells().length;\n",
       "                console.log(\"start autorun, start: \" + start_index + \" end: \" + end_index);\n",
       "                $('div.input').hide(200);\n",
       "                autorun_toggle = setInterval(function(){\n",
       "                    console.log(\"Run cells below\");\n",
       "                    //IPython.notebook.execute_cells_below();\n",
       "                    IPython.notebook.execute_cell_range(start_index, end_index)\n",
       "                }, intervalTime);\n",
       "            } else {\n",
       "                window.clearInterval(autorun_toggle);\n",
       "                console.log(\"clear autorun\");\n",
       "                autorun_toggle = null;\n",
       "                $('div.input').show(200);\n",
       "            }\n",
       "        }, 100);\n",
       "    }\n",
       "</script>\n",
       "<button id=\"autorun_button\" onclick=\"toggle_autorun()\">Toggle autorun cells below</button>\n"
      ],
      "text/plain": [
       "<IPython.core.display.HTML object>"
      ]
     },
     "metadata": {},
     "output_type": "display_data"
    }
   ],
   "source": [
    "%%html\n",
    "<script>\n",
    "    var intervalTime = 5000; // in ms\n",
    "    if (typeof autorun_toggle === 'undefined') {\n",
    "        var autorun_toggle = null;\n",
    "    }\n",
    "    function toggle_autorun() {\n",
    "        var btn = document.getElementById(\"autorun_button\");\n",
    "        setTimeout(function(){ // add a delay so the selected cell is correctly set here\n",
    "            if (autorun_toggle == null) {\n",
    "                var start_index = IPython.notebook.get_selected_index()+1;\n",
    "                var end_index = IPython.notebook.get_cells().length;\n",
    "                console.log(\"start autorun, start: \" + start_index + \" end: \" + end_index);\n",
    "                //$('div.input').hide(200);\n",
    "                autorun_toggle = setInterval(function(){\n",
    "                    console.log(\"Run cells below\");\n",
    "                    //IPython.notebook.execute_cells_below();\n",
    "                    IPython.notebook.execute_cell_range(start_index, end_index)\n",
    "                }, intervalTime);\n",
    "            } else {\n",
    "                window.clearInterval(autorun_toggle);\n",
    "                console.log(\"clear autorun\");\n",
    "                autorun_toggle = null;\n",
    "                //$('div.input').show(200);\n",
    "            }\n",
    "        }, 100);\n",
    "    }\n",
    "</script>\n",
    "<button id=\"autorun_button\" onclick=\"toggle_autorun()\">Toggle autorun cells below</button>"
   ]
  },
  {
   "cell_type": "code",
   "execution_count": 5,
   "metadata": {},
   "outputs": [
    {
     "name": "stdout",
     "output_type": "stream",
     "text": [
      "Last run local time: 2021-01-17 22:52:08.144783\n",
      "Total times ran: 2\n"
     ]
    }
   ],
   "source": [
    "start_time = timeit.default_timer()\n",
    "autorun_execute_count+=1\n",
    "print(f'Last run local time: {datetime.now()}')\n",
    "print(f'Total times ran: {autorun_execute_count}')"
   ]
  },
  {
   "cell_type": "code",
   "execution_count": null,
   "metadata": {},
   "outputs": [],
   "source": []
  },
  {
   "cell_type": "code",
   "execution_count": 6,
   "metadata": {},
   "outputs": [
    {
     "name": "stdout",
     "output_type": "stream",
     "text": [
      "Time used to execute cells: 0.012366706999999977 seconds\n"
     ]
    }
   ],
   "source": [
    "elapsed = timeit.default_timer() - start_time\n",
    "print(f\"Time used to execute cells: {elapsed} seconds\")"
   ]
  }
 ],
 "metadata": {
  "kernelspec": {
   "display_name": "Python 3",
   "language": "python",
   "name": "python3"
  },
  "language_info": {
   "codemirror_mode": {
    "name": "ipython",
    "version": 3
   },
   "file_extension": ".py",
   "mimetype": "text/x-python",
   "name": "python",
   "nbconvert_exporter": "python",
   "pygments_lexer": "ipython3",
   "version": "3.8.5"
  }
 },
 "nbformat": 4,
 "nbformat_minor": 4
}
