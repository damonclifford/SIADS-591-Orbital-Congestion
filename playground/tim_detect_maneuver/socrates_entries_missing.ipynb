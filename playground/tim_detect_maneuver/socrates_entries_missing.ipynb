{
 "cells": [
  {
   "cell_type": "markdown",
   "metadata": {},
   "source": [
    "Intention of this notebook is to see if any high risk CDM issued by SOCRATES \"disappear\" before the TCA.  Exploring this because we may use this to find that satellites did maneuver\n",
    "==="
   ]
  },
  {
   "cell_type": "code",
   "execution_count": 54,
   "metadata": {},
   "outputs": [],
   "source": [
    "import pandas as pd\n",
    "from os import listdir\n",
    "from os.path import isfile, join\n",
    "import re\n",
    "import datetime\n",
    "import plotly.express as px\n",
    "import plotly.graph_objects as go\n",
    "from plotly.subplots import make_subplots\n",
    "import numpy as np\n",
    "\n",
    "\n",
    "path = '../../data/socrates/'\n",
    "files = [ (match[0],match[1]) for f in listdir(path) if isfile(join(path, f))  if (match:=re.search('^socrates_([0-9]{14})\\.csv(\\.gz)?$', f))]\n",
    "files\n",
    "\n",
    "# Build single dataset\n",
    "odf = pd.DataFrame()\n",
    "for file,date in files:\n",
    "    tmp_df = pd.read_csv(path + file)\n",
    "    odf = pd.concat([odf,tmp_df])\n",
    "    \n",
    "odf = odf[odf.max_prob != 1]\n",
    "odf = odf[odf.rel_velo_kms > 0.2]\n",
    "odf = odf.set_index([\"sat1_norad\",\"sat2_norad\"])\n",
    "odf['tca_time'] = odf['tca_time'].astype('datetime64[ns]')\n",
    "odf['extract_date'] = odf['extract_date'].astype('datetime64[ns]')"
   ]
  },
  {
   "cell_type": "code",
   "execution_count": 61,
   "metadata": {},
   "outputs": [],
   "source": [
    "last_extract_date = max(df['extract_date'])\n",
    "\n",
    "df = odf\n",
    "\n",
    "# has active satellites [+] as 1 of the 2 objects\n",
    "df[\"has_active\"] = df.sat1_name.str.contains(\"[+]\") | df.sat2_name.str.contains(\"[+]\")\n",
    "\n",
    "# only show entries from MAXPROB SOCRATES and TCA before last extract date from data\n",
    "df = df[(df.extract_sort == \"MAXPROB\") & (df.tca_time < last_extract_date)][:]\n",
    "\n",
    "df[\"countdown_to_tca\"] = (df.extract_date - df.tca_time) / np.timedelta64(1, 'D')\n"
   ]
  },
  {
   "cell_type": "code",
   "execution_count": 62,
   "metadata": {},
   "outputs": [
    {
     "data": {
      "text/plain": [
       "<AxesSubplot:ylabel='Frequency'>"
      ]
     },
     "execution_count": 62,
     "metadata": {},
     "output_type": "execute_result"
    },
    {
     "data": {
      "image/png": "[encoded data removed]",
      "text/plain": [
       "<Figure size 432x288 with 1 Axes>"
      ]
     },
     "metadata": {
      "needs_background": "light"
     },
     "output_type": "display_data"
    }
   ],
   "source": [
    "df.countdown_to_tca.plot.hist(bins=100, alpha=0.5)"
   ]
  },
  {
   "cell_type": "code",
   "execution_count": 49,
   "metadata": {},
   "outputs": [
    {
     "data": {
      "text/plain": [
       "sat1_norad  sat2_norad\n",
       "11165       27432          27034097887000\n",
       "20436       23318          19831647887000\n",
       "25489       36493          18486821887000\n",
       "40028       42562          34061442887000\n",
       "25489       17719           9776328887000\n",
       "                               ...       \n",
       "23342       18959          15551224023000\n",
       "42829       38189        -225748006977000\n",
       "24944       45862          10850716023000\n",
       "45438       31839        -151872153977000\n",
       "25042       42507        -109736189977000\n",
       "Name: countdown_to_tca, Length: 21630, dtype: int64"
      ]
     },
     "execution_count": 49,
     "metadata": {},
     "output_type": "execute_result"
    }
   ],
   "source": [
    "df.countdown_to_tca.astype('int64')"
   ]
  }
 ],
 "metadata": {
  "kernelspec": {
   "display_name": "Python 3",
   "language": "python",
   "name": "python3"
  },
  "language_info": {
   "codemirror_mode": {
    "name": "ipython",
    "version": 3
   },
   "file_extension": ".py",
   "mimetype": "text/x-python",
   "name": "python",
   "nbconvert_exporter": "python",
   "pygments_lexer": "ipython3",
   "version": "3.8.5"
  }
 },
 "nbformat": 4,
 "nbformat_minor": 4
}
