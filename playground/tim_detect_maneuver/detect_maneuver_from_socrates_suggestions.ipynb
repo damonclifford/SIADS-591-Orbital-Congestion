{
 "cells": [
  {
   "cell_type": "code",
   "execution_count": 25,
   "metadata": {},
   "outputs": [],
   "source": [
    "import pandas as pd\n",
    "import matplotlib.pyplot as plt\n",
    "import matplotlib\n",
    "from os import listdir\n",
    "from os.path import isfile, join\n",
    "import re\n",
    "import datetime\n",
    "import numpy as np\n",
    "\n",
    "import importlib\n",
    "import detect_maneuver # put it in a .py so it can be used by the SOCRATES detection part also\n",
    "importlib.reload(detect_maneuver);"
   ]
  },
  {
   "cell_type": "code",
   "execution_count": 2,
   "metadata": {},
   "outputs": [],
   "source": [
    "# def remove_strange_data(input_df):\n",
    "#     # remove points that randomly spiked\n",
    "#     df = input_df.reset_index()\n",
    "#     s_diff_diff = (df.SEMIMAJOR_AXIS.diff()-df.SEMIMAJOR_AXIS.diff(-1)).abs()+1\n",
    "#     s_diff_sum = (df.SEMIMAJOR_AXIS.diff()+df.SEMIMAJOR_AXIS.diff(-1)).abs()\n",
    "#     i_diff_diff = (df.INCLINATION.diff()-df.INCLINATION.diff(-1)).abs()+1\n",
    "#     i_diff_sum = (df.INCLINATION.diff()+df.INCLINATION.diff(-1)).abs()\n",
    "#     # should return removed rows separately also\n",
    "#     return (df.loc[~(((s_diff_diff > 0) & (s_diff_sum / s_diff_diff > 1000)) | ((i_diff_diff > 0) & (i_diff_sum / i_diff_diff > 1000)))]).set_index(\"EPOCH\")\n",
    "\n",
    "# def find_maneuvers(df, maneuver_functions):\n",
    "#     mdf = df.copy()\n",
    "#     all_ranges = []\n",
    "#     for col, name, func, thresholds in maneuver_functions:\n",
    "#         all_thresholds = []\n",
    "#         for threshold in thresholds:\n",
    "#             mdf['maneuvers'] = func(mdf[col])\n",
    "#             mdf['maneuvered'] = (mdf.maneuvers > threshold) | (mdf.maneuvers < -threshold)\n",
    "#             mdf['maneuvere_group'] = (mdf.maneuvered != mdf.maneuvered.shift())\n",
    "#             mdf['maneuvere_group'] = mdf['maneuvere_group'].fillna(False).astype(int).cumsum()\n",
    "#             grouped = mdf.reset_index().groupby('maneuvere_group')\n",
    "#             events = pd.DataFrame({'start' : grouped.EPOCH.first(),\n",
    "#                                    'end' : grouped.EPOCH.last(),\n",
    "#                                    'v' : grouped.maneuvered.first()}).reset_index(drop=True)\n",
    "#             events = events[events.v==True][['start','end']]\n",
    "#             day = pd.offsets.Day()\n",
    "#             events['start'] = events['start'] - day\n",
    "#             events['end'] = events['end'] + day\n",
    "#             events['group'] = (events.start >= events.end.shift()).cumsum()\n",
    "#             event_ranges = pd.DataFrame({'start' : events.groupby('group').start.first(),\n",
    "#                                          'end' : events.groupby('group').end.last()}).reset_index(drop=True)\n",
    "#             all_thresholds.append((threshold, event_ranges))\n",
    "        \n",
    "#         all_ranges.append((col, name, mdf[[\"maneuvers\"]], all_thresholds))\n",
    "#     return all_ranges\n",
    "    \n",
    "# def plot_maneuvers(max_x, df, maneuver_results, sat_name):\n",
    "#     cmap = matplotlib.cm.get_cmap('GnBu')\n",
    "#     all_axes = []\n",
    "#     for col, name, maneuvers, thresholds_event_ranges in maneuver_results:\n",
    "#         fig, axes = plt.subplots(2, 1,figsize=(15,5))\n",
    "#         all_axes.append(axes)\n",
    "#         thresholds, event_ranges = zip(*thresholds_event_ranges)\n",
    "#         fig.suptitle(f'{sat_name}\"{col} {name}\" function w/ threshold: {thresholds}', fontsize=10)\n",
    "#         axes[0].set_title(col, fontsize=8)\n",
    "#         axes[1].set_title(f'\"{col} {name}\" w/ threshold {thresholds}', fontsize=8)\n",
    "\n",
    "#         axes[0].set_xlim(df.index[0], max_x)\n",
    "#         axes[1].set_xlim(df.index[0], max_x)\n",
    "#         axes[1].set_ylim(-1.5*max(thresholds), 1.5*max(thresholds))\n",
    "#         axes[0].get_xaxis().set_visible(False)\n",
    "        \n",
    "#         df[col].plot(ax=axes[0], label=\"_\", color=\"chocolate\")\n",
    "#         maneuvers.dropna().plot(ax=axes[1], color=\"chocolate\", legend=False)\n",
    "#         xmin, xmax = axes[1].get_xlim()\n",
    "#         for i, threshold in enumerate(thresholds):\n",
    "#             axes[1].hlines([threshold, -threshold], xmin, xmax, color=cmap((i+1)/(len(thresholds)+2)), linewidth=1)\n",
    "        \n",
    "#         for ax in axes:\n",
    "#             for i, event_range in enumerate(event_ranges):\n",
    "#                 for _,er in event_range.iterrows():\n",
    "#                     ax.axvspan(er.start, er.end, alpha=1, color=cmap((i+1)/(len(thresholds)+2)), label=\"_\")\n",
    "#     return all_axes\n"
   ]
  },
  {
   "cell_type": "code",
   "execution_count": 3,
   "metadata": {},
   "outputs": [],
   "source": [
    "satcat = pd.read_csv(f'../satcat_all.csv')"
   ]
  },
  {
   "cell_type": "markdown",
   "metadata": {},
   "source": [
    "Let's identify the incident from SOCRATES first"
   ]
  },
  {
   "cell_type": "code",
   "execution_count": 4,
   "metadata": {},
   "outputs": [],
   "source": [
    "path = '../../data/socrates/'\n",
    "files = [ (match[0],match[1]) for f in listdir(path) if isfile(join(path, f))  if (match:=re.search('^socrates_([0-9]{14})\\.csv(\\.gz)?$', f))]\n",
    "files\n",
    "\n",
    "# Build single dataset\n",
    "odf = pd.DataFrame()\n",
    "for file,date in files:\n",
    "    tmp_df = pd.read_csv(path + file)\n",
    "    odf = pd.concat([odf,tmp_df])"
   ]
  },
  {
   "cell_type": "code",
   "execution_count": 5,
   "metadata": {},
   "outputs": [],
   "source": [
    "socrates = odf.copy()\n",
    "socrates = socrates.sort_values(by=\"tca_time\", ascending=False)\n",
    "socrates = socrates[socrates.max_prob != 1]\n",
    "socrates = socrates[socrates.rel_velo_kms > 0.2]\n",
    "socrates['tca_time'] = socrates['tca_time'].astype('datetime64[ns]')\n",
    "socrates['extract_date'] = socrates['extract_date'].astype('datetime64[ns]')\n",
    "\n",
    "# `tca_rounded` is to allow grouping of the same event with slightly different `tca_time`\n",
    "socrates['tca_rounded'] = socrates['tca_time'].dt.round('30min')\n",
    "\n",
    "# socrates"
   ]
  },
  {
   "cell_type": "code",
   "execution_count": 6,
   "metadata": {},
   "outputs": [],
   "source": [
    "path = f'../../../siads591 data/filtered_raw/payload.pkl.gz' # path to the data file\n",
    "df = pd.read_pickle(path, compression=\"gzip\")\n",
    "\n",
    "unique_active_satellites = df[df.index > \"2020-11-01\"].NORAD_CAT_ID.unique()"
   ]
  },
  {
   "cell_type": "code",
   "execution_count": 7,
   "metadata": {},
   "outputs": [
    {
     "data": {
      "text/plain": [
       "array([46818, 40053, 43518, ..., 47302, 43728, 47346], dtype=uint16)"
      ]
     },
     "execution_count": 7,
     "metadata": {},
     "output_type": "execute_result"
    }
   ],
   "source": [
    "unique_active_satellites"
   ]
  },
  {
   "cell_type": "markdown",
   "metadata": {},
   "source": [
    "Filtering for active satellies in LEO only resulted in the removal of only 1.35% of Socrates entries! That means most of the Socrates entries are related to active LEO satellites. (232204 -> 229079)"
   ]
  },
  {
   "cell_type": "code",
   "execution_count": 8,
   "metadata": {},
   "outputs": [],
   "source": [
    "active_socrates = socrates.copy()\n",
    "\n",
    "# each group represents a conjunction event\n",
    "active_socrates = active_socrates.groupby(by=[\"sat1_norad\",\"sat2_norad\",\"tca_rounded\"]).agg({'max_prob':'max', 'tca_time':'max', 'extract_date':['min','nunique']})\n",
    "active_socrates.columns = active_socrates.columns.to_flat_index()\n",
    "active_socrates = active_socrates.reset_index()\n",
    "active_socrates.columns = ['sat1','sat2','tca_r','max_prob','tca','extract_date','nunique']\n",
    "\n",
    "# we are evaluating individual satellite maneuvers, so we break up each pair into separate entries\n",
    "active_socrates = active_socrates.melt(id_vars=['tca_r', 'max_prob', 'tca', 'extract_date', 'nunique'], value_vars=[\"sat1\",\"sat2\"])\n",
    "active_socrates = active_socrates.drop(columns=['variable'])\n",
    "active_socrates = active_socrates.rename(columns={'value':'norad_id'})\n",
    "\n",
    "# filter only for satellites that could potentially move\n",
    "active_socrates = active_socrates[(active_socrates.norad_id.isin(unique_active_satellites))]\n",
    "active_socrates = active_socrates.sort_values(by=\"max_prob\", ascending=False)\n",
    "# active_socrates"
   ]
  },
  {
   "cell_type": "code",
   "execution_count": 70,
   "metadata": {},
   "outputs": [],
   "source": [
    "# active_socrates contain all the interesting things that we want to look at\n",
    "# each row represents an active satellite in an event, sorted by max max_prob\n",
    "it = active_socrates.iterrows()"
   ]
  },
  {
   "cell_type": "code",
   "execution_count": 71,
   "metadata": {},
   "outputs": [],
   "source": [
    "combined_maneuver_functions = {\n",
    "    'INCLINATION': [\n",
    "        (\"rolling_10_neightor_diff\", lambda x:x.rolling(10, min_periods=1).mean().shift(-9) - x.rolling(10, min_periods=1).mean(), [0.008]),\n",
    "    ],\n",
    "    'SEMIMAJOR_AXIS': [\n",
    "        (\"rolling_3_neightor_diff\", lambda x:x.rolling(3, min_periods=1).mean().shift(-2) - x.rolling(3, min_periods=1).mean(), [0.025]),\n",
    "    ],\n",
    "}"
   ]
  },
  {
   "cell_type": "code",
   "execution_count": 134,
   "metadata": {
    "scrolled": false
   },
   "outputs": [
    {
     "data": {
      "image/png": "[encoded data removed]",
      "text/plain": [
       "<Figure size 720x504 with 4 Axes>"
      ]
     },
     "metadata": {},
     "output_type": "display_data"
    }
   ],
   "source": [
    "# loop them 1 by 1 manually\n",
    "while True:\n",
    "    row = next(it)[1]\n",
    "    if row[\"max_prob\"] < 0.005:\n",
    "        break\n",
    "    norad_id = row['norad_id']\n",
    "    tca_r = row['tca_r']\n",
    "\n",
    "    soc_data = socrates[((socrates.sat1_norad == norad_id) | (socrates.sat2_norad == norad_id)) & (socrates.tca_rounded == tca_r)].drop_duplicates(subset=[\"extract_date\"]).sort_values(by=\"extract_date\").copy()\n",
    "    if len(soc_data) <= 1:\n",
    "        continue\n",
    "    # display(soc_data)\n",
    "\n",
    "    sat = df[df.NORAD_CAT_ID == norad_id].reset_index().copy()\n",
    "    sat = sat.drop_duplicates(subset=[\"EPOCH\"])\n",
    "    sat = sat.set_index(\"EPOCH\")[['SEMIMAJOR_AXIS_x1000','INCLINATION_x10000']]\n",
    "    sat = sat.loc[(sat.index > (soc_data.extract_date.min() - pd.Timedelta(\"14 days\"))) & (sat.index < (soc_data.tca_time.mean() + pd.Timedelta(\"5 days\")))]\n",
    "\n",
    "    sat['INCLINATION'] = sat['INCLINATION_x10000'].astype(np.float64) / 10000\n",
    "    sat['SEMIMAJOR_AXIS'] = sat['SEMIMAJOR_AXIS_x1000'].astype(np.float64) / 1000\n",
    "    sat = sat[['INCLINATION','SEMIMAJOR_AXIS']]\n",
    "    \n",
    "    import importlib\n",
    "    import detect_maneuver # put it in a .py so it can be used by the SOCRATES detection part also\n",
    "    importlib.reload(detect_maneuver);\n",
    "    \n",
    "#     display(sat)\n",
    "    probs = soc_data[['max_prob','extract_date']].set_index(\"extract_date\")\n",
    "#     display(probs)\n",
    "    \n",
    "    fixed = detect_maneuver.remove_strange_data(sat)\n",
    "    maneuver_results, combined_results = detect_maneuver.find_maneuvers(fixed, combined_maneuver_functions)\n",
    "    \n",
    "    stuff = (fixed, combined_results, f'{satcat.loc[(satcat.NORAD_CAT_ID == norad_id),\"SATNAME\"].values[0]} ({norad_id}) ')\n",
    "    fig, ax = plt.subplots(2,1, squeeze=True, figsize=(10,7), sharex=True)\n",
    "    detect_maneuver.plot_combined_maneuvers(fig, ax[0], *stuff)\n",
    "    fig.tight_layout(pad=1.5)\n",
    "    fig.set_facecolor(\"white\")\n",
    "    fig.legend()\n",
    "    detect_maneuver.plot_extra_lines(ax[1],sat,probs,soc_data)\n",
    "    \n",
    "    break # turn on break to display them 1 by 1 in the notebook\n",
    "    fig.savefig(f'png output/{f}.png', facecolor='white', transparent=False)\n",
    "    plt.close()\n"
   ]
  }
 ],
 "metadata": {
  "kernelspec": {
   "display_name": "Python 3",
   "language": "python",
   "name": "python3"
  },
  "language_info": {
   "codemirror_mode": {
    "name": "ipython",
    "version": 3
   },
   "file_extension": ".py",
   "mimetype": "text/x-python",
   "name": "python",
   "nbconvert_exporter": "python",
   "pygments_lexer": "ipython3",
   "version": "3.8.5"
  }
 },
 "nbformat": 4,
 "nbformat_minor": 4
}
