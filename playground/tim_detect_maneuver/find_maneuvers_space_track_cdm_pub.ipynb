{
 "cells": [
  {
   "cell_type": "markdown",
   "metadata": {},
   "source": [
    "Turns out CDM_PUBLIC data isn't very interesting relative to SOCRATES :(\n",
    "==="
   ]
  },
  {
   "cell_type": "code",
   "execution_count": 1,
   "metadata": {},
   "outputs": [
    {
     "data": {
      "text/html": [
       "<div>\n",
       "<style scoped>\n",
       "    .dataframe tbody tr th:only-of-type {\n",
       "        vertical-align: middle;\n",
       "    }\n",
       "\n",
       "    .dataframe tbody tr th {\n",
       "        vertical-align: top;\n",
       "    }\n",
       "\n",
       "    .dataframe thead th {\n",
       "        text-align: right;\n",
       "    }\n",
       "</style>\n",
       "<table border=\"1\" class=\"dataframe\">\n",
       "  <thead>\n",
       "    <tr style=\"text-align: right;\">\n",
       "      <th></th>\n",
       "      <th>SAT_ID</th>\n",
       "      <th>SAT_NAME</th>\n",
       "      <th>TCA</th>\n",
       "      <th>MIN_RNG</th>\n",
       "      <th>PC</th>\n",
       "    </tr>\n",
       "  </thead>\n",
       "  <tbody>\n",
       "    <tr>\n",
       "      <th>0</th>\n",
       "      <td>7727</td>\n",
       "      <td>COSMOS 724</td>\n",
       "      <td>2020-11-27 11:46:21.950</td>\n",
       "      <td>236</td>\n",
       "      <td>0.000172</td>\n",
       "    </tr>\n",
       "    <tr>\n",
       "      <th>1</th>\n",
       "      <td>10489</td>\n",
       "      <td>METEOSAT 1</td>\n",
       "      <td>2020-11-25 22:15:00.479</td>\n",
       "      <td>2546</td>\n",
       "      <td>NaN</td>\n",
       "    </tr>\n",
       "    <tr>\n",
       "      <th>3</th>\n",
       "      <td>23710</td>\n",
       "      <td>RADARSAT</td>\n",
       "      <td>2020-11-25 18:46:52.631</td>\n",
       "      <td>262</td>\n",
       "      <td>0.001849</td>\n",
       "    </tr>\n",
       "    <tr>\n",
       "      <th>4</th>\n",
       "      <td>25642</td>\n",
       "      <td>RADUGA 1-4</td>\n",
       "      <td>2020-11-26 14:31:33.119</td>\n",
       "      <td>3645</td>\n",
       "      <td>NaN</td>\n",
       "    </tr>\n",
       "    <tr>\n",
       "      <th>10</th>\n",
       "      <td>24292</td>\n",
       "      <td>MAGION 5</td>\n",
       "      <td>2020-11-28 13:39:43.027</td>\n",
       "      <td>2698</td>\n",
       "      <td>NaN</td>\n",
       "    </tr>\n",
       "    <tr>\n",
       "      <th>...</th>\n",
       "      <td>...</td>\n",
       "      <td>...</td>\n",
       "      <td>...</td>\n",
       "      <td>...</td>\n",
       "      <td>...</td>\n",
       "    </tr>\n",
       "    <tr>\n",
       "      <th>1794</th>\n",
       "      <td>23045</td>\n",
       "      <td>COSMOS 2275 (GLONASS)</td>\n",
       "      <td>2020-12-25 02:07:22.928</td>\n",
       "      <td>4883</td>\n",
       "      <td>NaN</td>\n",
       "    </tr>\n",
       "    <tr>\n",
       "      <th>1870</th>\n",
       "      <td>6845</td>\n",
       "      <td>COSMOS 588</td>\n",
       "      <td>2020-12-26 03:53:17.807</td>\n",
       "      <td>282</td>\n",
       "      <td>0.000229</td>\n",
       "    </tr>\n",
       "    <tr>\n",
       "      <th>1938</th>\n",
       "      <td>20659</td>\n",
       "      <td>GORIZONT 20</td>\n",
       "      <td>2020-12-27 07:27:55.082</td>\n",
       "      <td>3231</td>\n",
       "      <td>NaN</td>\n",
       "    </tr>\n",
       "    <tr>\n",
       "      <th>1938</th>\n",
       "      <td>25315</td>\n",
       "      <td>COSMOS 2350</td>\n",
       "      <td>2020-12-27 07:27:55.082</td>\n",
       "      <td>3231</td>\n",
       "      <td>NaN</td>\n",
       "    </tr>\n",
       "    <tr>\n",
       "      <th>1942</th>\n",
       "      <td>1360</td>\n",
       "      <td>LES 2</td>\n",
       "      <td>2020-12-27 15:58:42.540</td>\n",
       "      <td>2047</td>\n",
       "      <td>NaN</td>\n",
       "    </tr>\n",
       "  </tbody>\n",
       "</table>\n",
       "<p>125 rows × 5 columns</p>\n",
       "</div>"
      ],
      "text/plain": [
       "      SAT_ID               SAT_NAME                     TCA  MIN_RNG        PC\n",
       "0       7727             COSMOS 724 2020-11-27 11:46:21.950      236  0.000172\n",
       "1      10489             METEOSAT 1 2020-11-25 22:15:00.479     2546       NaN\n",
       "3      23710               RADARSAT 2020-11-25 18:46:52.631      262  0.001849\n",
       "4      25642             RADUGA 1-4 2020-11-26 14:31:33.119     3645       NaN\n",
       "10     24292               MAGION 5 2020-11-28 13:39:43.027     2698       NaN\n",
       "...      ...                    ...                     ...      ...       ...\n",
       "1794   23045  COSMOS 2275 (GLONASS) 2020-12-25 02:07:22.928     4883       NaN\n",
       "1870    6845             COSMOS 588 2020-12-26 03:53:17.807      282  0.000229\n",
       "1938   20659            GORIZONT 20 2020-12-27 07:27:55.082     3231       NaN\n",
       "1938   25315            COSMOS 2350 2020-12-27 07:27:55.082     3231       NaN\n",
       "1942    1360                  LES 2 2020-12-27 15:58:42.540     2047       NaN\n",
       "\n",
       "[125 rows x 5 columns]"
      ]
     },
     "execution_count": 1,
     "metadata": {},
     "output_type": "execute_result"
    }
   ],
   "source": [
    "import pandas as pd\n",
    "import datetime\n",
    "import plotly.express as px\n",
    "import plotly.graph_objects as go\n",
    "from plotly.subplots import make_subplots\n",
    "import numpy as np\n",
    "\n",
    "np.set_printoptions(suppress=True)\n",
    "\n",
    "cdm_raw = pd.read_csv(\"spacetrack_public_cdm.csv\")\n",
    "cdm_raw['TCA'] = cdm_raw['TCA'].astype('datetime64[ns]')\n",
    "\n",
    "cdm1 = cdm_raw[cdm_raw.SAT1_OBJECT_TYPE == \"PAYLOAD\"]\n",
    "cdm1.columns = cdm1.columns.str.replace(\"SAT_1\",\"SAT\")\n",
    "cdm1.columns = cdm1.columns.str.replace(\"SAT1\",\"SAT\")\n",
    "cdm1 = cdm1.drop(columns=cdm1.columns[cdm1.columns.str.contains(\"SAT_2\")])\n",
    "cdm1 = cdm1.drop(columns=cdm1.columns[cdm1.columns.str.contains(\"SAT2\")])\n",
    "\n",
    "cdm2 = cdm_raw[cdm_raw.SAT2_OBJECT_TYPE == \"PAYLOAD\"]\n",
    "cdm2.columns = cdm2.columns.str.replace(\"SAT_2\",\"SAT\")\n",
    "cdm2.columns = cdm2.columns.str.replace(\"SAT2\",\"SAT\")\n",
    "cdm2 = cdm2.drop(columns=cdm2.columns[cdm2.columns.str.contains(\"SAT_1\")])\n",
    "cdm2 = cdm2.drop(columns=cdm2.columns[cdm2.columns.str.contains(\"SAT1\")])\n",
    "\n",
    "cdm_df = pd.concat([cdm1, cdm2]).sort_values(by=\"CDM_ID\", ascending=True)\n",
    "cdm_df = cdm_df.drop_duplicates(subset=['SAT_ID'])\n",
    "cdm_df = cdm_df[[\"SAT_ID\",\"SAT_NAME\",\"TCA\",\"MIN_RNG\",\"PC\"]]\n",
    "\n",
    "cdm_df"
   ]
  },
  {
   "cell_type": "code",
   "execution_count": 2,
   "metadata": {},
   "outputs": [],
   "source": [
    "# get all norad_ids play with (only 125)\n",
    "norad_ids = cdm_df.SAT_ID.values\n",
    "as_string = \",\".join(map(str,norad_ids))"
   ]
  },
  {
   "cell_type": "code",
   "execution_count": 3,
   "metadata": {},
   "outputs": [
    {
     "data": {
      "text/plain": [
       "'https://www.space-track.org/basicspacedata/query/class/gp_history/NORAD_CAT_ID/7727,10489,23710,25642,24292,21087,22489,17303,17369,15698,7593,23431,28221,28368,2142,20465,10594,22182,28470,13974,20693,18214,28112,28894,2847,4166,10991,27561,28220,2834,24652,10981,15697,23323,23814,24305,25367,28898,3081,27943,23455,16181,11111,27598,1641,7003,16611,20441,25635,25731,28479,9903,11735,4132,24842,45,22236,11765,13381,18123,20024,12156,14979,27600,14154,5917,21783,9589,15057,17584,26064,31126,10676,33062,12642,506,13916,14452,24841,8026,16969,2801,11971,14172,899,20232,22186,7250,20788,25399,670,25320,16199,12309,25395,1613,10961,27664,728,16613,18421,25394,13148,27820,23175,15077,21263,22828,23751,25941,19467,309,8458,16326,1208,1272,12994,13984,16276,20040,23045,6845,20659,25315,1360/EPOCH/>now-150/orderby/EPOCH desc/limit/100000/format/csv/emptyresult/show'"
      ]
     },
     "execution_count": 3,
     "metadata": {},
     "output_type": "execute_result"
    }
   ],
   "source": [
    "f\"https://www.space-track.org/basicspacedata/query/class/gp_history/NORAD_CAT_ID/{as_string}/EPOCH/>now-150/orderby/EPOCH desc/limit/100000/format/csv/emptyresult/show\""
   ]
  },
  {
   "cell_type": "code",
   "execution_count": 4,
   "metadata": {},
   "outputs": [],
   "source": [
    "df = pd.read_csv(\"cdm_emergency_reportable_tles.csv\")\n",
    "df['EPOCH'] = df['EPOCH'].astype('datetime64[ns]')\n",
    "df = df[[\"NORAD_CAT_ID\",\"INCLINATION\",\"SEMIMAJOR_AXIS\",\"EPOCH\"]]"
   ]
  },
  {
   "cell_type": "code",
   "execution_count": 5,
   "metadata": {},
   "outputs": [],
   "source": [
    "new_df = df.merge(cdm_df,how=\"left\",left_on=\"NORAD_CAT_ID\",right_on=\"SAT_ID\")\n",
    "new_df[\"delta\"] = new_df.EPOCH - new_df.TCA\n",
    "new_df[\"ddelta\"] = new_df.delta / datetime.timedelta(days=1)\n",
    "new_df = new_df[(new_df.delta > datetime.timedelta(days=-14)) & (new_df.delta < datetime.timedelta(days=7))]\n",
    "new_df = new_df.sort_values(by=\"EPOCH\")"
   ]
  },
  {
   "cell_type": "code",
   "execution_count": 6,
   "metadata": {},
   "outputs": [
    {
     "data": {
      "text/html": [
       "<div>\n",
       "<style scoped>\n",
       "    .dataframe tbody tr th:only-of-type {\n",
       "        vertical-align: middle;\n",
       "    }\n",
       "\n",
       "    .dataframe tbody tr th {\n",
       "        vertical-align: top;\n",
       "    }\n",
       "\n",
       "    .dataframe thead th {\n",
       "        text-align: right;\n",
       "    }\n",
       "</style>\n",
       "<table border=\"1\" class=\"dataframe\">\n",
       "  <thead>\n",
       "    <tr style=\"text-align: right;\">\n",
       "      <th></th>\n",
       "      <th>NORAD_CAT_ID</th>\n",
       "      <th>INCLINATION</th>\n",
       "      <th>SEMIMAJOR_AXIS</th>\n",
       "      <th>EPOCH</th>\n",
       "      <th>SAT_ID</th>\n",
       "      <th>SAT_NAME</th>\n",
       "      <th>TCA</th>\n",
       "      <th>MIN_RNG</th>\n",
       "      <th>PC</th>\n",
       "      <th>delta</th>\n",
       "      <th>ddelta</th>\n",
       "    </tr>\n",
       "  </thead>\n",
       "  <tbody>\n",
       "    <tr>\n",
       "      <th>4567</th>\n",
       "      <td>27943</td>\n",
       "      <td>98.1289</td>\n",
       "      <td>7056.907</td>\n",
       "      <td>2020-12-09 08:10:10.510752</td>\n",
       "      <td>27943</td>\n",
       "      <td>BILSAT 1</td>\n",
       "      <td>2020-12-03 11:47:12.732</td>\n",
       "      <td>898</td>\n",
       "      <td>0.000146</td>\n",
       "      <td>5 days 20:22:57.778752</td>\n",
       "      <td>5.849280</td>\n",
       "    </tr>\n",
       "    <tr>\n",
       "      <th>5888</th>\n",
       "      <td>21783</td>\n",
       "      <td>82.6059</td>\n",
       "      <td>7775.423</td>\n",
       "      <td>2020-12-05 06:39:48.638592</td>\n",
       "      <td>21783</td>\n",
       "      <td>COSMOS 2169</td>\n",
       "      <td>2020-12-14 16:53:32.821</td>\n",
       "      <td>144</td>\n",
       "      <td>0.000764</td>\n",
       "      <td>-10 days +13:46:15.817592</td>\n",
       "      <td>-9.426206</td>\n",
       "    </tr>\n",
       "    <tr>\n",
       "      <th>6193</th>\n",
       "      <td>26064</td>\n",
       "      <td>100.1961</td>\n",
       "      <td>7149.147</td>\n",
       "      <td>2020-12-04 09:55:38.593632</td>\n",
       "      <td>26064</td>\n",
       "      <td>FALCONSAT</td>\n",
       "      <td>2020-12-15 03:52:40.029</td>\n",
       "      <td>134</td>\n",
       "      <td>0.000821</td>\n",
       "      <td>-11 days +06:02:58.564632</td>\n",
       "      <td>-10.747933</td>\n",
       "    </tr>\n",
       "  </tbody>\n",
       "</table>\n",
       "</div>"
      ],
      "text/plain": [
       "      NORAD_CAT_ID  INCLINATION  SEMIMAJOR_AXIS                      EPOCH  \\\n",
       "4567         27943      98.1289        7056.907 2020-12-09 08:10:10.510752   \n",
       "5888         21783      82.6059        7775.423 2020-12-05 06:39:48.638592   \n",
       "6193         26064     100.1961        7149.147 2020-12-04 09:55:38.593632   \n",
       "\n",
       "      SAT_ID     SAT_NAME                     TCA  MIN_RNG        PC  \\\n",
       "4567   27943     BILSAT 1 2020-12-03 11:47:12.732      898  0.000146   \n",
       "5888   21783  COSMOS 2169 2020-12-14 16:53:32.821      144  0.000764   \n",
       "6193   26064    FALCONSAT 2020-12-15 03:52:40.029      134  0.000821   \n",
       "\n",
       "                         delta     ddelta  \n",
       "4567    5 days 20:22:57.778752   5.849280  \n",
       "5888 -10 days +13:46:15.817592  -9.426206  \n",
       "6193 -11 days +06:02:58.564632 -10.747933  "
      ]
     },
     "execution_count": 6,
     "metadata": {},
     "output_type": "execute_result"
    }
   ],
   "source": [
    "new_df.sample(3)"
   ]
  },
  {
   "cell_type": "code",
   "execution_count": 7,
   "metadata": {},
   "outputs": [],
   "source": [
    "pstd = new_df.groupby(by=\"SAT_ID\")[[\"SEMIMAJOR_AXIS\",\"INCLINATION\"]].agg([('PERCENT_STD', lambda value: 100* value.std() / value.mean())])\n",
    "pstd.columns = pstd.columns.droplevel(1)\n",
    "pstd = pstd.rename(columns={'SEMIMAJOR_AXIS':'SEMIMAJOR_AXIS_PERCENT_STD','INCLINATION':'INCLINATION_PERCENT_STD'})\n",
    "pstd\n",
    "# cdm_df = cdm_df.merge\n",
    "\n",
    "cdm_df = cdm_df.merge(pstd,how=\"left\",left_on=\"SAT_ID\",right_index=True)\n",
    "cdm_df = cdm_df.sort_values(\"SEMIMAJOR_AXIS_PERCENT_STD\", ascending=False)"
   ]
  },
  {
   "cell_type": "markdown",
   "metadata": {},
   "source": [
    "Single satellite charts\n",
    "===\n",
    "\n",
    "I used an iterator here so we can quickly generate charts in jupyter by running the cell following that over and over.\n",
    "Reset the iterator to start over from the highest `max_prob`"
   ]
  },
  {
   "cell_type": "code",
   "execution_count": 26,
   "metadata": {},
   "outputs": [],
   "source": [
    "iter_sat_ids = iter(cdm_df.SAT_ID.values)"
   ]
  },
  {
   "cell_type": "code",
   "execution_count": 27,
   "metadata": {},
   "outputs": [
    {
     "data": {
      "application/vnd.plotly.v1+json": {
       "config": {
        "plotlyServerURL": "https://plot.ly"
       },
       "data": [
        {
         "mode": "lines",
         "name": "SEMIMAJOR_AXIS",
         "type": "scatter",
         "x": [
          -13.9407652575,
          -13.4069102775,
          -12.7395947475,
          -12.4059378775,
          -11.9388195775,
          -11.4049716975,
          -10.6709356575,
          -10.0036343775,
          -9.6032549675,
          -9.4697953875,
          -9.0026885175,
          -8.6690415975,
          -8.4688536875,
          -7.6681062575,
          -7.4679202875,
          -6.6004520875,
          -6.6004520875,
          -5.6662650175,
          -5.0657209975,
          -4.6653606075,
          -3.7979195575,
          -3.1973887375,
          -2.7970367375,
          -1.8628886775,
          -1.5292664375,
          -1.5292664375,
          -0.9287499975,
          -0.5284073875,
          -0.5284073875,
          0.0053807225,
          0.4724430825,
          0.4724430825,
          1.0062259025,
          1.8068957425,
          2.0070623825,
          2.0737844725,
          2.7410036625,
          3.0078902825,
          3.0746119125,
          3.4082190425,
          3.4082190425,
          4.0754307825,
          4.4090355025,
          4.4090355025,
          5.0762426825,
          5.2764042825,
          6.0770486625,
          6.2772090525,
          6.7442492325
         ],
         "xaxis": "x",
         "y": [
          6948.25,
          6948.238,
          6948.215,
          6948.205,
          6948.191,
          6948.173000000001,
          6948.14,
          6948.111,
          6948.098000000001,
          6948.095,
          6948.081,
          6948.07,
          6948.064,
          6948.034000000001,
          6948.022,
          6947.981,
          6947.981,
          6947.927,
          6947.901999999999,
          6947.878000000001,
          6947.834,
          6947.8009999999995,
          6947.786999999999,
          6947.74,
          6947.723000000001,
          6947.723000000001,
          6947.694,
          6947.673000000001,
          6947.673000000001,
          6947.651999999999,
          6947.6359999999995,
          6947.6359999999995,
          6947.609,
          6947.579000000001,
          6947.571,
          6947.57,
          6947.541,
          6947.53,
          6947.529,
          6947.516,
          6947.516,
          6947.491999999999,
          6947.481,
          6947.481,
          6947.464,
          6947.4580000000005,
          6947.435,
          6947.425,
          6947.411
         ],
         "yaxis": "y"
        },
        {
         "mode": "lines",
         "name": "INCLINATION",
         "type": "scatter",
         "x": [
          -13.9407652575,
          -13.4069102775,
          -12.7395947475,
          -12.4059378775,
          -11.9388195775,
          -11.4049716975,
          -10.6709356575,
          -10.0036343775,
          -9.6032549675,
          -9.4697953875,
          -9.0026885175,
          -8.6690415975,
          -8.4688536875,
          -7.6681062575,
          -7.4679202875,
          -6.6004520875,
          -6.6004520875,
          -5.6662650175,
          -5.0657209975,
          -4.6653606075,
          -3.7979195575,
          -3.1973887375,
          -2.7970367375,
          -1.8628886775,
          -1.5292664375,
          -1.5292664375,
          -0.9287499975,
          -0.5284073875,
          -0.5284073875,
          0.0053807225,
          0.4724430825,
          0.4724430825,
          1.0062259025,
          1.8068957425,
          2.0070623825,
          2.0737844725,
          2.7410036625,
          3.0078902825,
          3.0746119125,
          3.4082190425,
          3.4082190425,
          4.0754307825,
          4.4090355025,
          4.4090355025,
          5.0762426825,
          5.2764042825,
          6.0770486625,
          6.2772090525,
          6.7442492325
         ],
         "xaxis": "x",
         "y": [
          69.9638,
          69.964,
          69.964,
          69.964,
          69.964,
          69.9641,
          69.9641,
          69.964,
          69.9639,
          69.9638,
          69.9637,
          69.9636,
          69.9636,
          69.9634,
          69.9633,
          69.9632,
          69.9632,
          69.9633,
          69.9633,
          69.9634,
          69.9636,
          69.9637,
          69.9638,
          69.9641,
          69.9642,
          69.9642,
          69.9643,
          69.9644,
          69.9644,
          69.9646,
          69.9645,
          69.9645,
          69.9645,
          69.9644,
          69.9644,
          69.9643,
          69.964,
          69.964,
          69.964,
          69.9639,
          69.9639,
          69.9638,
          69.9637,
          69.9637,
          69.9635,
          69.9635,
          69.9634,
          69.9634,
          69.9634
         ],
         "yaxis": "y2"
        }
       ],
       "layout": {
        "template": {
         "data": {
          "bar": [
           {
            "error_x": {
             "color": "#2a3f5f"
            },
            "error_y": {
             "color": "#2a3f5f"
            },
            "marker": {
             "line": {
              "color": "#E5ECF6",
              "width": 0.5
             }
            },
            "type": "bar"
           }
          ],
          "barpolar": [
           {
            "marker": {
             "line": {
              "color": "#E5ECF6",
              "width": 0.5
             }
            },
            "type": "barpolar"
           }
          ],
          "carpet": [
           {
            "aaxis": {
             "endlinecolor": "#2a3f5f",
             "gridcolor": "white",
             "linecolor": "white",
             "minorgridcolor": "white",
             "startlinecolor": "#2a3f5f"
            },
            "baxis": {
             "endlinecolor": "#2a3f5f",
             "gridcolor": "white",
             "linecolor": "white",
             "minorgridcolor": "white",
             "startlinecolor": "#2a3f5f"
            },
            "type": "carpet"
           }
          ],
          "choropleth": [
           {
            "colorbar": {
             "outlinewidth": 0,
             "ticks": ""
            },
            "type": "choropleth"
           }
          ],
          "contour": [
           {
            "colorbar": {
             "outlinewidth": 0,
             "ticks": ""
            },
            "colorscale": [
             [
              0,
              "#0d0887"
             ],
             [
              0.1111111111111111,
              "#46039f"
             ],
             [
              0.2222222222222222,
              "#7201a8"
             ],
             [
              0.3333333333333333,
              "#9c179e"
             ],
             [
              0.4444444444444444,
              "#bd3786"
             ],
             [
              0.5555555555555556,
              "#d8576b"
             ],
             [
              0.6666666666666666,
              "#ed7953"
             ],
             [
              0.7777777777777778,
              "#fb9f3a"
             ],
             [
              0.8888888888888888,
              "#fdca26"
             ],
             [
              1,
              "#f0f921"
             ]
            ],
            "type": "contour"
           }
          ],
          "contourcarpet": [
           {
            "colorbar": {
             "outlinewidth": 0,
             "ticks": ""
            },
            "type": "contourcarpet"
           }
          ],
          "heatmap": [
           {
            "colorbar": {
             "outlinewidth": 0,
             "ticks": ""
            },
            "colorscale": [
             [
              0,
              "#0d0887"
             ],
             [
              0.1111111111111111,
              "#46039f"
             ],
             [
              0.2222222222222222,
              "#7201a8"
             ],
             [
              0.3333333333333333,
              "#9c179e"
             ],
             [
              0.4444444444444444,
              "#bd3786"
             ],
             [
              0.5555555555555556,
              "#d8576b"
             ],
             [
              0.6666666666666666,
              "#ed7953"
             ],
             [
              0.7777777777777778,
              "#fb9f3a"
             ],
             [
              0.8888888888888888,
              "#fdca26"
             ],
             [
              1,
              "#f0f921"
             ]
            ],
            "type": "heatmap"
           }
          ],
          "heatmapgl": [
           {
            "colorbar": {
             "outlinewidth": 0,
             "ticks": ""
            },
            "colorscale": [
             [
              0,
              "#0d0887"
             ],
             [
              0.1111111111111111,
              "#46039f"
             ],
             [
              0.2222222222222222,
              "#7201a8"
             ],
             [
              0.3333333333333333,
              "#9c179e"
             ],
             [
              0.4444444444444444,
              "#bd3786"
             ],
             [
              0.5555555555555556,
              "#d8576b"
             ],
             [
              0.6666666666666666,
              "#ed7953"
             ],
             [
              0.7777777777777778,
              "#fb9f3a"
             ],
             [
              0.8888888888888888,
              "#fdca26"
             ],
             [
              1,
              "#f0f921"
             ]
            ],
            "type": "heatmapgl"
           }
          ],
          "histogram": [
           {
            "marker": {
             "colorbar": {
              "outlinewidth": 0,
              "ticks": ""
             }
            },
            "type": "histogram"
           }
          ],
          "histogram2d": [
           {
            "colorbar": {
             "outlinewidth": 0,
             "ticks": ""
            },
            "colorscale": [
             [
              0,
              "#0d0887"
             ],
             [
              0.1111111111111111,
              "#46039f"
             ],
             [
              0.2222222222222222,
              "#7201a8"
             ],
             [
              0.3333333333333333,
              "#9c179e"
             ],
             [
              0.4444444444444444,
              "#bd3786"
             ],
             [
              0.5555555555555556,
              "#d8576b"
             ],
             [
              0.6666666666666666,
              "#ed7953"
             ],
             [
              0.7777777777777778,
              "#fb9f3a"
             ],
             [
              0.8888888888888888,
              "#fdca26"
             ],
             [
              1,
              "#f0f921"
             ]
            ],
            "type": "histogram2d"
           }
          ],
          "histogram2dcontour": [
           {
            "colorbar": {
             "outlinewidth": 0,
             "ticks": ""
            },
            "colorscale": [
             [
              0,
              "#0d0887"
             ],
             [
              0.1111111111111111,
              "#46039f"
             ],
             [
              0.2222222222222222,
              "#7201a8"
             ],
             [
              0.3333333333333333,
              "#9c179e"
             ],
             [
              0.4444444444444444,
              "#bd3786"
             ],
             [
              0.5555555555555556,
              "#d8576b"
             ],
             [
              0.6666666666666666,
              "#ed7953"
             ],
             [
              0.7777777777777778,
              "#fb9f3a"
             ],
             [
              0.8888888888888888,
              "#fdca26"
             ],
             [
              1,
              "#f0f921"
             ]
            ],
            "type": "histogram2dcontour"
           }
          ],
          "mesh3d": [
           {
            "colorbar": {
             "outlinewidth": 0,
             "ticks": ""
            },
            "type": "mesh3d"
           }
          ],
          "parcoords": [
           {
            "line": {
             "colorbar": {
              "outlinewidth": 0,
              "ticks": ""
             }
            },
            "type": "parcoords"
           }
          ],
          "pie": [
           {
            "automargin": true,
            "type": "pie"
           }
          ],
          "scatter": [
           {
            "marker": {
             "colorbar": {
              "outlinewidth": 0,
              "ticks": ""
             }
            },
            "type": "scatter"
           }
          ],
          "scatter3d": [
           {
            "line": {
             "colorbar": {
              "outlinewidth": 0,
              "ticks": ""
             }
            },
            "marker": {
             "colorbar": {
              "outlinewidth": 0,
              "ticks": ""
             }
            },
            "type": "scatter3d"
           }
          ],
          "scattercarpet": [
           {
            "marker": {
             "colorbar": {
              "outlinewidth": 0,
              "ticks": ""
             }
            },
            "type": "scattercarpet"
           }
          ],
          "scattergeo": [
           {
            "marker": {
             "colorbar": {
              "outlinewidth": 0,
              "ticks": ""
             }
            },
            "type": "scattergeo"
           }
          ],
          "scattergl": [
           {
            "marker": {
             "colorbar": {
              "outlinewidth": 0,
              "ticks": ""
             }
            },
            "type": "scattergl"
           }
          ],
          "scattermapbox": [
           {
            "marker": {
             "colorbar": {
              "outlinewidth": 0,
              "ticks": ""
             }
            },
            "type": "scattermapbox"
           }
          ],
          "scatterpolar": [
           {
            "marker": {
             "colorbar": {
              "outlinewidth": 0,
              "ticks": ""
             }
            },
            "type": "scatterpolar"
           }
          ],
          "scatterpolargl": [
           {
            "marker": {
             "colorbar": {
              "outlinewidth": 0,
              "ticks": ""
             }
            },
            "type": "scatterpolargl"
           }
          ],
          "scatterternary": [
           {
            "marker": {
             "colorbar": {
              "outlinewidth": 0,
              "ticks": ""
             }
            },
            "type": "scatterternary"
           }
          ],
          "surface": [
           {
            "colorbar": {
             "outlinewidth": 0,
             "ticks": ""
            },
            "colorscale": [
             [
              0,
              "#0d0887"
             ],
             [
              0.1111111111111111,
              "#46039f"
             ],
             [
              0.2222222222222222,
              "#7201a8"
             ],
             [
              0.3333333333333333,
              "#9c179e"
             ],
             [
              0.4444444444444444,
              "#bd3786"
             ],
             [
              0.5555555555555556,
              "#d8576b"
             ],
             [
              0.6666666666666666,
              "#ed7953"
             ],
             [
              0.7777777777777778,
              "#fb9f3a"
             ],
             [
              0.8888888888888888,
              "#fdca26"
             ],
             [
              1,
              "#f0f921"
             ]
            ],
            "type": "surface"
           }
          ],
          "table": [
           {
            "cells": {
             "fill": {
              "color": "#EBF0F8"
             },
             "line": {
              "color": "white"
             }
            },
            "header": {
             "fill": {
              "color": "#C8D4E3"
             },
             "line": {
              "color": "white"
             }
            },
            "type": "table"
           }
          ]
         },
         "layout": {
          "annotationdefaults": {
           "arrowcolor": "#2a3f5f",
           "arrowhead": 0,
           "arrowwidth": 1
          },
          "autotypenumbers": "strict",
          "coloraxis": {
           "colorbar": {
            "outlinewidth": 0,
            "ticks": ""
           }
          },
          "colorscale": {
           "diverging": [
            [
             0,
             "#8e0152"
            ],
            [
             0.1,
             "#c51b7d"
            ],
            [
             0.2,
             "#de77ae"
            ],
            [
             0.3,
             "#f1b6da"
            ],
            [
             0.4,
             "#fde0ef"
            ],
            [
             0.5,
             "#f7f7f7"
            ],
            [
             0.6,
             "#e6f5d0"
            ],
            [
             0.7,
             "#b8e186"
            ],
            [
             0.8,
             "#7fbc41"
            ],
            [
             0.9,
             "#4d9221"
            ],
            [
             1,
             "#276419"
            ]
           ],
           "sequential": [
            [
             0,
             "#0d0887"
            ],
            [
             0.1111111111111111,
             "#46039f"
            ],
            [
             0.2222222222222222,
             "#7201a8"
            ],
            [
             0.3333333333333333,
             "#9c179e"
            ],
            [
             0.4444444444444444,
             "#bd3786"
            ],
            [
             0.5555555555555556,
             "#d8576b"
            ],
            [
             0.6666666666666666,
             "#ed7953"
            ],
            [
             0.7777777777777778,
             "#fb9f3a"
            ],
            [
             0.8888888888888888,
             "#fdca26"
            ],
            [
             1,
             "#f0f921"
            ]
           ],
           "sequentialminus": [
            [
             0,
             "#0d0887"
            ],
            [
             0.1111111111111111,
             "#46039f"
            ],
            [
             0.2222222222222222,
             "#7201a8"
            ],
            [
             0.3333333333333333,
             "#9c179e"
            ],
            [
             0.4444444444444444,
             "#bd3786"
            ],
            [
             0.5555555555555556,
             "#d8576b"
            ],
            [
             0.6666666666666666,
             "#ed7953"
            ],
            [
             0.7777777777777778,
             "#fb9f3a"
            ],
            [
             0.8888888888888888,
             "#fdca26"
            ],
            [
             1,
             "#f0f921"
            ]
           ]
          },
          "colorway": [
           "#636efa",
           "#EF553B",
           "#00cc96",
           "#ab63fa",
           "#FFA15A",
           "#19d3f3",
           "#FF6692",
           "#B6E880",
           "#FF97FF",
           "#FECB52"
          ],
          "font": {
           "color": "#2a3f5f"
          },
          "geo": {
           "bgcolor": "white",
           "lakecolor": "white",
           "landcolor": "#E5ECF6",
           "showlakes": true,
           "showland": true,
           "subunitcolor": "white"
          },
          "hoverlabel": {
           "align": "left"
          },
          "hovermode": "closest",
          "mapbox": {
           "style": "light"
          },
          "paper_bgcolor": "white",
          "plot_bgcolor": "#E5ECF6",
          "polar": {
           "angularaxis": {
            "gridcolor": "white",
            "linecolor": "white",
            "ticks": ""
           },
           "bgcolor": "#E5ECF6",
           "radialaxis": {
            "gridcolor": "white",
            "linecolor": "white",
            "ticks": ""
           }
          },
          "scene": {
           "xaxis": {
            "backgroundcolor": "#E5ECF6",
            "gridcolor": "white",
            "gridwidth": 2,
            "linecolor": "white",
            "showbackground": true,
            "ticks": "",
            "zerolinecolor": "white"
           },
           "yaxis": {
            "backgroundcolor": "#E5ECF6",
            "gridcolor": "white",
            "gridwidth": 2,
            "linecolor": "white",
            "showbackground": true,
            "ticks": "",
            "zerolinecolor": "white"
           },
           "zaxis": {
            "backgroundcolor": "#E5ECF6",
            "gridcolor": "white",
            "gridwidth": 2,
            "linecolor": "white",
            "showbackground": true,
            "ticks": "",
            "zerolinecolor": "white"
           }
          },
          "shapedefaults": {
           "line": {
            "color": "#2a3f5f"
           }
          },
          "ternary": {
           "aaxis": {
            "gridcolor": "white",
            "linecolor": "white",
            "ticks": ""
           },
           "baxis": {
            "gridcolor": "white",
            "linecolor": "white",
            "ticks": ""
           },
           "bgcolor": "#E5ECF6",
           "caxis": {
            "gridcolor": "white",
            "linecolor": "white",
            "ticks": ""
           }
          },
          "title": {
           "x": 0.05
          },
          "xaxis": {
           "automargin": true,
           "gridcolor": "white",
           "linecolor": "white",
           "ticks": "",
           "title": {
            "standoff": 15
           },
           "zerolinecolor": "white",
           "zerolinewidth": 2
          },
          "yaxis": {
           "automargin": true,
           "gridcolor": "white",
           "linecolor": "white",
           "ticks": "",
           "title": {
            "standoff": 15
           },
           "zerolinecolor": "white",
           "zerolinewidth": 2
          }
         }
        },
        "title": {
         "text": "Detecting collision avoidance maneuver: SOICAL (CYLINDER) (4166)  Num TLEs: 49<br>SEMIMAJOR_AXIS %std: 0.0038791089807206193%  INCLINATION %std: 0.0005587540684871289%"
        },
        "xaxis": {
         "anchor": "y",
         "domain": [
          0,
          0.94
         ],
         "title": {
          "text": "Day delta with Time of Closest Approach"
         }
        },
        "yaxis": {
         "anchor": "x",
         "domain": [
          0,
          1
         ],
         "title": {
          "text": "SEMIMAJOR_AXIS"
         }
        },
        "yaxis2": {
         "anchor": "x",
         "overlaying": "y",
         "side": "right",
         "title": {
          "text": "INCLINATION"
         }
        }
       }
      },
      "text/html": [
       "<div>                            <div id=\"577c8d38-21e8-4c6c-901d-d5fbba932da4\" class=\"plotly-graph-div\" style=\"height:525px; width:100%;\"></div>            <script type=\"text/javascript\">                require([\"plotly\"], function(Plotly) {                    window.PLOTLYENV=window.PLOTLYENV || {};                                    if (document.getElementById(\"577c8d38-21e8-4c6c-901d-d5fbba932da4\")) {                    Plotly.newPlot(                        \"577c8d38-21e8-4c6c-901d-d5fbba932da4\",                        [{\"mode\": \"lines\", \"name\": \"SEMIMAJOR_AXIS\", \"type\": \"scatter\", \"x\": [-13.9407652575, -13.4069102775, -12.7395947475, -12.4059378775, -11.9388195775, -11.4049716975, -10.6709356575, -10.0036343775, -9.6032549675, -9.4697953875, -9.0026885175, -8.6690415975, -8.4688536875, -7.6681062575, -7.4679202875, -6.6004520875, -6.6004520875, -5.6662650175, -5.0657209975, -4.6653606075, -3.7979195575, -3.1973887375, -2.7970367375, -1.8628886775, -1.5292664375, -1.5292664375, -0.9287499975, -0.5284073875, -0.5284073875, 0.0053807225, 0.4724430825, 0.4724430825, 1.0062259025, 1.8068957425, 2.0070623825, 2.0737844725, 2.7410036625, 3.0078902825, 3.0746119125, 3.4082190425, 3.4082190425, 4.0754307825, 4.4090355025, 4.4090355025, 5.0762426825, 5.2764042825, 6.0770486625, 6.2772090525, 6.7442492325], \"xaxis\": \"x\", \"y\": [6948.25, 6948.238, 6948.215, 6948.205, 6948.191, 6948.173000000001, 6948.14, 6948.111, 6948.098000000001, 6948.095, 6948.081, 6948.07, 6948.064, 6948.034000000001, 6948.022, 6947.981, 6947.981, 6947.927, 6947.901999999999, 6947.878000000001, 6947.834, 6947.8009999999995, 6947.786999999999, 6947.74, 6947.723000000001, 6947.723000000001, 6947.694, 6947.673000000001, 6947.673000000001, 6947.651999999999, 6947.6359999999995, 6947.6359999999995, 6947.609, 6947.579000000001, 6947.571, 6947.57, 6947.541, 6947.53, 6947.529, 6947.516, 6947.516, 6947.491999999999, 6947.481, 6947.481, 6947.464, 6947.4580000000005, 6947.435, 6947.425, 6947.411], \"yaxis\": \"y\"}, {\"mode\": \"lines\", \"name\": \"INCLINATION\", \"type\": \"scatter\", \"x\": [-13.9407652575, -13.4069102775, -12.7395947475, -12.4059378775, -11.9388195775, -11.4049716975, -10.6709356575, -10.0036343775, -9.6032549675, -9.4697953875, -9.0026885175, -8.6690415975, -8.4688536875, -7.6681062575, -7.4679202875, -6.6004520875, -6.6004520875, -5.6662650175, -5.0657209975, -4.6653606075, -3.7979195575, -3.1973887375, -2.7970367375, -1.8628886775, -1.5292664375, -1.5292664375, -0.9287499975, -0.5284073875, -0.5284073875, 0.0053807225, 0.4724430825, 0.4724430825, 1.0062259025, 1.8068957425, 2.0070623825, 2.0737844725, 2.7410036625, 3.0078902825, 3.0746119125, 3.4082190425, 3.4082190425, 4.0754307825, 4.4090355025, 4.4090355025, 5.0762426825, 5.2764042825, 6.0770486625, 6.2772090525, 6.7442492325], \"xaxis\": \"x\", \"y\": [69.9638, 69.964, 69.964, 69.964, 69.964, 69.9641, 69.9641, 69.964, 69.9639, 69.9638, 69.9637, 69.9636, 69.9636, 69.9634, 69.9633, 69.9632, 69.9632, 69.9633, 69.9633, 69.9634, 69.9636, 69.9637, 69.9638, 69.9641, 69.9642, 69.9642, 69.9643, 69.9644, 69.9644, 69.9646, 69.9645, 69.9645, 69.9645, 69.9644, 69.9644, 69.9643, 69.964, 69.964, 69.964, 69.9639, 69.9639, 69.9638, 69.9637, 69.9637, 69.9635, 69.9635, 69.9634, 69.9634, 69.9634], \"yaxis\": \"y2\"}],                        {\"template\": {\"data\": {\"bar\": [{\"error_x\": {\"color\": \"#2a3f5f\"}, \"error_y\": {\"color\": \"#2a3f5f\"}, \"marker\": {\"line\": {\"color\": \"#E5ECF6\", \"width\": 0.5}}, \"type\": \"bar\"}], \"barpolar\": [{\"marker\": {\"line\": {\"color\": \"#E5ECF6\", \"width\": 0.5}}, \"type\": \"barpolar\"}], \"carpet\": [{\"aaxis\": {\"endlinecolor\": \"#2a3f5f\", \"gridcolor\": \"white\", \"linecolor\": \"white\", \"minorgridcolor\": \"white\", \"startlinecolor\": \"#2a3f5f\"}, \"baxis\": {\"endlinecolor\": \"#2a3f5f\", \"gridcolor\": \"white\", \"linecolor\": \"white\", \"minorgridcolor\": \"white\", \"startlinecolor\": \"#2a3f5f\"}, \"type\": \"carpet\"}], \"choropleth\": [{\"colorbar\": {\"outlinewidth\": 0, \"ticks\": \"\"}, \"type\": \"choropleth\"}], \"contour\": [{\"colorbar\": {\"outlinewidth\": 0, \"ticks\": \"\"}, \"colorscale\": [[0.0, \"#0d0887\"], [0.1111111111111111, \"#46039f\"], [0.2222222222222222, \"#7201a8\"], [0.3333333333333333, \"#9c179e\"], [0.4444444444444444, \"#bd3786\"], [0.5555555555555556, \"#d8576b\"], [0.6666666666666666, \"#ed7953\"], [0.7777777777777778, \"#fb9f3a\"], [0.8888888888888888, \"#fdca26\"], [1.0, \"#f0f921\"]], \"type\": \"contour\"}], \"contourcarpet\": [{\"colorbar\": {\"outlinewidth\": 0, \"ticks\": \"\"}, \"type\": \"contourcarpet\"}], \"heatmap\": [{\"colorbar\": {\"outlinewidth\": 0, \"ticks\": \"\"}, \"colorscale\": [[0.0, \"#0d0887\"], [0.1111111111111111, \"#46039f\"], [0.2222222222222222, \"#7201a8\"], [0.3333333333333333, \"#9c179e\"], [0.4444444444444444, \"#bd3786\"], [0.5555555555555556, \"#d8576b\"], [0.6666666666666666, \"#ed7953\"], [0.7777777777777778, \"#fb9f3a\"], [0.8888888888888888, \"#fdca26\"], [1.0, \"#f0f921\"]], \"type\": \"heatmap\"}], \"heatmapgl\": [{\"colorbar\": {\"outlinewidth\": 0, \"ticks\": \"\"}, \"colorscale\": [[0.0, \"#0d0887\"], [0.1111111111111111, \"#46039f\"], [0.2222222222222222, \"#7201a8\"], [0.3333333333333333, \"#9c179e\"], [0.4444444444444444, \"#bd3786\"], [0.5555555555555556, \"#d8576b\"], [0.6666666666666666, \"#ed7953\"], [0.7777777777777778, \"#fb9f3a\"], [0.8888888888888888, \"#fdca26\"], [1.0, \"#f0f921\"]], \"type\": \"heatmapgl\"}], \"histogram\": [{\"marker\": {\"colorbar\": {\"outlinewidth\": 0, \"ticks\": \"\"}}, \"type\": \"histogram\"}], \"histogram2d\": [{\"colorbar\": {\"outlinewidth\": 0, \"ticks\": \"\"}, \"colorscale\": [[0.0, \"#0d0887\"], [0.1111111111111111, \"#46039f\"], [0.2222222222222222, \"#7201a8\"], [0.3333333333333333, \"#9c179e\"], [0.4444444444444444, \"#bd3786\"], [0.5555555555555556, \"#d8576b\"], [0.6666666666666666, \"#ed7953\"], [0.7777777777777778, \"#fb9f3a\"], [0.8888888888888888, \"#fdca26\"], [1.0, \"#f0f921\"]], \"type\": \"histogram2d\"}], \"histogram2dcontour\": [{\"colorbar\": {\"outlinewidth\": 0, \"ticks\": \"\"}, \"colorscale\": [[0.0, \"#0d0887\"], [0.1111111111111111, \"#46039f\"], [0.2222222222222222, \"#7201a8\"], [0.3333333333333333, \"#9c179e\"], [0.4444444444444444, \"#bd3786\"], [0.5555555555555556, \"#d8576b\"], [0.6666666666666666, \"#ed7953\"], [0.7777777777777778, \"#fb9f3a\"], [0.8888888888888888, \"#fdca26\"], [1.0, \"#f0f921\"]], \"type\": \"histogram2dcontour\"}], \"mesh3d\": [{\"colorbar\": {\"outlinewidth\": 0, \"ticks\": \"\"}, \"type\": \"mesh3d\"}], \"parcoords\": [{\"line\": {\"colorbar\": {\"outlinewidth\": 0, \"ticks\": \"\"}}, \"type\": \"parcoords\"}], \"pie\": [{\"automargin\": true, \"type\": \"pie\"}], \"scatter\": [{\"marker\": {\"colorbar\": {\"outlinewidth\": 0, \"ticks\": \"\"}}, \"type\": \"scatter\"}], \"scatter3d\": [{\"line\": {\"colorbar\": {\"outlinewidth\": 0, \"ticks\": \"\"}}, \"marker\": {\"colorbar\": {\"outlinewidth\": 0, \"ticks\": \"\"}}, \"type\": \"scatter3d\"}], \"scattercarpet\": [{\"marker\": {\"colorbar\": {\"outlinewidth\": 0, \"ticks\": \"\"}}, \"type\": \"scattercarpet\"}], \"scattergeo\": [{\"marker\": {\"colorbar\": {\"outlinewidth\": 0, \"ticks\": \"\"}}, \"type\": \"scattergeo\"}], \"scattergl\": [{\"marker\": {\"colorbar\": {\"outlinewidth\": 0, \"ticks\": \"\"}}, \"type\": \"scattergl\"}], \"scattermapbox\": [{\"marker\": {\"colorbar\": {\"outlinewidth\": 0, \"ticks\": \"\"}}, \"type\": \"scattermapbox\"}], \"scatterpolar\": [{\"marker\": {\"colorbar\": {\"outlinewidth\": 0, \"ticks\": \"\"}}, \"type\": \"scatterpolar\"}], \"scatterpolargl\": [{\"marker\": {\"colorbar\": {\"outlinewidth\": 0, \"ticks\": \"\"}}, \"type\": \"scatterpolargl\"}], \"scatterternary\": [{\"marker\": {\"colorbar\": {\"outlinewidth\": 0, \"ticks\": \"\"}}, \"type\": \"scatterternary\"}], \"surface\": [{\"colorbar\": {\"outlinewidth\": 0, \"ticks\": \"\"}, \"colorscale\": [[0.0, \"#0d0887\"], [0.1111111111111111, \"#46039f\"], [0.2222222222222222, \"#7201a8\"], [0.3333333333333333, \"#9c179e\"], [0.4444444444444444, \"#bd3786\"], [0.5555555555555556, \"#d8576b\"], [0.6666666666666666, \"#ed7953\"], [0.7777777777777778, \"#fb9f3a\"], [0.8888888888888888, \"#fdca26\"], [1.0, \"#f0f921\"]], \"type\": \"surface\"}], \"table\": [{\"cells\": {\"fill\": {\"color\": \"#EBF0F8\"}, \"line\": {\"color\": \"white\"}}, \"header\": {\"fill\": {\"color\": \"#C8D4E3\"}, \"line\": {\"color\": \"white\"}}, \"type\": \"table\"}]}, \"layout\": {\"annotationdefaults\": {\"arrowcolor\": \"#2a3f5f\", \"arrowhead\": 0, \"arrowwidth\": 1}, \"autotypenumbers\": \"strict\", \"coloraxis\": {\"colorbar\": {\"outlinewidth\": 0, \"ticks\": \"\"}}, \"colorscale\": {\"diverging\": [[0, \"#8e0152\"], [0.1, \"#c51b7d\"], [0.2, \"#de77ae\"], [0.3, \"#f1b6da\"], [0.4, \"#fde0ef\"], [0.5, \"#f7f7f7\"], [0.6, \"#e6f5d0\"], [0.7, \"#b8e186\"], [0.8, \"#7fbc41\"], [0.9, \"#4d9221\"], [1, \"#276419\"]], \"sequential\": [[0.0, \"#0d0887\"], [0.1111111111111111, \"#46039f\"], [0.2222222222222222, \"#7201a8\"], [0.3333333333333333, \"#9c179e\"], [0.4444444444444444, \"#bd3786\"], [0.5555555555555556, \"#d8576b\"], [0.6666666666666666, \"#ed7953\"], [0.7777777777777778, \"#fb9f3a\"], [0.8888888888888888, \"#fdca26\"], [1.0, \"#f0f921\"]], \"sequentialminus\": [[0.0, \"#0d0887\"], [0.1111111111111111, \"#46039f\"], [0.2222222222222222, \"#7201a8\"], [0.3333333333333333, \"#9c179e\"], [0.4444444444444444, \"#bd3786\"], [0.5555555555555556, \"#d8576b\"], [0.6666666666666666, \"#ed7953\"], [0.7777777777777778, \"#fb9f3a\"], [0.8888888888888888, \"#fdca26\"], [1.0, \"#f0f921\"]]}, \"colorway\": [\"#636efa\", \"#EF553B\", \"#00cc96\", \"#ab63fa\", \"#FFA15A\", \"#19d3f3\", \"#FF6692\", \"#B6E880\", \"#FF97FF\", \"#FECB52\"], \"font\": {\"color\": \"#2a3f5f\"}, \"geo\": {\"bgcolor\": \"white\", \"lakecolor\": \"white\", \"landcolor\": \"#E5ECF6\", \"showlakes\": true, \"showland\": true, \"subunitcolor\": \"white\"}, \"hoverlabel\": {\"align\": \"left\"}, \"hovermode\": \"closest\", \"mapbox\": {\"style\": \"light\"}, \"paper_bgcolor\": \"white\", \"plot_bgcolor\": \"#E5ECF6\", \"polar\": {\"angularaxis\": {\"gridcolor\": \"white\", \"linecolor\": \"white\", \"ticks\": \"\"}, \"bgcolor\": \"#E5ECF6\", \"radialaxis\": {\"gridcolor\": \"white\", \"linecolor\": \"white\", \"ticks\": \"\"}}, \"scene\": {\"xaxis\": {\"backgroundcolor\": \"#E5ECF6\", \"gridcolor\": \"white\", \"gridwidth\": 2, \"linecolor\": \"white\", \"showbackground\": true, \"ticks\": \"\", \"zerolinecolor\": \"white\"}, \"yaxis\": {\"backgroundcolor\": \"#E5ECF6\", \"gridcolor\": \"white\", \"gridwidth\": 2, \"linecolor\": \"white\", \"showbackground\": true, \"ticks\": \"\", \"zerolinecolor\": \"white\"}, \"zaxis\": {\"backgroundcolor\": \"#E5ECF6\", \"gridcolor\": \"white\", \"gridwidth\": 2, \"linecolor\": \"white\", \"showbackground\": true, \"ticks\": \"\", \"zerolinecolor\": \"white\"}}, \"shapedefaults\": {\"line\": {\"color\": \"#2a3f5f\"}}, \"ternary\": {\"aaxis\": {\"gridcolor\": \"white\", \"linecolor\": \"white\", \"ticks\": \"\"}, \"baxis\": {\"gridcolor\": \"white\", \"linecolor\": \"white\", \"ticks\": \"\"}, \"bgcolor\": \"#E5ECF6\", \"caxis\": {\"gridcolor\": \"white\", \"linecolor\": \"white\", \"ticks\": \"\"}}, \"title\": {\"x\": 0.05}, \"xaxis\": {\"automargin\": true, \"gridcolor\": \"white\", \"linecolor\": \"white\", \"ticks\": \"\", \"title\": {\"standoff\": 15}, \"zerolinecolor\": \"white\", \"zerolinewidth\": 2}, \"yaxis\": {\"automargin\": true, \"gridcolor\": \"white\", \"linecolor\": \"white\", \"ticks\": \"\", \"title\": {\"standoff\": 15}, \"zerolinecolor\": \"white\", \"zerolinewidth\": 2}}}, \"title\": {\"text\": \"Detecting collision avoidance maneuver: SOICAL (CYLINDER) (4166)  Num TLEs: 49<br>SEMIMAJOR_AXIS %std: 0.0038791089807206193%  INCLINATION %std: 0.0005587540684871289%\"}, \"xaxis\": {\"anchor\": \"y\", \"domain\": [0.0, 0.94], \"title\": {\"text\": \"Day delta with Time of Closest Approach\"}}, \"yaxis\": {\"anchor\": \"x\", \"domain\": [0.0, 1.0], \"title\": {\"text\": \"SEMIMAJOR_AXIS\"}}, \"yaxis2\": {\"anchor\": \"x\", \"overlaying\": \"y\", \"side\": \"right\", \"title\": {\"text\": \"INCLINATION\"}}},                        {\"responsive\": true}                    ).then(function(){\n",
       "                            \n",
       "var gd = document.getElementById('577c8d38-21e8-4c6c-901d-d5fbba932da4');\n",
       "var x = new MutationObserver(function (mutations, observer) {{\n",
       "        var display = window.getComputedStyle(gd).display;\n",
       "        if (!display || display === 'none') {{\n",
       "            console.log([gd, 'removed!']);\n",
       "            Plotly.purge(gd);\n",
       "            observer.disconnect();\n",
       "        }}\n",
       "}});\n",
       "\n",
       "// Listen for the removal of the full notebook cells\n",
       "var notebookContainer = gd.closest('#notebook-container');\n",
       "if (notebookContainer) {{\n",
       "    x.observe(notebookContainer, {childList: true});\n",
       "}}\n",
       "\n",
       "// Listen for the clearing of the current output cell\n",
       "var outputEl = gd.closest('.output');\n",
       "if (outputEl) {{\n",
       "    x.observe(outputEl, {childList: true});\n",
       "}}\n",
       "\n",
       "                        })                };                });            </script>        </div>"
      ]
     },
     "metadata": {},
     "output_type": "display_data"
    }
   ],
   "source": [
    "satellite = next(iter_sat_ids)\n",
    "plot_df = new_df[new_df.SAT_ID == satellite]\n",
    "\n",
    "sat_name = plot_df.head(1).SAT_NAME\n",
    "sapstd = cdm_df[cdm_df.SAT_ID == satellite].SEMIMAJOR_AXIS_PERCENT_STD.values[0]\n",
    "ipstd = cdm_df[cdm_df.SAT_ID == satellite].INCLINATION_PERCENT_STD.values[0]\n",
    "\n",
    "fig = make_subplots(specs=[[{\"secondary_y\": True}]])\n",
    "\n",
    "fig.add_trace(\n",
    "    go.Scatter(x=plot_df.ddelta, y=plot_df.SEMIMAJOR_AXIS, mode='lines', name=\"SEMIMAJOR_AXIS\"),\n",
    "    secondary_y=False,\n",
    ")\n",
    "\n",
    "fig.add_trace(\n",
    "    go.Scatter(x=plot_df.ddelta, y=plot_df.INCLINATION, mode='lines', name=\"INCLINATION\"),\n",
    "    secondary_y=True,\n",
    ")\n",
    "\n",
    "fig.update_layout(\n",
    "    title_text=f\"Detecting collision avoidance maneuver: {sat_name.values[0]} ({satellite})  Num TLEs: {len(plot_df)}<br>SEMIMAJOR_AXIS %std: {sapstd}%  INCLINATION %std: {ipstd}%\"\n",
    ")\n",
    "\n",
    "# Set x-axis title\n",
    "fig.update_xaxes(title_text=\"Day delta with Time of Closest Approach\")\n",
    "\n",
    "# Set y-axes titles\n",
    "fig.update_yaxes(title_text=\"SEMIMAJOR_AXIS\", secondary_y=False)\n",
    "fig.update_yaxes(title_text=\"INCLINATION\", secondary_y=True)\n",
    "\n",
    "fig.show()"
   ]
  },
  {
   "cell_type": "code",
   "execution_count": null,
   "metadata": {},
   "outputs": [],
   "source": []
  }
 ],
 "metadata": {
  "kernelspec": {
   "display_name": "Python 3",
   "language": "python",
   "name": "python3"
  },
  "language_info": {
   "codemirror_mode": {
    "name": "ipython",
    "version": 3
   },
   "file_extension": ".py",
   "mimetype": "text/x-python",
   "name": "python",
   "nbconvert_exporter": "python",
   "pygments_lexer": "ipython3",
   "version": "3.8.5"
  }
 },
 "nbformat": 4,
 "nbformat_minor": 4
}
