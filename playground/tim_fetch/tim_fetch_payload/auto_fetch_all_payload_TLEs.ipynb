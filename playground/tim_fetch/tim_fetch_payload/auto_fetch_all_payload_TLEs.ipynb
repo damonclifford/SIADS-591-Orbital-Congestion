{
 "cells": [
  {
   "cell_type": "code",
   "execution_count": 1,
   "metadata": {},
   "outputs": [],
   "source": [
    "import timeit\n",
    "from datetime import datetime\n",
    "import requests\n",
    "import pandas as pd\n",
    "import numpy as np\n",
    "from os import listdir\n",
    "from os.path import isfile, join\n",
    "import urllib\n",
    "import json"
   ]
  },
  {
   "cell_type": "code",
   "execution_count": 2,
   "metadata": {},
   "outputs": [],
   "source": [
    "if \"auth_cookie\" not in locals():\n",
    "    auth_cookie = None\n",
    "\n",
    "autorun_execute_count = 0\n",
    "columns = ['EPOCH', 'NORAD_CAT_ID', 'MEAN_MOTION', 'ECCENTRICITY', 'INCLINATION', 'RA_OF_ASC_NODE', 'ARG_OF_PERICENTER', 'MEAN_ANOMALY', 'REV_AT_EPOCH', 'BSTAR', 'MEAN_MOTION_DOT', 'MEAN_MOTION_DDOT', 'SEMIMAJOR_AXIS', 'PERIOD', 'APOAPSIS', 'PERIAPSIS']"
   ]
  },
  {
   "cell_type": "code",
   "execution_count": 3,
   "metadata": {},
   "outputs": [],
   "source": [
    "try:\n",
    "    logs = pd.read_pickle(\"./logs.pkl.gz\",\"gzip\")\n",
    "except:\n",
    "    # time, type (trigger, login, skip, fetch_init, fetch_success, process_complete, error), url, epoch, out file\n",
    "    logs = pd.DataFrame(columns = [\"created_on\",\"type\",\"url\",\"epoch\",\"error\",\"output\"])\n",
    "    logs = logs.astype({'created_on': 'datetime64[ns]'})\n",
    "    \n",
    "def save_logs():\n",
    "    logs.to_pickle(\"./logs.pkl.gz\",\"gzip\")\n",
    "    \n",
    "def log(log_type,url=None,epoch=None,error=None,output=None):\n",
    "    global logs\n",
    "    new_log = {'created_on':np.datetime64('now'), 'type':log_type, 'url':url, 'epoch':epoch, 'error':error, 'output':output}\n",
    "    logs = logs.append(new_log,ignore_index=True)\n",
    "    save_logs()"
   ]
  },
  {
   "cell_type": "code",
   "execution_count": 8,
   "metadata": {},
   "outputs": [],
   "source": [
    "def get_current_file_count():\n",
    "    return max([int(f[:-7]) for f in listdir('./output/') if f.endswith(\".pkl.gz\")])\n",
    "\n",
    "def get_last_epoch():\n",
    "    df = pd.read_pickle(\"./output/%05d.pkl.gz\" % get_current_file_count(),\"gzip\")\n",
    "    return df.EPOCH[-1:].astype(\"datetime64[ns]\").values[0]\n",
    "\n",
    "def get_space_track_api_count(unit=\"m\"):\n",
    "    return len(logs[(logs.created_on > (np.datetime64('now') - np.timedelta64(1,unit))) & (logs.type==\"fetch_init\")])\n",
    "\n",
    "def space_track_login():\n",
    "    with open(\"space-track-credentials.json\") as json_file:\n",
    "        credentials = json.load(json_file)\n",
    "    print(\"Logging in space-track.org with identity:\",credentials['identity'])\n",
    "    url = \"https://www.space-track.org/ajaxauth/login\"\n",
    "    x = requests.post(url, data = credentials)\n",
    "    if x.status_code == 200:\n",
    "        print(\"Logged in\")\n",
    "        log(\"login\", output=\"success\")\n",
    "        return x.cookies\n",
    "    else:\n",
    "        log(\"login\", error=x.status_code)\n",
    "        print(\"Failed with code:\",x.status_code)\n",
    "        return None\n",
    "    \n",
    "def generate_url():\n",
    "    lower = get_last_epoch()\n",
    "    l = np.datetime_as_string(lower, unit='us')\n",
    "    if lower.astype('datetime64[Y]').item().year > 2014:\n",
    "        upper = lower + np.timedelta64(60,'D') # after 2014\n",
    "    else:\n",
    "        upper = lower + np.timedelta64(365,'D') # before 2014\n",
    "    u = np.datetime_as_string(upper, unit='us')\n",
    "    return (l, u, f'https://www.space-track.org/basicspacedata/query/class/gp_history/ECCENTRICITY/<0.25/MEAN_MOTION//>11.25/EPOCH/>{l},<{u}/OBJECT_TYPE/PAYLOAD/orderby/EPOCH asc/limit/100000/format/csv/emptyresult/show')"
   ]
  },
  {
   "cell_type": "code",
   "execution_count": 5,
   "metadata": {},
   "outputs": [],
   "source": [
    "# https://www.space-track.org/basicspacedata/query/class/gp_history/ECCENTRICITY/<0.25/MEAN_MOTION//>11.25/EPOCH/>1957-01-01,<1970-01-01/OBJECT_TYPE/PAYLOAD/orderby/EPOCH asc/limit/100000/format/csv/emptyresult/show"
   ]
  },
  {
   "cell_type": "markdown",
   "metadata": {},
   "source": [
    "Before you proceed:\n",
    "* Create the `space-track-credentials.json` file from template with your own credentials\n",
    "* Manually test the fetch cell to make sure things are working first\n",
    "* Set an appropriate intervalTime\n",
    "* This will probably mess up if your task time is longer than your interval time\n",
    "* If you don't know what you are doing, ask Tim."
   ]
  },
  {
   "cell_type": "code",
   "execution_count": 6,
   "metadata": {},
   "outputs": [
    {
     "ename": "Exception",
     "evalue": "This exception is to stop the cells below from running when you do \"Run All Cells\"",
     "output_type": "error",
     "traceback": [
      "\u001b[0;31m---------------------------------------------------------------------------\u001b[0m",
      "\u001b[0;31mException\u001b[0m                                 Traceback (most recent call last)",
      "\u001b[0;32m<ipython-input-6-d2dbe78a8e07>\u001b[0m in \u001b[0;36m<module>\u001b[0;34m\u001b[0m\n\u001b[0;32m----> 1\u001b[0;31m \u001b[0;32mraise\u001b[0m \u001b[0mException\u001b[0m\u001b[0;34m(\u001b[0m\u001b[0;34m'This exception is to stop the cells below from running when you do \"Run All Cells\"'\u001b[0m\u001b[0;34m)\u001b[0m\u001b[0;34m\u001b[0m\u001b[0;34m\u001b[0m\u001b[0m\n\u001b[0m",
      "\u001b[0;31mException\u001b[0m: This exception is to stop the cells below from running when you do \"Run All Cells\""
     ]
    }
   ],
   "source": [
    "raise Exception('This exception is to stop the cells below from running when you do \"Run All Cells\"')"
   ]
  },
  {
   "cell_type": "code",
   "execution_count": null,
   "metadata": {},
   "outputs": [],
   "source": [
    "%%html\n",
    "<script>\n",
    "    var intervalTime = 300000; // 5 minutes in ms\n",
    "    if (typeof autorun_toggle === 'undefined') {\n",
    "        var autorun_toggle = null;\n",
    "    }\n",
    "    function toggle_autorun() {\n",
    "        var btn = document.getElementById(\"autorun_button\");\n",
    "        setTimeout(function(){ // add a delay so the selected cell is correctly set here\n",
    "            if (autorun_toggle == null) {\n",
    "                var start_index = IPython.notebook.get_selected_index()+1;\n",
    "                var end_index = IPython.notebook.get_cells().length;\n",
    "                console.log(\"start autorun, start: \" + start_index + \" end: \" + end_index);\n",
    "                IPython.notebook.execute_cell_range(start_index, end_index);\n",
    "                //$('div.input').hide(200);\n",
    "                autorun_toggle = setInterval(function(){\n",
    "                    console.log(\"Run cells below\");\n",
    "                    //IPython.notebook.execute_cells_below();\n",
    "                    IPython.notebook.execute_cell_range(start_index, end_index);\n",
    "                }, intervalTime);\n",
    "            } else {\n",
    "                window.clearInterval(autorun_toggle);\n",
    "                console.log(\"clear autorun\");\n",
    "                autorun_toggle = null;\n",
    "                //$('div.input').show(200);\n",
    "            }\n",
    "        }, 100);\n",
    "    }\n",
    "</script>\n",
    "<button id=\"autorun_button\" onclick=\"toggle_autorun()\">Toggle autorun cells below</button>"
   ]
  },
  {
   "cell_type": "code",
   "execution_count": null,
   "metadata": {},
   "outputs": [],
   "source": [
    "start_time = timeit.default_timer()\n",
    "autorun_execute_count+=1\n",
    "print(f'Last run local time: {datetime.now()}')\n",
    "print(f'Total times ran: {autorun_execute_count}')"
   ]
  },
  {
   "cell_type": "code",
   "execution_count": 9,
   "metadata": {
    "scrolled": false
   },
   "outputs": [
    {
     "name": "stdout",
     "output_type": "stream",
     "text": [
      "Fetch at epoch >: 2015-06-05T12:39:42.162912\n",
      "Saved CSV: ./tmp/2015-06-05T12_39_42.162912.csv\n"
     ]
    },
    {
     "name": "stderr",
     "output_type": "stream",
     "text": [
      "/Users/tim/opt/anaconda3/envs/siads-orbital/lib/python3.8/site-packages/IPython/core/interactiveshell.py:3146: DtypeWarning: Columns (34) have mixed types.Specify dtype option on import or set low_memory=False.\n",
      "  has_raised = await self.run_ast_nodes(code_ast.body, cell_name,\n"
     ]
    },
    {
     "name": "stdout",
     "output_type": "stream",
     "text": [
      "Processed to: ./output/00215.pkl.gz\n",
      "Fetch at epoch >: 2015-07-13T12:09:35.696160\n",
      "Saved CSV: ./tmp/2015-07-13T12_09_35.696160.csv\n"
     ]
    },
    {
     "name": "stderr",
     "output_type": "stream",
     "text": [
      "/Users/tim/opt/anaconda3/envs/siads-orbital/lib/python3.8/site-packages/IPython/core/interactiveshell.py:3146: DtypeWarning: Columns (34) have mixed types.Specify dtype option on import or set low_memory=False.\n",
      "  has_raised = await self.run_ast_nodes(code_ast.body, cell_name,\n"
     ]
    },
    {
     "name": "stdout",
     "output_type": "stream",
     "text": [
      "Processed to: ./output/00216.pkl.gz\n",
      "Fetch at epoch >: 2015-08-22T22:16:16.150944\n",
      "Saved CSV: ./tmp/2015-08-22T22_16_16.150944.csv\n"
     ]
    },
    {
     "name": "stderr",
     "output_type": "stream",
     "text": [
      "/Users/tim/opt/anaconda3/envs/siads-orbital/lib/python3.8/site-packages/IPython/core/interactiveshell.py:3146: DtypeWarning: Columns (34) have mixed types.Specify dtype option on import or set low_memory=False.\n",
      "  has_raised = await self.run_ast_nodes(code_ast.body, cell_name,\n"
     ]
    },
    {
     "name": "stdout",
     "output_type": "stream",
     "text": [
      "Processed to: ./output/00217.pkl.gz\n",
      "Fetch at epoch >: 2015-09-17T20:15:27.861408\n",
      "Saved CSV: ./tmp/2015-09-17T20_15_27.861408.csv\n",
      "Processed to: ./output/00218.pkl.gz\n",
      "Fetch at epoch >: 2015-10-11T22:06:46.405152\n",
      "Saved CSV: ./tmp/2015-10-11T22_06_46.405152.csv\n",
      "Processed to: ./output/00219.pkl.gz\n",
      "Fetch at epoch >: 2015-11-04T10:24:20.691648\n",
      "Saved CSV: ./tmp/2015-11-04T10_24_20.691648.csv\n",
      "Processed to: ./output/00220.pkl.gz\n",
      "Fetch at epoch >: 2015-11-28T17:59:52.930752\n",
      "Saved CSV: ./tmp/2015-11-28T17_59_52.930752.csv\n"
     ]
    },
    {
     "name": "stderr",
     "output_type": "stream",
     "text": [
      "/Users/tim/opt/anaconda3/envs/siads-orbital/lib/python3.8/site-packages/IPython/core/interactiveshell.py:3146: DtypeWarning: Columns (34) have mixed types.Specify dtype option on import or set low_memory=False.\n",
      "  has_raised = await self.run_ast_nodes(code_ast.body, cell_name,\n"
     ]
    },
    {
     "name": "stdout",
     "output_type": "stream",
     "text": [
      "Processed to: ./output/00221.pkl.gz\n",
      "Fetch at epoch >: 2015-12-22T13:01:16.280256\n",
      "Saved CSV: ./tmp/2015-12-22T13_01_16.280256.csv\n"
     ]
    },
    {
     "name": "stderr",
     "output_type": "stream",
     "text": [
      "/Users/tim/opt/anaconda3/envs/siads-orbital/lib/python3.8/site-packages/IPython/core/interactiveshell.py:3146: DtypeWarning: Columns (34) have mixed types.Specify dtype option on import or set low_memory=False.\n",
      "  has_raised = await self.run_ast_nodes(code_ast.body, cell_name,\n"
     ]
    },
    {
     "name": "stdout",
     "output_type": "stream",
     "text": [
      "Processed to: ./output/00222.pkl.gz\n",
      "Fetch at epoch >: 2016-01-15T19:05:37.792320\n",
      "Saved CSV: ./tmp/2016-01-15T19_05_37.792320.csv\n"
     ]
    },
    {
     "name": "stderr",
     "output_type": "stream",
     "text": [
      "/Users/tim/opt/anaconda3/envs/siads-orbital/lib/python3.8/site-packages/IPython/core/interactiveshell.py:3146: DtypeWarning: Columns (34) have mixed types.Specify dtype option on import or set low_memory=False.\n",
      "  has_raised = await self.run_ast_nodes(code_ast.body, cell_name,\n"
     ]
    },
    {
     "name": "stdout",
     "output_type": "stream",
     "text": [
      "Processed to: ./output/00223.pkl.gz\n",
      "Fetch at epoch >: 2016-02-07T21:35:32.530848\n",
      "Saved CSV: ./tmp/2016-02-07T21_35_32.530848.csv\n"
     ]
    },
    {
     "name": "stderr",
     "output_type": "stream",
     "text": [
      "/Users/tim/opt/anaconda3/envs/siads-orbital/lib/python3.8/site-packages/IPython/core/interactiveshell.py:3146: DtypeWarning: Columns (34) have mixed types.Specify dtype option on import or set low_memory=False.\n",
      "  has_raised = await self.run_ast_nodes(code_ast.body, cell_name,\n"
     ]
    },
    {
     "name": "stdout",
     "output_type": "stream",
     "text": [
      "Processed to: ./output/00224.pkl.gz\n",
      "Fetch at epoch >: 2016-03-01T22:40:48.692064\n",
      "Saved CSV: ./tmp/2016-03-01T22_40_48.692064.csv\n"
     ]
    },
    {
     "name": "stderr",
     "output_type": "stream",
     "text": [
      "/Users/tim/opt/anaconda3/envs/siads-orbital/lib/python3.8/site-packages/IPython/core/interactiveshell.py:3146: DtypeWarning: Columns (34) have mixed types.Specify dtype option on import or set low_memory=False.\n",
      "  has_raised = await self.run_ast_nodes(code_ast.body, cell_name,\n"
     ]
    },
    {
     "name": "stdout",
     "output_type": "stream",
     "text": [
      "Processed to: ./output/00225.pkl.gz\n",
      "Fetch at epoch >: 2016-03-25T21:56:32.362080\n",
      "Saved CSV: ./tmp/2016-03-25T21_56_32.362080.csv\n",
      "Processed to: ./output/00226.pkl.gz\n",
      "Fetch at epoch >: 2016-04-17T23:14:51.701280\n",
      "Saved CSV: ./tmp/2016-04-17T23_14_51.701280.csv\n"
     ]
    },
    {
     "name": "stderr",
     "output_type": "stream",
     "text": [
      "/Users/tim/opt/anaconda3/envs/siads-orbital/lib/python3.8/site-packages/IPython/core/interactiveshell.py:3146: DtypeWarning: Columns (34) have mixed types.Specify dtype option on import or set low_memory=False.\n",
      "  has_raised = await self.run_ast_nodes(code_ast.body, cell_name,\n"
     ]
    },
    {
     "name": "stdout",
     "output_type": "stream",
     "text": [
      "Processed to: ./output/00227.pkl.gz\n",
      "Fetch at epoch >: 2016-05-11T21:45:14.622336\n",
      "Saved CSV: ./tmp/2016-05-11T21_45_14.622336.csv\n"
     ]
    },
    {
     "name": "stderr",
     "output_type": "stream",
     "text": [
      "/Users/tim/opt/anaconda3/envs/siads-orbital/lib/python3.8/site-packages/IPython/core/interactiveshell.py:3146: DtypeWarning: Columns (34) have mixed types.Specify dtype option on import or set low_memory=False.\n",
      "  has_raised = await self.run_ast_nodes(code_ast.body, cell_name,\n"
     ]
    },
    {
     "name": "stdout",
     "output_type": "stream",
     "text": [
      "Processed to: ./output/00228.pkl.gz\n",
      "Fetch at epoch >: 2016-06-03T22:31:36.550272\n",
      "Saved CSV: ./tmp/2016-06-03T22_31_36.550272.csv\n"
     ]
    },
    {
     "name": "stderr",
     "output_type": "stream",
     "text": [
      "/Users/tim/opt/anaconda3/envs/siads-orbital/lib/python3.8/site-packages/IPython/core/interactiveshell.py:3146: DtypeWarning: Columns (34) have mixed types.Specify dtype option on import or set low_memory=False.\n",
      "  has_raised = await self.run_ast_nodes(code_ast.body, cell_name,\n"
     ]
    },
    {
     "name": "stdout",
     "output_type": "stream",
     "text": [
      "Processed to: ./output/00229.pkl.gz\n",
      "Fetch at epoch >: 2016-06-26T08:53:27.943584\n",
      "Saved CSV: ./tmp/2016-06-26T08_53_27.943584.csv\n"
     ]
    },
    {
     "name": "stderr",
     "output_type": "stream",
     "text": [
      "/Users/tim/opt/anaconda3/envs/siads-orbital/lib/python3.8/site-packages/IPython/core/interactiveshell.py:3146: DtypeWarning: Columns (34) have mixed types.Specify dtype option on import or set low_memory=False.\n",
      "  has_raised = await self.run_ast_nodes(code_ast.body, cell_name,\n"
     ]
    },
    {
     "name": "stdout",
     "output_type": "stream",
     "text": [
      "Processed to: ./output/00230.pkl.gz\n",
      "Fetch at epoch >: 2016-07-19T21:54:53.563680\n",
      "Saved CSV: ./tmp/2016-07-19T21_54_53.563680.csv\n",
      "Processed to: ./output/00231.pkl.gz\n",
      "Fetch at epoch >: 2016-08-11T20:28:57.773280\n",
      "Saved CSV: ./tmp/2016-08-11T20_28_57.773280.csv\n"
     ]
    },
    {
     "name": "stderr",
     "output_type": "stream",
     "text": [
      "/Users/tim/opt/anaconda3/envs/siads-orbital/lib/python3.8/site-packages/IPython/core/interactiveshell.py:3146: DtypeWarning: Columns (34) have mixed types.Specify dtype option on import or set low_memory=False.\n",
      "  has_raised = await self.run_ast_nodes(code_ast.body, cell_name,\n"
     ]
    },
    {
     "name": "stdout",
     "output_type": "stream",
     "text": [
      "Processed to: ./output/00232.pkl.gz\n",
      "Fetch at epoch >: 2016-09-03T05:19:31.437696\n",
      "Saved CSV: ./tmp/2016-09-03T05_19_31.437696.csv\n",
      "Processed to: ./output/00233.pkl.gz\n",
      "Fetch at epoch >: 2016-09-26T13:10:07.476960\n",
      "Saved CSV: ./tmp/2016-09-26T13_10_07.476960.csv\n",
      "Processed to: ./output/00234.pkl.gz\n",
      "Fetch at epoch >: 2016-10-18T21:47:47.711904\n",
      "Saved CSV: ./tmp/2016-10-18T21_47_47.711904.csv\n"
     ]
    },
    {
     "name": "stderr",
     "output_type": "stream",
     "text": [
      "/Users/tim/opt/anaconda3/envs/siads-orbital/lib/python3.8/site-packages/IPython/core/interactiveshell.py:3146: DtypeWarning: Columns (34) have mixed types.Specify dtype option on import or set low_memory=False.\n",
      "  has_raised = await self.run_ast_nodes(code_ast.body, cell_name,\n"
     ]
    },
    {
     "name": "stdout",
     "output_type": "stream",
     "text": [
      "Processed to: ./output/00235.pkl.gz\n",
      "Fetch at epoch >: 2016-11-10T03:16:56.451072\n",
      "Saved CSV: ./tmp/2016-11-10T03_16_56.451072.csv\n",
      "Processed to: ./output/00236.pkl.gz\n",
      "Fetch at epoch >: 2016-12-03T01:23:25.427616\n",
      "Saved CSV: ./tmp/2016-12-03T01_23_25.427616.csv\n"
     ]
    },
    {
     "name": "stderr",
     "output_type": "stream",
     "text": [
      "/Users/tim/opt/anaconda3/envs/siads-orbital/lib/python3.8/site-packages/IPython/core/interactiveshell.py:3146: DtypeWarning: Columns (34) have mixed types.Specify dtype option on import or set low_memory=False.\n",
      "  has_raised = await self.run_ast_nodes(code_ast.body, cell_name,\n"
     ]
    },
    {
     "name": "stdout",
     "output_type": "stream",
     "text": [
      "Processed to: ./output/00237.pkl.gz\n",
      "Fetch at epoch >: 2016-12-25T22:45:44.066016\n",
      "Saved CSV: ./tmp/2016-12-25T22_45_44.066016.csv\n",
      "Processed to: ./output/00238.pkl.gz\n",
      "Fetch at epoch >: 2017-01-16T21:31:23.454336\n",
      "Saved CSV: ./tmp/2017-01-16T21_31_23.454336.csv\n"
     ]
    },
    {
     "name": "stderr",
     "output_type": "stream",
     "text": [
      "/Users/tim/opt/anaconda3/envs/siads-orbital/lib/python3.8/site-packages/IPython/core/interactiveshell.py:3146: DtypeWarning: Columns (34) have mixed types.Specify dtype option on import or set low_memory=False.\n",
      "  has_raised = await self.run_ast_nodes(code_ast.body, cell_name,\n"
     ]
    },
    {
     "name": "stdout",
     "output_type": "stream",
     "text": [
      "Processed to: ./output/00239.pkl.gz\n",
      "Fetch at epoch >: 2017-02-10T20:44:54.171168\n",
      "Saved CSV: ./tmp/2017-02-10T20_44_54.171168.csv\n",
      "Processed to: ./output/00240.pkl.gz\n",
      "Fetch at epoch >: 2017-03-05T12:47:53.252736\n",
      "Saved CSV: ./tmp/2017-03-05T12_47_53.252736.csv\n"
     ]
    },
    {
     "name": "stderr",
     "output_type": "stream",
     "text": [
      "/Users/tim/opt/anaconda3/envs/siads-orbital/lib/python3.8/site-packages/IPython/core/interactiveshell.py:3146: DtypeWarning: Columns (34) have mixed types.Specify dtype option on import or set low_memory=False.\n",
      "  has_raised = await self.run_ast_nodes(code_ast.body, cell_name,\n"
     ]
    },
    {
     "name": "stdout",
     "output_type": "stream",
     "text": [
      "Processed to: ./output/00241.pkl.gz\n",
      "Fetch at epoch >: 2017-04-07T20:54:41.336928\n",
      "Saved CSV: ./tmp/2017-04-07T20_54_41.336928.csv\n"
     ]
    },
    {
     "name": "stderr",
     "output_type": "stream",
     "text": [
      "/Users/tim/opt/anaconda3/envs/siads-orbital/lib/python3.8/site-packages/IPython/core/interactiveshell.py:3146: DtypeWarning: Columns (34) have mixed types.Specify dtype option on import or set low_memory=False.\n",
      "  has_raised = await self.run_ast_nodes(code_ast.body, cell_name,\n"
     ]
    },
    {
     "name": "stdout",
     "output_type": "stream",
     "text": [
      "Processed to: ./output/00242.pkl.gz\n",
      "Fetch at epoch >: 2017-05-10T06:35:03.545376\n",
      "Saved CSV: ./tmp/2017-05-10T06_35_03.545376.csv\n",
      "Processed to: ./output/00243.pkl.gz\n",
      "Fetch at epoch >: 2017-06-01T22:34:26.378112\n",
      "Saved CSV: ./tmp/2017-06-01T22_34_26.378112.csv\n"
     ]
    },
    {
     "name": "stderr",
     "output_type": "stream",
     "text": [
      "/Users/tim/opt/anaconda3/envs/siads-orbital/lib/python3.8/site-packages/IPython/core/interactiveshell.py:3146: DtypeWarning: Columns (34) have mixed types.Specify dtype option on import or set low_memory=False.\n",
      "  has_raised = await self.run_ast_nodes(code_ast.body, cell_name,\n"
     ]
    },
    {
     "name": "stdout",
     "output_type": "stream",
     "text": [
      "Processed to: ./output/00244.pkl.gz\n",
      "Fetch at epoch >: 2017-06-23T16:25:35.889888\n",
      "Saved CSV: ./tmp/2017-06-23T16_25_35.889888.csv\n",
      "Processed to: ./output/00245.pkl.gz\n",
      "Fetch at epoch >: 2017-07-12T22:41:08.682432\n",
      "Saved CSV: ./tmp/2017-07-12T22_41_08.682432.csv\n",
      "Processed to: ./output/00246.pkl.gz\n",
      "Fetch at epoch >: 2017-08-03T19:06:14.204736\n",
      "Saved CSV: ./tmp/2017-08-03T19_06_14.204736.csv\n",
      "Processed to: ./output/00247.pkl.gz\n",
      "Fetch at epoch >: 2017-08-19T01:06:16.770816\n",
      "Saved CSV: ./tmp/2017-08-19T01_06_16.770816.csv\n"
     ]
    },
    {
     "name": "stderr",
     "output_type": "stream",
     "text": [
      "/Users/tim/opt/anaconda3/envs/siads-orbital/lib/python3.8/site-packages/IPython/core/interactiveshell.py:3146: DtypeWarning: Columns (34) have mixed types.Specify dtype option on import or set low_memory=False.\n",
      "  has_raised = await self.run_ast_nodes(code_ast.body, cell_name,\n"
     ]
    },
    {
     "name": "stdout",
     "output_type": "stream",
     "text": [
      "Processed to: ./output/00248.pkl.gz\n",
      "Fetch at epoch >: 2017-09-03T10:13:07.530240\n",
      "Saved CSV: ./tmp/2017-09-03T10_13_07.530240.csv\n",
      "Processed to: ./output/00249.pkl.gz\n",
      "Fetch at epoch >: 2017-09-18T21:25:30.585504\n",
      "Saved CSV: ./tmp/2017-09-18T21_25_30.585504.csv\n",
      "Processed to: ./output/00250.pkl.gz\n",
      "Fetch at epoch >: 2017-10-02T22:37:58.414944\n",
      "Saved CSV: ./tmp/2017-10-02T22_37_58.414944.csv\n",
      "Processed to: ./output/00251.pkl.gz\n",
      "Fetch at epoch >: 2017-10-18T23:22:28.981056\n",
      "Saved CSV: ./tmp/2017-10-18T23_22_28.981056.csv\n",
      "Processed to: ./output/00252.pkl.gz\n",
      "Fetch at epoch >: 2017-11-02T18:32:10.516416\n",
      "Saved CSV: ./tmp/2017-11-02T18_32_10.516416.csv\n"
     ]
    },
    {
     "name": "stderr",
     "output_type": "stream",
     "text": [
      "/Users/tim/opt/anaconda3/envs/siads-orbital/lib/python3.8/site-packages/IPython/core/interactiveshell.py:3146: DtypeWarning: Columns (34) have mixed types.Specify dtype option on import or set low_memory=False.\n",
      "  has_raised = await self.run_ast_nodes(code_ast.body, cell_name,\n"
     ]
    },
    {
     "name": "stdout",
     "output_type": "stream",
     "text": [
      "Processed to: ./output/00253.pkl.gz\n",
      "Fetch at epoch >: 2017-11-17T13:44:55.612896\n",
      "Saved CSV: ./tmp/2017-11-17T13_44_55.612896.csv\n"
     ]
    },
    {
     "name": "stderr",
     "output_type": "stream",
     "text": [
      "/Users/tim/opt/anaconda3/envs/siads-orbital/lib/python3.8/site-packages/IPython/core/interactiveshell.py:3146: DtypeWarning: Columns (34) have mixed types.Specify dtype option on import or set low_memory=False.\n",
      "  has_raised = await self.run_ast_nodes(code_ast.body, cell_name,\n"
     ]
    },
    {
     "name": "stdout",
     "output_type": "stream",
     "text": [
      "Processed to: ./output/00254.pkl.gz\n",
      "Fetch at epoch >: 2017-12-03T03:51:16.589088\n",
      "Saved CSV: ./tmp/2017-12-03T03_51_16.589088.csv\n",
      "Processed to: ./output/00255.pkl.gz\n",
      "Fetch at epoch >: 2017-12-17T22:00:31.920768\n",
      "Saved CSV: ./tmp/2017-12-17T22_00_31.920768.csv\n",
      "Processed to: ./output/00256.pkl.gz\n",
      "Fetch at epoch >: 2018-01-01T14:07:58.444896\n",
      "Saved CSV: ./tmp/2018-01-01T14_07_58.444896.csv\n",
      "Processed to: ./output/00257.pkl.gz\n",
      "Fetch at epoch >: 2018-01-17T02:52:38.072640\n",
      "Saved CSV: ./tmp/2018-01-17T02_52_38.072640.csv\n",
      "Processed to: ./output/00258.pkl.gz\n",
      "Fetch at epoch >: 2018-02-02T20:03:56.459232\n",
      "Saved CSV: ./tmp/2018-02-02T20_03_56.459232.csv\n",
      "Processed to: ./output/00259.pkl.gz\n",
      "Fetch at epoch >: 2018-02-18T12:48:29.613312\n",
      "Saved CSV: ./tmp/2018-02-18T12_48_29.613312.csv\n",
      "Processed to: ./output/00260.pkl.gz\n",
      "Fetch at epoch >: 2018-03-06T18:56:19.355424\n",
      "Saved CSV: ./tmp/2018-03-06T18_56_19.355424.csv\n",
      "Processed to: ./output/00261.pkl.gz\n",
      "Fetch at epoch >: 2018-03-21T16:54:31.736736\n",
      "Saved CSV: ./tmp/2018-03-21T16_54_31.736736.csv\n",
      "Processed to: ./output/00262.pkl.gz\n",
      "Fetch at epoch >: 2018-04-05T12:32:56.152032\n",
      "Saved CSV: ./tmp/2018-04-05T12_32_56.152032.csv\n",
      "Processed to: ./output/00263.pkl.gz\n",
      "Fetch at epoch >: 2018-04-19T21:44:42.656928\n",
      "Saved CSV: ./tmp/2018-04-19T21_44_42.656928.csv\n"
     ]
    },
    {
     "name": "stderr",
     "output_type": "stream",
     "text": [
      "/Users/tim/opt/anaconda3/envs/siads-orbital/lib/python3.8/site-packages/IPython/core/interactiveshell.py:3146: DtypeWarning: Columns (34) have mixed types.Specify dtype option on import or set low_memory=False.\n",
      "  has_raised = await self.run_ast_nodes(code_ast.body, cell_name,\n"
     ]
    },
    {
     "name": "stdout",
     "output_type": "stream",
     "text": [
      "Processed to: ./output/00264.pkl.gz\n",
      "Fetch at epoch >: 2018-05-03T18:34:57.092160\n",
      "Saved CSV: ./tmp/2018-05-03T18_34_57.092160.csv\n"
     ]
    },
    {
     "name": "stderr",
     "output_type": "stream",
     "text": [
      "/Users/tim/opt/anaconda3/envs/siads-orbital/lib/python3.8/site-packages/IPython/core/interactiveshell.py:3146: DtypeWarning: Columns (34) have mixed types.Specify dtype option on import or set low_memory=False.\n",
      "  has_raised = await self.run_ast_nodes(code_ast.body, cell_name,\n"
     ]
    },
    {
     "name": "stdout",
     "output_type": "stream",
     "text": [
      "Processed to: ./output/00265.pkl.gz\n",
      "Fetch at epoch >: 2018-05-17T17:57:21.239136\n",
      "Saved CSV: ./tmp/2018-05-17T17_57_21.239136.csv\n"
     ]
    },
    {
     "name": "stderr",
     "output_type": "stream",
     "text": [
      "/Users/tim/opt/anaconda3/envs/siads-orbital/lib/python3.8/site-packages/IPython/core/interactiveshell.py:3146: DtypeWarning: Columns (34) have mixed types.Specify dtype option on import or set low_memory=False.\n",
      "  has_raised = await self.run_ast_nodes(code_ast.body, cell_name,\n"
     ]
    },
    {
     "name": "stdout",
     "output_type": "stream",
     "text": [
      "Processed to: ./output/00266.pkl.gz\n",
      "Fetch at epoch >: 2018-06-01T14:23:23.570304\n",
      "Saved CSV: ./tmp/2018-06-01T14_23_23.570304.csv\n",
      "Processed to: ./output/00267.pkl.gz\n",
      "Fetch at epoch >: 2018-06-17T19:59:20.698080\n",
      "Saved CSV: ./tmp/2018-06-17T19_59_20.698080.csv\n",
      "Processed to: ./output/00268.pkl.gz\n",
      "Fetch at epoch >: 2018-07-02T17:30:47.375136\n",
      "Saved CSV: ./tmp/2018-07-02T17_30_47.375136.csv\n",
      "Processed to: ./output/00269.pkl.gz\n",
      "Fetch at epoch >: 2018-07-17T20:27:11.026080\n",
      "Saved CSV: ./tmp/2018-07-17T20_27_11.026080.csv\n"
     ]
    },
    {
     "name": "stderr",
     "output_type": "stream",
     "text": [
      "/Users/tim/opt/anaconda3/envs/siads-orbital/lib/python3.8/site-packages/IPython/core/interactiveshell.py:3146: DtypeWarning: Columns (34) have mixed types.Specify dtype option on import or set low_memory=False.\n",
      "  has_raised = await self.run_ast_nodes(code_ast.body, cell_name,\n"
     ]
    },
    {
     "name": "stdout",
     "output_type": "stream",
     "text": [
      "Processed to: ./output/00270.pkl.gz\n",
      "Fetch at epoch >: 2018-08-04T21:55:27.626016\n",
      "Saved CSV: ./tmp/2018-08-04T21_55_27.626016.csv\n"
     ]
    },
    {
     "name": "stderr",
     "output_type": "stream",
     "text": [
      "/Users/tim/opt/anaconda3/envs/siads-orbital/lib/python3.8/site-packages/IPython/core/interactiveshell.py:3146: DtypeWarning: Columns (34) have mixed types.Specify dtype option on import or set low_memory=False.\n",
      "  has_raised = await self.run_ast_nodes(code_ast.body, cell_name,\n"
     ]
    },
    {
     "name": "stdout",
     "output_type": "stream",
     "text": [
      "Processed to: ./output/00271.pkl.gz\n",
      "Fetch at epoch >: 2018-08-23T13:15:23.070240\n",
      "Saved CSV: ./tmp/2018-08-23T13_15_23.070240.csv\n"
     ]
    },
    {
     "name": "stderr",
     "output_type": "stream",
     "text": [
      "/Users/tim/opt/anaconda3/envs/siads-orbital/lib/python3.8/site-packages/IPython/core/interactiveshell.py:3146: DtypeWarning: Columns (34) have mixed types.Specify dtype option on import or set low_memory=False.\n",
      "  has_raised = await self.run_ast_nodes(code_ast.body, cell_name,\n"
     ]
    },
    {
     "name": "stdout",
     "output_type": "stream",
     "text": [
      "Processed to: ./output/00272.pkl.gz\n",
      "Fetch at epoch >: 2018-09-09T16:36:58.448160\n",
      "Saved CSV: ./tmp/2018-09-09T16_36_58.448160.csv\n"
     ]
    },
    {
     "name": "stderr",
     "output_type": "stream",
     "text": [
      "/Users/tim/opt/anaconda3/envs/siads-orbital/lib/python3.8/site-packages/IPython/core/interactiveshell.py:3146: DtypeWarning: Columns (34) have mixed types.Specify dtype option on import or set low_memory=False.\n",
      "  has_raised = await self.run_ast_nodes(code_ast.body, cell_name,\n"
     ]
    },
    {
     "name": "stdout",
     "output_type": "stream",
     "text": [
      "Processed to: ./output/00273.pkl.gz\n",
      "Fetch at epoch >: 2018-09-27T04:09:47.578176\n",
      "Saved CSV: ./tmp/2018-09-27T04_09_47.578176.csv\n"
     ]
    },
    {
     "name": "stderr",
     "output_type": "stream",
     "text": [
      "/Users/tim/opt/anaconda3/envs/siads-orbital/lib/python3.8/site-packages/IPython/core/interactiveshell.py:3146: DtypeWarning: Columns (34) have mixed types.Specify dtype option on import or set low_memory=False.\n",
      "  has_raised = await self.run_ast_nodes(code_ast.body, cell_name,\n"
     ]
    },
    {
     "name": "stdout",
     "output_type": "stream",
     "text": [
      "Processed to: ./output/00274.pkl.gz\n",
      "Fetch at epoch >: 2018-10-14T13:28:37.021440\n",
      "Saved CSV: ./tmp/2018-10-14T13_28_37.021440.csv\n"
     ]
    },
    {
     "name": "stderr",
     "output_type": "stream",
     "text": [
      "/Users/tim/opt/anaconda3/envs/siads-orbital/lib/python3.8/site-packages/IPython/core/interactiveshell.py:3146: DtypeWarning: Columns (34) have mixed types.Specify dtype option on import or set low_memory=False.\n",
      "  has_raised = await self.run_ast_nodes(code_ast.body, cell_name,\n"
     ]
    },
    {
     "name": "stdout",
     "output_type": "stream",
     "text": [
      "Processed to: ./output/00275.pkl.gz\n",
      "Fetch at epoch >: 2018-10-31T23:07:49.053216\n",
      "Saved CSV: ./tmp/2018-10-31T23_07_49.053216.csv\n"
     ]
    },
    {
     "name": "stderr",
     "output_type": "stream",
     "text": [
      "/Users/tim/opt/anaconda3/envs/siads-orbital/lib/python3.8/site-packages/IPython/core/interactiveshell.py:3146: DtypeWarning: Columns (34) have mixed types.Specify dtype option on import or set low_memory=False.\n",
      "  has_raised = await self.run_ast_nodes(code_ast.body, cell_name,\n"
     ]
    },
    {
     "name": "stdout",
     "output_type": "stream",
     "text": [
      "Processed to: ./output/00276.pkl.gz\n",
      "Fetch at epoch >: 2018-11-17T15:20:43.219104\n",
      "Saved CSV: ./tmp/2018-11-17T15_20_43.219104.csv\n",
      "Processed to: ./output/00277.pkl.gz\n",
      "Fetch at epoch >: 2018-12-05T19:44:25.423008\n",
      "Saved CSV: ./tmp/2018-12-05T19_44_25.423008.csv\n"
     ]
    },
    {
     "name": "stderr",
     "output_type": "stream",
     "text": [
      "/Users/tim/opt/anaconda3/envs/siads-orbital/lib/python3.8/site-packages/IPython/core/interactiveshell.py:3146: DtypeWarning: Columns (34) have mixed types.Specify dtype option on import or set low_memory=False.\n",
      "  has_raised = await self.run_ast_nodes(code_ast.body, cell_name,\n"
     ]
    },
    {
     "name": "stdout",
     "output_type": "stream",
     "text": [
      "Processed to: ./output/00278.pkl.gz\n",
      "Fetch at epoch >: 2018-12-24T17:02:00.955392\n",
      "Saved CSV: ./tmp/2018-12-24T17_02_00.955392.csv\n",
      "Processed to: ./output/00279.pkl.gz\n",
      "Fetch at epoch >: 2019-01-09T21:27:06.607872\n",
      "Saved CSV: ./tmp/2019-01-09T21_27_06.607872.csv\n",
      "Processed to: ./output/00280.pkl.gz\n",
      "Fetch at epoch >: 2019-01-26T04:40:14.991744\n",
      "Saved CSV: ./tmp/2019-01-26T04_40_14.991744.csv\n",
      "Processed to: ./output/00281.pkl.gz\n",
      "Fetch at epoch >: 2019-02-12T11:54:45.467712\n",
      "Saved CSV: ./tmp/2019-02-12T11_54_45.467712.csv\n",
      "Processed to: ./output/00282.pkl.gz\n",
      "Fetch at epoch >: 2019-03-01T22:59:51.689760\n",
      "Saved CSV: ./tmp/2019-03-01T22_59_51.689760.csv\n"
     ]
    },
    {
     "name": "stderr",
     "output_type": "stream",
     "text": [
      "/Users/tim/opt/anaconda3/envs/siads-orbital/lib/python3.8/site-packages/IPython/core/interactiveshell.py:3146: DtypeWarning: Columns (34) have mixed types.Specify dtype option on import or set low_memory=False.\n",
      "  has_raised = await self.run_ast_nodes(code_ast.body, cell_name,\n"
     ]
    },
    {
     "name": "stdout",
     "output_type": "stream",
     "text": [
      "Processed to: ./output/00283.pkl.gz\n",
      "Fetch at epoch >: 2019-03-18T15:03:29.849184\n",
      "Saved CSV: ./tmp/2019-03-18T15_03_29.849184.csv\n"
     ]
    },
    {
     "name": "stderr",
     "output_type": "stream",
     "text": [
      "/Users/tim/opt/anaconda3/envs/siads-orbital/lib/python3.8/site-packages/IPython/core/interactiveshell.py:3146: DtypeWarning: Columns (34) have mixed types.Specify dtype option on import or set low_memory=False.\n",
      "  has_raised = await self.run_ast_nodes(code_ast.body, cell_name,\n"
     ]
    },
    {
     "name": "stdout",
     "output_type": "stream",
     "text": [
      "Processed to: ./output/00284.pkl.gz\n",
      "Fetch at epoch >: 2019-04-04T23:32:19.665024\n",
      "Saved CSV: ./tmp/2019-04-04T23_32_19.665024.csv\n"
     ]
    },
    {
     "name": "stderr",
     "output_type": "stream",
     "text": [
      "/Users/tim/opt/anaconda3/envs/siads-orbital/lib/python3.8/site-packages/IPython/core/interactiveshell.py:3146: DtypeWarning: Columns (34) have mixed types.Specify dtype option on import or set low_memory=False.\n",
      "  has_raised = await self.run_ast_nodes(code_ast.body, cell_name,\n"
     ]
    },
    {
     "name": "stdout",
     "output_type": "stream",
     "text": [
      "Processed to: ./output/00285.pkl.gz\n",
      "Fetch at epoch >: 2019-04-22T22:33:22.989888\n",
      "Saved CSV: ./tmp/2019-04-22T22_33_22.989888.csv\n",
      "Processed to: ./output/00286.pkl.gz\n",
      "Fetch at epoch >: 2019-05-09T07:09:18.290304\n",
      "Saved CSV: ./tmp/2019-05-09T07_09_18.290304.csv\n",
      "Processed to: ./output/00287.pkl.gz\n",
      "Fetch at epoch >: 2019-05-26T20:08:13.191648\n",
      "Saved CSV: ./tmp/2019-05-26T20_08_13.191648.csv\n",
      "Processed to: ./output/00288.pkl.gz\n",
      "Fetch at epoch >: 2019-06-15T03:52:41.597184\n",
      "Saved CSV: ./tmp/2019-06-15T03_52_41.597184.csv\n",
      "Processed to: ./output/00289.pkl.gz\n",
      "Fetch at epoch >: 2019-07-03T22:09:31.275360\n",
      "Saved CSV: ./tmp/2019-07-03T22_09_31.275360.csv\n",
      "Processed to: ./output/00290.pkl.gz\n",
      "Fetch at epoch >: 2019-07-22T16:20:37.872960\n",
      "Saved CSV: ./tmp/2019-07-22T16_20_37.872960.csv\n"
     ]
    },
    {
     "name": "stderr",
     "output_type": "stream",
     "text": [
      "/Users/tim/opt/anaconda3/envs/siads-orbital/lib/python3.8/site-packages/IPython/core/interactiveshell.py:3146: DtypeWarning: Columns (34) have mixed types.Specify dtype option on import or set low_memory=False.\n",
      "  has_raised = await self.run_ast_nodes(code_ast.body, cell_name,\n"
     ]
    },
    {
     "name": "stdout",
     "output_type": "stream",
     "text": [
      "Processed to: ./output/00291.pkl.gz\n",
      "Fetch at epoch >: 2019-08-10T22:39:14.969664\n",
      "Saved CSV: ./tmp/2019-08-10T22_39_14.969664.csv\n",
      "Processed to: ./output/00292.pkl.gz\n",
      "Fetch at epoch >: 2019-08-29T18:33:09.388512\n",
      "Saved CSV: ./tmp/2019-08-29T18_33_09.388512.csv\n",
      "Processed to: ./output/00293.pkl.gz\n",
      "Fetch at epoch >: 2019-09-16T00:20:44.982528\n",
      "Saved CSV: ./tmp/2019-09-16T00_20_44.982528.csv\n",
      "Processed to: ./output/00294.pkl.gz\n",
      "Fetch at epoch >: 2019-10-04T03:02:16.891296\n",
      "Saved CSV: ./tmp/2019-10-04T03_02_16.891296.csv\n",
      "Processed to: ./output/00295.pkl.gz\n",
      "Fetch at epoch >: 2019-10-21T06:32:49.304832\n",
      "Saved CSV: ./tmp/2019-10-21T06_32_49.304832.csv\n",
      "Processed to: ./output/00296.pkl.gz\n",
      "Fetch at epoch >: 2019-11-07T09:42:07.537824\n",
      "Saved CSV: ./tmp/2019-11-07T09_42_07.537824.csv\n",
      "Processed to: ./output/00297.pkl.gz\n",
      "Fetch at epoch >: 2019-11-26T10:23:04.614720\n",
      "Saved CSV: ./tmp/2019-11-26T10_23_04.614720.csv\n",
      "Processed to: ./output/00298.pkl.gz\n",
      "Fetch at epoch >: 2019-12-13T15:40:56.247456\n",
      "Saved CSV: ./tmp/2019-12-13T15_40_56.247456.csv\n",
      "Processed to: ./output/00299.pkl.gz\n",
      "Fetch at epoch >: 2019-12-29T19:15:43.397568\n",
      "Saved CSV: ./tmp/2019-12-29T19_15_43.397568.csv\n",
      "Processed to: ./output/00300.pkl.gz\n",
      "Fetch at epoch >: 2020-01-15T08:55:09.466176\n",
      "Saved CSV: ./tmp/2020-01-15T08_55_09.466176.csv\n",
      "Processed to: ./output/00301.pkl.gz\n",
      "Fetch at epoch >: 2020-01-29T06:52:48.181728\n",
      "Saved CSV: ./tmp/2020-01-29T06_52_48.181728.csv\n"
     ]
    },
    {
     "name": "stderr",
     "output_type": "stream",
     "text": [
      "/Users/tim/opt/anaconda3/envs/siads-orbital/lib/python3.8/site-packages/IPython/core/interactiveshell.py:3146: DtypeWarning: Columns (34) have mixed types.Specify dtype option on import or set low_memory=False.\n",
      "  has_raised = await self.run_ast_nodes(code_ast.body, cell_name,\n"
     ]
    },
    {
     "name": "stdout",
     "output_type": "stream",
     "text": [
      "Processed to: ./output/00302.pkl.gz\n",
      "Fetch at epoch >: 2020-02-11T03:41:23.021952\n",
      "Saved CSV: ./tmp/2020-02-11T03_41_23.021952.csv\n",
      "Processed to: ./output/00303.pkl.gz\n",
      "Fetch at epoch >: 2020-02-22T20:34:16.524480\n",
      "Saved CSV: ./tmp/2020-02-22T20_34_16.524480.csv\n",
      "Processed to: ./output/00304.pkl.gz\n",
      "Fetch at epoch >: 2020-03-06T07:22:51.108672\n",
      "Saved CSV: ./tmp/2020-03-06T07_22_51.108672.csv\n",
      "Processed to: ./output/00305.pkl.gz\n",
      "Fetch at epoch >: 2020-03-28T20:19:11.997696\n",
      "Saved CSV: ./tmp/2020-03-28T20_19_11.997696.csv\n",
      "Processed to: ./output/00306.pkl.gz\n",
      "Fetch at epoch >: 2020-04-09T05:36:02.060352\n",
      "Saved CSV: ./tmp/2020-04-09T05_36_02.060352.csv\n",
      "Processed to: ./output/00307.pkl.gz\n",
      "Fetch at epoch >: 2020-04-19T23:38:21.631776\n",
      "Saved CSV: ./tmp/2020-04-19T23_38_21.631776.csv\n",
      "Processed to: ./output/00308.pkl.gz\n",
      "Fetch at epoch >: 2020-04-30T08:56:53.293920\n",
      "Saved CSV: ./tmp/2020-04-30T08_56_53.293920.csv\n",
      "Processed to: ./output/00309.pkl.gz\n",
      "Fetch at epoch >: 2020-05-10T22:00:00.999936\n",
      "Saved CSV: ./tmp/2020-05-10T22_00_00.999936.csv\n",
      "Processed to: ./output/00310.pkl.gz\n",
      "Fetch at epoch >: 2020-05-21T08:45:16.983360\n",
      "Saved CSV: ./tmp/2020-05-21T08_45_16.983360.csv\n",
      "Processed to: ./output/00311.pkl.gz\n",
      "Fetch at epoch >: 2020-06-03T09:50:03.111072\n",
      "Saved CSV: ./tmp/2020-06-03T09_50_03.111072.csv\n",
      "Processed to: ./output/00312.pkl.gz\n",
      "Fetch at epoch >: 2020-06-13T09:57:08.405568\n",
      "Saved CSV: ./tmp/2020-06-13T09_57_08.405568.csv\n",
      "Processed to: ./output/00313.pkl.gz\n",
      "Fetch at epoch >: 2020-06-21T21:43:01.918848\n",
      "Saved CSV: ./tmp/2020-06-21T21_43_01.918848.csv\n",
      "Processed to: ./output/00314.pkl.gz\n",
      "Fetch at epoch >: 2020-06-30T12:11:43.772928\n",
      "Saved CSV: ./tmp/2020-06-30T12_11_43.772928.csv\n",
      "Processed to: ./output/00315.pkl.gz\n",
      "Fetch at epoch >: 2020-07-08T22:49:00.913728\n",
      "Saved CSV: ./tmp/2020-07-08T22_49_00.913728.csv\n",
      "Processed to: ./output/00316.pkl.gz\n",
      "Fetch at epoch >: 2020-07-18T19:51:45.961056\n",
      "Saved CSV: ./tmp/2020-07-18T19_51_45.961056.csv\n",
      "Processed to: ./output/00317.pkl.gz\n",
      "Fetch at epoch >: 2020-07-28T14:00:01.000224\n",
      "Saved CSV: ./tmp/2020-07-28T14_00_01.000224.csv\n",
      "Processed to: ./output/00318.pkl.gz\n",
      "Fetch at epoch >: 2020-08-08T13:27:36.009216\n",
      "Saved CSV: ./tmp/2020-08-08T13_27_36.009216.csv\n",
      "Processed to: ./output/00319.pkl.gz\n",
      "Fetch at epoch >: 2020-08-18T14:27:21.305952\n",
      "Saved CSV: ./tmp/2020-08-18T14_27_21.305952.csv\n",
      "Processed to: ./output/00320.pkl.gz\n",
      "Fetch at epoch >: 2020-08-28T12:18:14.512608\n",
      "Saved CSV: ./tmp/2020-08-28T12_18_14.512608.csv\n",
      "Processed to: ./output/00321.pkl.gz\n",
      "Fetch at epoch >: 2020-09-07T02:31:20.058528\n",
      "Saved CSV: ./tmp/2020-09-07T02_31_20.058528.csv\n",
      "Processed to: ./output/00322.pkl.gz\n",
      "Fetch at epoch >: 2020-09-17T04:19:29.161632\n",
      "Saved CSV: ./tmp/2020-09-17T04_19_29.161632.csv\n",
      "Processed to: ./output/00323.pkl.gz\n",
      "Fetch at epoch >: 2020-09-27T12:17:24.315936\n",
      "Saved CSV: ./tmp/2020-09-27T12_17_24.315936.csv\n",
      "Processed to: ./output/00324.pkl.gz\n",
      "Fetch at epoch >: 2020-10-07T06:41:03.840288\n",
      "Saved CSV: ./tmp/2020-10-07T06_41_03.840288.csv\n",
      "Processed to: ./output/00325.pkl.gz\n",
      "Fetch at epoch >: 2020-10-17T04:46:18.643296\n",
      "Saved CSV: ./tmp/2020-10-17T04_46_18.643296.csv\n",
      "Processed to: ./output/00326.pkl.gz\n",
      "Fetch at epoch >: 2020-10-27T14:06:34.066656\n",
      "Saved CSV: ./tmp/2020-10-27T14_06_34.066656.csv\n",
      "Processed to: ./output/00327.pkl.gz\n",
      "Fetch at epoch >: 2020-11-05T20:00:01.000224\n",
      "Saved CSV: ./tmp/2020-11-05T20_00_01.000224.csv\n",
      "Processed to: ./output/00328.pkl.gz\n",
      "Fetch at epoch >: 2020-11-19T03:33:27.463392\n",
      "Saved CSV: ./tmp/2020-11-19T03_33_27.463392.csv\n",
      "Processed to: ./output/00329.pkl.gz\n",
      "Fetch at epoch >: 2020-11-28T12:03:57.929184\n",
      "Saved CSV: ./tmp/2020-11-28T12_03_57.929184.csv\n",
      "Processed to: ./output/00330.pkl.gz\n",
      "Fetch at epoch >: 2020-12-06T20:30:20.343168\n",
      "Saved CSV: ./tmp/2020-12-06T20_30_20.343168.csv\n",
      "Processed to: ./output/00331.pkl.gz\n",
      "Fetch at epoch >: 2020-12-13T05:47:05.387712\n",
      "Saved CSV: ./tmp/2020-12-13T05_47_05.387712.csv\n",
      "Processed to: ./output/00332.pkl.gz\n",
      "Fetch at epoch >: 2020-12-21T12:05:07.584864\n",
      "Saved CSV: ./tmp/2020-12-21T12_05_07.584864.csv\n"
     ]
    },
    {
     "name": "stderr",
     "output_type": "stream",
     "text": [
      "/Users/tim/opt/anaconda3/envs/siads-orbital/lib/python3.8/site-packages/IPython/core/interactiveshell.py:3146: DtypeWarning: Columns (34) have mixed types.Specify dtype option on import or set low_memory=False.\n",
      "  has_raised = await self.run_ast_nodes(code_ast.body, cell_name,\n"
     ]
    },
    {
     "name": "stdout",
     "output_type": "stream",
     "text": [
      "Processed to: ./output/00333.pkl.gz\n",
      "Fetch at epoch >: 2020-12-29T19:25:44.467680\n",
      "Saved CSV: ./tmp/2020-12-29T19_25_44.467680.csv\n",
      "Processed to: ./output/00334.pkl.gz\n",
      "Fetch at epoch >: 2021-01-06T07:15:29.157984\n",
      "Saved CSV: ./tmp/2021-01-06T07_15_29.157984.csv\n",
      "Processed to: ./output/00335.pkl.gz\n",
      "Fetch at epoch >: 2021-01-14T07:37:28.927488\n",
      "Saved CSV: ./tmp/2021-01-14T07_37_28.927488.csv\n",
      "Processed to: ./output/00336.pkl.gz\n",
      "Fetch at epoch >: 2021-01-18T16:56:00.468672\n",
      "Saved CSV: ./tmp/2021-01-18T16_56_00.468672.csv\n",
      "Processed to: ./output/00337.pkl.gz\n",
      "Fetch at epoch >: 2021-01-18T16:56:00.468672\n",
      "Saved CSV: ./tmp/2021-01-18T16_56_00.468672.csv\n",
      "Processed to: ./output/00338.pkl.gz\n",
      "Fetch at epoch >: 2021-01-18T16:56:00.468672\n",
      "Saved CSV: ./tmp/2021-01-18T16_56_00.468672.csv\n",
      "Processed to: ./output/00339.pkl.gz\n",
      "Fetch at epoch >: 2021-01-18T16:56:00.468672\n",
      "Saved CSV: ./tmp/2021-01-18T16_56_00.468672.csv\n",
      "Processed to: ./output/00340.pkl.gz\n",
      "Fetch at epoch >: 2021-01-18T16:56:00.468672\n",
      "Saved CSV: ./tmp/2021-01-18T16_56_00.468672.csv\n",
      "Processed to: ./output/00341.pkl.gz\n",
      "Fetch at epoch >: 2021-01-18T16:56:00.468672\n",
      "Saved CSV: ./tmp/2021-01-18T16_56_00.468672.csv\n",
      "Processed to: ./output/00342.pkl.gz\n",
      "Fetch at epoch >: 2021-01-18T16:56:00.468672\n",
      "Saved CSV: ./tmp/2021-01-18T16_56_00.468672.csv\n",
      "Processed to: ./output/00343.pkl.gz\n",
      "Fetch at epoch >: 2021-01-18T16:56:00.468672\n",
      "Saved CSV: ./tmp/2021-01-18T16_56_00.468672.csv\n",
      "Processed to: ./output/00344.pkl.gz\n",
      "Fetch at epoch >: 2021-01-18T16:56:00.468672\n",
      "Saved CSV: ./tmp/2021-01-18T16_56_00.468672.csv\n",
      "Processed to: ./output/00345.pkl.gz\n",
      "Fetch at epoch >: 2021-01-18T16:56:00.468672\n",
      "Saved CSV: ./tmp/2021-01-18T16_56_00.468672.csv\n",
      "Processed to: ./output/00346.pkl.gz\n",
      "Fetch at epoch >: 2021-01-18T16:56:00.468672\n",
      "Saved CSV: ./tmp/2021-01-18T16_56_00.468672.csv\n",
      "Processed to: ./output/00347.pkl.gz\n",
      "Fetch at epoch >: 2021-01-18T16:56:00.468672\n",
      "Saved CSV: ./tmp/2021-01-18T16_56_00.468672.csv\n",
      "Processed to: ./output/00348.pkl.gz\n",
      "Fetch at epoch >: 2021-01-18T16:56:00.468672\n",
      "Saved CSV: ./tmp/2021-01-18T16_56_00.468672.csv\n",
      "Processed to: ./output/00349.pkl.gz\n",
      "Fetch at epoch >: 2021-01-18T16:56:00.468672\n",
      "Saved CSV: ./tmp/2021-01-18T16_56_00.468672.csv\n",
      "Processed to: ./output/00350.pkl.gz\n",
      "Fetch at epoch >: 2021-01-18T16:56:00.468672\n",
      "Saved CSV: ./tmp/2021-01-18T16_56_00.468672.csv\n",
      "Processed to: ./output/00351.pkl.gz\n",
      "Fetch at epoch >: 2021-01-18T16:56:00.468672\n",
      "Saved CSV: ./tmp/2021-01-18T16_56_00.468672.csv\n",
      "Processed to: ./output/00352.pkl.gz\n",
      "Fetch at epoch >: 2021-01-18T16:56:00.468672\n",
      "Saved CSV: ./tmp/2021-01-18T16_56_00.468672.csv\n",
      "Processed to: ./output/00353.pkl.gz\n",
      "Fetch at epoch >: 2021-01-18T16:56:00.468672\n",
      "Saved CSV: ./tmp/2021-01-18T16_56_00.468672.csv\n",
      "Processed to: ./output/00354.pkl.gz\n",
      "Fetch at epoch >: 2021-01-18T16:56:00.468672\n",
      "Saved CSV: ./tmp/2021-01-18T16_56_00.468672.csv\n",
      "Processed to: ./output/00355.pkl.gz\n",
      "Fetch at epoch >: 2021-01-18T16:56:00.468672\n",
      "Saved CSV: ./tmp/2021-01-18T16_56_00.468672.csv\n",
      "Processed to: ./output/00356.pkl.gz\n",
      "Fetch at epoch >: 2021-01-18T16:56:00.468672\n",
      "Saved CSV: ./tmp/2021-01-18T16_56_00.468672.csv\n",
      "Processed to: ./output/00357.pkl.gz\n",
      "Fetch at epoch >: 2021-01-18T16:56:00.468672\n",
      "Saved CSV: ./tmp/2021-01-18T16_56_00.468672.csv\n",
      "Processed to: ./output/00358.pkl.gz\n",
      "Fetch at epoch >: 2021-01-18T16:56:00.468672\n",
      "Saved CSV: ./tmp/2021-01-18T16_56_00.468672.csv\n",
      "Processed to: ./output/00359.pkl.gz\n",
      "Fetch at epoch >: 2021-01-18T16:56:00.468672\n",
      "Saved CSV: ./tmp/2021-01-18T16_56_00.468672.csv\n",
      "Processed to: ./output/00360.pkl.gz\n",
      "Fetch at epoch >: 2021-01-18T16:56:00.468672\n",
      "Saved CSV: ./tmp/2021-01-18T16_56_00.468672.csv\n",
      "Processed to: ./output/00361.pkl.gz\n",
      "Fetch at epoch >: 2021-01-18T16:56:00.468672\n",
      "Saved CSV: ./tmp/2021-01-18T16_56_00.468672.csv\n",
      "Processed to: ./output/00362.pkl.gz\n",
      "Fetch at epoch >: 2021-01-18T16:56:00.468672\n",
      "Saved CSV: ./tmp/2021-01-18T16_56_00.468672.csv\n",
      "Processed to: ./output/00363.pkl.gz\n",
      "Fetch at epoch >: 2021-01-18T16:56:00.468672\n",
      "Saved CSV: ./tmp/2021-01-18T16_56_00.468672.csv\n",
      "Processed to: ./output/00364.pkl.gz\n",
      "Fetch at epoch >: 2021-01-18T16:56:00.468672\n",
      "Saved CSV: ./tmp/2021-01-18T16_56_00.468672.csv\n",
      "Processed to: ./output/00365.pkl.gz\n",
      "Fetch at epoch >: 2021-01-18T16:56:00.468672\n",
      "Saved CSV: ./tmp/2021-01-18T16_56_00.468672.csv\n",
      "Processed to: ./output/00366.pkl.gz\n",
      "Fetch at epoch >: 2021-01-18T16:56:00.468672\n",
      "Saved CSV: ./tmp/2021-01-18T16_56_00.468672.csv\n",
      "Processed to: ./output/00367.pkl.gz\n",
      "Fetch at epoch >: 2021-01-18T16:56:00.468672\n",
      "Saved CSV: ./tmp/2021-01-18T16_56_00.468672.csv\n",
      "Processed to: ./output/00368.pkl.gz\n",
      "Fetch at epoch >: 2021-01-18T16:56:00.468672\n",
      "Saved CSV: ./tmp/2021-01-18T16_56_00.468672.csv\n",
      "Processed to: ./output/00369.pkl.gz\n",
      "Fetch at epoch >: 2021-01-18T16:56:00.468672\n",
      "Saved CSV: ./tmp/2021-01-18T16_56_00.468672.csv\n",
      "Processed to: ./output/00370.pkl.gz\n",
      "Fetch at epoch >: 2021-01-18T16:56:00.468672\n",
      "Saved CSV: ./tmp/2021-01-18T16_56_00.468672.csv\n",
      "Processed to: ./output/00371.pkl.gz\n",
      "Fetch at epoch >: 2021-01-18T16:56:00.468672\n",
      "Saved CSV: ./tmp/2021-01-18T16_56_00.468672.csv\n",
      "Processed to: ./output/00372.pkl.gz\n",
      "Fetch at epoch >: 2021-01-18T16:56:00.468672\n",
      "Saved CSV: ./tmp/2021-01-18T16_56_00.468672.csv\n",
      "Processed to: ./output/00373.pkl.gz\n",
      "Fetch at epoch >: 2021-01-18T16:56:00.468672\n",
      "Saved CSV: ./tmp/2021-01-18T16_56_00.468672.csv\n",
      "Processed to: ./output/00374.pkl.gz\n",
      "Fetch at epoch >: 2021-01-18T16:56:00.468672\n",
      "Saved CSV: ./tmp/2021-01-18T16_56_00.468672.csv\n",
      "Processed to: ./output/00375.pkl.gz\n",
      "Fetch at epoch >: 2021-01-18T16:56:00.468672\n",
      "Saved CSV: ./tmp/2021-01-18T16_56_00.468672.csv\n",
      "Processed to: ./output/00376.pkl.gz\n",
      "Fetch at epoch >: 2021-01-18T16:56:00.468672\n",
      "Saved CSV: ./tmp/2021-01-18T16_56_00.468672.csv\n",
      "Processed to: ./output/00377.pkl.gz\n",
      "Fetch at epoch >: 2021-01-18T16:56:00.468672\n",
      "Saved CSV: ./tmp/2021-01-18T16_56_00.468672.csv\n",
      "Processed to: ./output/00378.pkl.gz\n",
      "Fetch at epoch >: 2021-01-18T16:56:00.468672\n",
      "Saved CSV: ./tmp/2021-01-18T16_56_00.468672.csv\n",
      "Processed to: ./output/00379.pkl.gz\n",
      "Fetch at epoch >: 2021-01-18T16:56:00.468672\n",
      "Saved CSV: ./tmp/2021-01-18T16_56_00.468672.csv\n",
      "Processed to: ./output/00380.pkl.gz\n",
      "Fetch at epoch >: 2021-01-18T16:56:00.468672\n",
      "Saved CSV: ./tmp/2021-01-18T16_56_00.468672.csv\n",
      "Processed to: ./output/00381.pkl.gz\n",
      "Fetch at epoch >: 2021-01-18T16:56:00.468672\n",
      "Saved CSV: ./tmp/2021-01-18T16_56_00.468672.csv\n",
      "Processed to: ./output/00382.pkl.gz\n",
      "Fetch at epoch >: 2021-01-18T16:56:00.468672\n",
      "Saved CSV: ./tmp/2021-01-18T16_56_00.468672.csv\n",
      "Processed to: ./output/00383.pkl.gz\n",
      "Fetch at epoch >: 2021-01-18T16:56:00.468672\n",
      "Saved CSV: ./tmp/2021-01-18T16_56_00.468672.csv\n",
      "Processed to: ./output/00384.pkl.gz\n",
      "Fetch at epoch >: 2021-01-18T16:56:00.468672\n",
      "Saved CSV: ./tmp/2021-01-18T16_56_00.468672.csv\n",
      "Processed to: ./output/00385.pkl.gz\n",
      "Fetch at epoch >: 2021-01-18T16:56:00.468672\n",
      "Saved CSV: ./tmp/2021-01-18T16_56_00.468672.csv\n",
      "Processed to: ./output/00386.pkl.gz\n",
      "Fetch at epoch >: 2021-01-18T16:56:00.468672\n"
     ]
    },
    {
     "ename": "KeyboardInterrupt",
     "evalue": "",
     "output_type": "error",
     "traceback": [
      "\u001b[0;31m---------------------------------------------------------------------------\u001b[0m",
      "\u001b[0;31mKeyboardInterrupt\u001b[0m                         Traceback (most recent call last)",
      "\u001b[0;32m<ipython-input-9-fae09d27bbb3>\u001b[0m in \u001b[0;36m<module>\u001b[0;34m\u001b[0m\n\u001b[1;32m     20\u001b[0m     \u001b[0mprint\u001b[0m\u001b[0;34m(\u001b[0m\u001b[0;34mf\"Fetch at epoch >: {start}\"\u001b[0m\u001b[0;34m)\u001b[0m\u001b[0;34m\u001b[0m\u001b[0;34m\u001b[0m\u001b[0m\n\u001b[1;32m     21\u001b[0m     \u001b[0mlog\u001b[0m\u001b[0;34m(\u001b[0m\u001b[0;34m\"fetch_init\"\u001b[0m\u001b[0;34m,\u001b[0m \u001b[0murl\u001b[0m\u001b[0;34m=\u001b[0m\u001b[0murl\u001b[0m\u001b[0;34m,\u001b[0m \u001b[0mepoch\u001b[0m\u001b[0;34m=\u001b[0m\u001b[0mstart\u001b[0m\u001b[0;34m)\u001b[0m\u001b[0;34m\u001b[0m\u001b[0;34m\u001b[0m\u001b[0m\n\u001b[0;32m---> 22\u001b[0;31m     \u001b[0mr\u001b[0m \u001b[0;34m=\u001b[0m \u001b[0mrequests\u001b[0m\u001b[0;34m.\u001b[0m\u001b[0mget\u001b[0m\u001b[0;34m(\u001b[0m\u001b[0murl\u001b[0m\u001b[0;34m,\u001b[0m \u001b[0mallow_redirects\u001b[0m\u001b[0;34m=\u001b[0m\u001b[0;32mTrue\u001b[0m\u001b[0;34m,\u001b[0m \u001b[0mcookies\u001b[0m\u001b[0;34m=\u001b[0m\u001b[0mauth_cookie\u001b[0m\u001b[0;34m)\u001b[0m\u001b[0;34m\u001b[0m\u001b[0;34m\u001b[0m\u001b[0m\n\u001b[0m\u001b[1;32m     23\u001b[0m     \u001b[0mfname\u001b[0m \u001b[0;34m=\u001b[0m \u001b[0;34mf\"./tmp/{start}.csv\"\u001b[0m\u001b[0;34m.\u001b[0m\u001b[0mreplace\u001b[0m\u001b[0;34m(\u001b[0m\u001b[0;34m\":\"\u001b[0m\u001b[0;34m,\u001b[0m\u001b[0;34m\"_\"\u001b[0m\u001b[0;34m)\u001b[0m\u001b[0;34m\u001b[0m\u001b[0;34m\u001b[0m\u001b[0m\n\u001b[1;32m     24\u001b[0m     \u001b[0mopen\u001b[0m\u001b[0;34m(\u001b[0m\u001b[0mfname\u001b[0m\u001b[0;34m,\u001b[0m \u001b[0;34m'wb'\u001b[0m\u001b[0;34m)\u001b[0m\u001b[0;34m.\u001b[0m\u001b[0mwrite\u001b[0m\u001b[0;34m(\u001b[0m\u001b[0mr\u001b[0m\u001b[0;34m.\u001b[0m\u001b[0mcontent\u001b[0m\u001b[0;34m)\u001b[0m\u001b[0;34m\u001b[0m\u001b[0;34m\u001b[0m\u001b[0m\n",
      "\u001b[0;32m~/opt/anaconda3/envs/siads-orbital/lib/python3.8/site-packages/requests/api.py\u001b[0m in \u001b[0;36mget\u001b[0;34m(url, params, **kwargs)\u001b[0m\n\u001b[1;32m     74\u001b[0m \u001b[0;34m\u001b[0m\u001b[0m\n\u001b[1;32m     75\u001b[0m     \u001b[0mkwargs\u001b[0m\u001b[0;34m.\u001b[0m\u001b[0msetdefault\u001b[0m\u001b[0;34m(\u001b[0m\u001b[0;34m'allow_redirects'\u001b[0m\u001b[0;34m,\u001b[0m \u001b[0;32mTrue\u001b[0m\u001b[0;34m)\u001b[0m\u001b[0;34m\u001b[0m\u001b[0;34m\u001b[0m\u001b[0m\n\u001b[0;32m---> 76\u001b[0;31m     \u001b[0;32mreturn\u001b[0m \u001b[0mrequest\u001b[0m\u001b[0;34m(\u001b[0m\u001b[0;34m'get'\u001b[0m\u001b[0;34m,\u001b[0m \u001b[0murl\u001b[0m\u001b[0;34m,\u001b[0m \u001b[0mparams\u001b[0m\u001b[0;34m=\u001b[0m\u001b[0mparams\u001b[0m\u001b[0;34m,\u001b[0m \u001b[0;34m**\u001b[0m\u001b[0mkwargs\u001b[0m\u001b[0;34m)\u001b[0m\u001b[0;34m\u001b[0m\u001b[0;34m\u001b[0m\u001b[0m\n\u001b[0m\u001b[1;32m     77\u001b[0m \u001b[0;34m\u001b[0m\u001b[0m\n\u001b[1;32m     78\u001b[0m \u001b[0;34m\u001b[0m\u001b[0m\n",
      "\u001b[0;32m~/opt/anaconda3/envs/siads-orbital/lib/python3.8/site-packages/requests/api.py\u001b[0m in \u001b[0;36mrequest\u001b[0;34m(method, url, **kwargs)\u001b[0m\n\u001b[1;32m     59\u001b[0m     \u001b[0;31m# cases, and look like a memory leak in others.\u001b[0m\u001b[0;34m\u001b[0m\u001b[0;34m\u001b[0m\u001b[0;34m\u001b[0m\u001b[0m\n\u001b[1;32m     60\u001b[0m     \u001b[0;32mwith\u001b[0m \u001b[0msessions\u001b[0m\u001b[0;34m.\u001b[0m\u001b[0mSession\u001b[0m\u001b[0;34m(\u001b[0m\u001b[0;34m)\u001b[0m \u001b[0;32mas\u001b[0m \u001b[0msession\u001b[0m\u001b[0;34m:\u001b[0m\u001b[0;34m\u001b[0m\u001b[0;34m\u001b[0m\u001b[0m\n\u001b[0;32m---> 61\u001b[0;31m         \u001b[0;32mreturn\u001b[0m \u001b[0msession\u001b[0m\u001b[0;34m.\u001b[0m\u001b[0mrequest\u001b[0m\u001b[0;34m(\u001b[0m\u001b[0mmethod\u001b[0m\u001b[0;34m=\u001b[0m\u001b[0mmethod\u001b[0m\u001b[0;34m,\u001b[0m \u001b[0murl\u001b[0m\u001b[0;34m=\u001b[0m\u001b[0murl\u001b[0m\u001b[0;34m,\u001b[0m \u001b[0;34m**\u001b[0m\u001b[0mkwargs\u001b[0m\u001b[0;34m)\u001b[0m\u001b[0;34m\u001b[0m\u001b[0;34m\u001b[0m\u001b[0m\n\u001b[0m\u001b[1;32m     62\u001b[0m \u001b[0;34m\u001b[0m\u001b[0m\n\u001b[1;32m     63\u001b[0m \u001b[0;34m\u001b[0m\u001b[0m\n",
      "\u001b[0;32m~/opt/anaconda3/envs/siads-orbital/lib/python3.8/site-packages/requests/sessions.py\u001b[0m in \u001b[0;36mrequest\u001b[0;34m(self, method, url, params, data, headers, cookies, files, auth, timeout, allow_redirects, proxies, hooks, stream, verify, cert, json)\u001b[0m\n\u001b[1;32m    540\u001b[0m         }\n\u001b[1;32m    541\u001b[0m         \u001b[0msend_kwargs\u001b[0m\u001b[0;34m.\u001b[0m\u001b[0mupdate\u001b[0m\u001b[0;34m(\u001b[0m\u001b[0msettings\u001b[0m\u001b[0;34m)\u001b[0m\u001b[0;34m\u001b[0m\u001b[0;34m\u001b[0m\u001b[0m\n\u001b[0;32m--> 542\u001b[0;31m         \u001b[0mresp\u001b[0m \u001b[0;34m=\u001b[0m \u001b[0mself\u001b[0m\u001b[0;34m.\u001b[0m\u001b[0msend\u001b[0m\u001b[0;34m(\u001b[0m\u001b[0mprep\u001b[0m\u001b[0;34m,\u001b[0m \u001b[0;34m**\u001b[0m\u001b[0msend_kwargs\u001b[0m\u001b[0;34m)\u001b[0m\u001b[0;34m\u001b[0m\u001b[0;34m\u001b[0m\u001b[0m\n\u001b[0m\u001b[1;32m    543\u001b[0m \u001b[0;34m\u001b[0m\u001b[0m\n\u001b[1;32m    544\u001b[0m         \u001b[0;32mreturn\u001b[0m \u001b[0mresp\u001b[0m\u001b[0;34m\u001b[0m\u001b[0;34m\u001b[0m\u001b[0m\n",
      "\u001b[0;32m~/opt/anaconda3/envs/siads-orbital/lib/python3.8/site-packages/requests/sessions.py\u001b[0m in \u001b[0;36msend\u001b[0;34m(self, request, **kwargs)\u001b[0m\n\u001b[1;32m    695\u001b[0m \u001b[0;34m\u001b[0m\u001b[0m\n\u001b[1;32m    696\u001b[0m         \u001b[0;32mif\u001b[0m \u001b[0;32mnot\u001b[0m \u001b[0mstream\u001b[0m\u001b[0;34m:\u001b[0m\u001b[0;34m\u001b[0m\u001b[0;34m\u001b[0m\u001b[0m\n\u001b[0;32m--> 697\u001b[0;31m             \u001b[0mr\u001b[0m\u001b[0;34m.\u001b[0m\u001b[0mcontent\u001b[0m\u001b[0;34m\u001b[0m\u001b[0;34m\u001b[0m\u001b[0m\n\u001b[0m\u001b[1;32m    698\u001b[0m \u001b[0;34m\u001b[0m\u001b[0m\n\u001b[1;32m    699\u001b[0m         \u001b[0;32mreturn\u001b[0m \u001b[0mr\u001b[0m\u001b[0;34m\u001b[0m\u001b[0;34m\u001b[0m\u001b[0m\n",
      "\u001b[0;32m~/opt/anaconda3/envs/siads-orbital/lib/python3.8/site-packages/requests/models.py\u001b[0m in \u001b[0;36mcontent\u001b[0;34m(self)\u001b[0m\n\u001b[1;32m    829\u001b[0m                 \u001b[0mself\u001b[0m\u001b[0;34m.\u001b[0m\u001b[0m_content\u001b[0m \u001b[0;34m=\u001b[0m \u001b[0;32mNone\u001b[0m\u001b[0;34m\u001b[0m\u001b[0;34m\u001b[0m\u001b[0m\n\u001b[1;32m    830\u001b[0m             \u001b[0;32melse\u001b[0m\u001b[0;34m:\u001b[0m\u001b[0;34m\u001b[0m\u001b[0;34m\u001b[0m\u001b[0m\n\u001b[0;32m--> 831\u001b[0;31m                 \u001b[0mself\u001b[0m\u001b[0;34m.\u001b[0m\u001b[0m_content\u001b[0m \u001b[0;34m=\u001b[0m \u001b[0;34mb''\u001b[0m\u001b[0;34m.\u001b[0m\u001b[0mjoin\u001b[0m\u001b[0;34m(\u001b[0m\u001b[0mself\u001b[0m\u001b[0;34m.\u001b[0m\u001b[0miter_content\u001b[0m\u001b[0;34m(\u001b[0m\u001b[0mCONTENT_CHUNK_SIZE\u001b[0m\u001b[0;34m)\u001b[0m\u001b[0;34m)\u001b[0m \u001b[0;32mor\u001b[0m \u001b[0;34mb''\u001b[0m\u001b[0;34m\u001b[0m\u001b[0;34m\u001b[0m\u001b[0m\n\u001b[0m\u001b[1;32m    832\u001b[0m \u001b[0;34m\u001b[0m\u001b[0m\n\u001b[1;32m    833\u001b[0m         \u001b[0mself\u001b[0m\u001b[0;34m.\u001b[0m\u001b[0m_content_consumed\u001b[0m \u001b[0;34m=\u001b[0m \u001b[0;32mTrue\u001b[0m\u001b[0;34m\u001b[0m\u001b[0;34m\u001b[0m\u001b[0m\n",
      "\u001b[0;32m~/opt/anaconda3/envs/siads-orbital/lib/python3.8/site-packages/requests/models.py\u001b[0m in \u001b[0;36mgenerate\u001b[0;34m()\u001b[0m\n\u001b[1;32m    751\u001b[0m             \u001b[0;32mif\u001b[0m \u001b[0mhasattr\u001b[0m\u001b[0;34m(\u001b[0m\u001b[0mself\u001b[0m\u001b[0;34m.\u001b[0m\u001b[0mraw\u001b[0m\u001b[0;34m,\u001b[0m \u001b[0;34m'stream'\u001b[0m\u001b[0;34m)\u001b[0m\u001b[0;34m:\u001b[0m\u001b[0;34m\u001b[0m\u001b[0;34m\u001b[0m\u001b[0m\n\u001b[1;32m    752\u001b[0m                 \u001b[0;32mtry\u001b[0m\u001b[0;34m:\u001b[0m\u001b[0;34m\u001b[0m\u001b[0;34m\u001b[0m\u001b[0m\n\u001b[0;32m--> 753\u001b[0;31m                     \u001b[0;32mfor\u001b[0m \u001b[0mchunk\u001b[0m \u001b[0;32min\u001b[0m \u001b[0mself\u001b[0m\u001b[0;34m.\u001b[0m\u001b[0mraw\u001b[0m\u001b[0;34m.\u001b[0m\u001b[0mstream\u001b[0m\u001b[0;34m(\u001b[0m\u001b[0mchunk_size\u001b[0m\u001b[0;34m,\u001b[0m \u001b[0mdecode_content\u001b[0m\u001b[0;34m=\u001b[0m\u001b[0;32mTrue\u001b[0m\u001b[0;34m)\u001b[0m\u001b[0;34m:\u001b[0m\u001b[0;34m\u001b[0m\u001b[0;34m\u001b[0m\u001b[0m\n\u001b[0m\u001b[1;32m    754\u001b[0m                         \u001b[0;32myield\u001b[0m \u001b[0mchunk\u001b[0m\u001b[0;34m\u001b[0m\u001b[0;34m\u001b[0m\u001b[0m\n\u001b[1;32m    755\u001b[0m                 \u001b[0;32mexcept\u001b[0m \u001b[0mProtocolError\u001b[0m \u001b[0;32mas\u001b[0m \u001b[0me\u001b[0m\u001b[0;34m:\u001b[0m\u001b[0;34m\u001b[0m\u001b[0;34m\u001b[0m\u001b[0m\n",
      "\u001b[0;32m~/opt/anaconda3/envs/siads-orbital/lib/python3.8/site-packages/urllib3/response.py\u001b[0m in \u001b[0;36mstream\u001b[0;34m(self, amt, decode_content)\u001b[0m\n\u001b[1;32m    573\u001b[0m         \u001b[0;32melse\u001b[0m\u001b[0;34m:\u001b[0m\u001b[0;34m\u001b[0m\u001b[0;34m\u001b[0m\u001b[0m\n\u001b[1;32m    574\u001b[0m             \u001b[0;32mwhile\u001b[0m \u001b[0;32mnot\u001b[0m \u001b[0mis_fp_closed\u001b[0m\u001b[0;34m(\u001b[0m\u001b[0mself\u001b[0m\u001b[0;34m.\u001b[0m\u001b[0m_fp\u001b[0m\u001b[0;34m)\u001b[0m\u001b[0;34m:\u001b[0m\u001b[0;34m\u001b[0m\u001b[0;34m\u001b[0m\u001b[0m\n\u001b[0;32m--> 575\u001b[0;31m                 \u001b[0mdata\u001b[0m \u001b[0;34m=\u001b[0m \u001b[0mself\u001b[0m\u001b[0;34m.\u001b[0m\u001b[0mread\u001b[0m\u001b[0;34m(\u001b[0m\u001b[0mamt\u001b[0m\u001b[0;34m=\u001b[0m\u001b[0mamt\u001b[0m\u001b[0;34m,\u001b[0m \u001b[0mdecode_content\u001b[0m\u001b[0;34m=\u001b[0m\u001b[0mdecode_content\u001b[0m\u001b[0;34m)\u001b[0m\u001b[0;34m\u001b[0m\u001b[0;34m\u001b[0m\u001b[0m\n\u001b[0m\u001b[1;32m    576\u001b[0m \u001b[0;34m\u001b[0m\u001b[0m\n\u001b[1;32m    577\u001b[0m                 \u001b[0;32mif\u001b[0m \u001b[0mdata\u001b[0m\u001b[0;34m:\u001b[0m\u001b[0;34m\u001b[0m\u001b[0;34m\u001b[0m\u001b[0m\n",
      "\u001b[0;32m~/opt/anaconda3/envs/siads-orbital/lib/python3.8/site-packages/urllib3/response.py\u001b[0m in \u001b[0;36mread\u001b[0;34m(self, amt, decode_content, cache_content)\u001b[0m\n\u001b[1;32m    516\u001b[0m             \u001b[0;32melse\u001b[0m\u001b[0;34m:\u001b[0m\u001b[0;34m\u001b[0m\u001b[0;34m\u001b[0m\u001b[0m\n\u001b[1;32m    517\u001b[0m                 \u001b[0mcache_content\u001b[0m \u001b[0;34m=\u001b[0m \u001b[0;32mFalse\u001b[0m\u001b[0;34m\u001b[0m\u001b[0;34m\u001b[0m\u001b[0m\n\u001b[0;32m--> 518\u001b[0;31m                 \u001b[0mdata\u001b[0m \u001b[0;34m=\u001b[0m \u001b[0mself\u001b[0m\u001b[0;34m.\u001b[0m\u001b[0m_fp\u001b[0m\u001b[0;34m.\u001b[0m\u001b[0mread\u001b[0m\u001b[0;34m(\u001b[0m\u001b[0mamt\u001b[0m\u001b[0;34m)\u001b[0m \u001b[0;32mif\u001b[0m \u001b[0;32mnot\u001b[0m \u001b[0mfp_closed\u001b[0m \u001b[0;32melse\u001b[0m \u001b[0;34mb\"\"\u001b[0m\u001b[0;34m\u001b[0m\u001b[0;34m\u001b[0m\u001b[0m\n\u001b[0m\u001b[1;32m    519\u001b[0m                 if (\n\u001b[1;32m    520\u001b[0m                     \u001b[0mamt\u001b[0m \u001b[0;34m!=\u001b[0m \u001b[0;36m0\u001b[0m \u001b[0;32mand\u001b[0m \u001b[0;32mnot\u001b[0m \u001b[0mdata\u001b[0m\u001b[0;34m\u001b[0m\u001b[0;34m\u001b[0m\u001b[0m\n",
      "\u001b[0;32m~/opt/anaconda3/envs/siads-orbital/lib/python3.8/http/client.py\u001b[0m in \u001b[0;36mread\u001b[0;34m(self, amt)\u001b[0m\n\u001b[1;32m    456\u001b[0m             \u001b[0;31m# Amount is given, implement using readinto\u001b[0m\u001b[0;34m\u001b[0m\u001b[0;34m\u001b[0m\u001b[0;34m\u001b[0m\u001b[0m\n\u001b[1;32m    457\u001b[0m             \u001b[0mb\u001b[0m \u001b[0;34m=\u001b[0m \u001b[0mbytearray\u001b[0m\u001b[0;34m(\u001b[0m\u001b[0mamt\u001b[0m\u001b[0;34m)\u001b[0m\u001b[0;34m\u001b[0m\u001b[0;34m\u001b[0m\u001b[0m\n\u001b[0;32m--> 458\u001b[0;31m             \u001b[0mn\u001b[0m \u001b[0;34m=\u001b[0m \u001b[0mself\u001b[0m\u001b[0;34m.\u001b[0m\u001b[0mreadinto\u001b[0m\u001b[0;34m(\u001b[0m\u001b[0mb\u001b[0m\u001b[0;34m)\u001b[0m\u001b[0;34m\u001b[0m\u001b[0;34m\u001b[0m\u001b[0m\n\u001b[0m\u001b[1;32m    459\u001b[0m             \u001b[0;32mreturn\u001b[0m \u001b[0mmemoryview\u001b[0m\u001b[0;34m(\u001b[0m\u001b[0mb\u001b[0m\u001b[0;34m)\u001b[0m\u001b[0;34m[\u001b[0m\u001b[0;34m:\u001b[0m\u001b[0mn\u001b[0m\u001b[0;34m]\u001b[0m\u001b[0;34m.\u001b[0m\u001b[0mtobytes\u001b[0m\u001b[0;34m(\u001b[0m\u001b[0;34m)\u001b[0m\u001b[0;34m\u001b[0m\u001b[0;34m\u001b[0m\u001b[0m\n\u001b[1;32m    460\u001b[0m         \u001b[0;32melse\u001b[0m\u001b[0;34m:\u001b[0m\u001b[0;34m\u001b[0m\u001b[0;34m\u001b[0m\u001b[0m\n",
      "\u001b[0;32m~/opt/anaconda3/envs/siads-orbital/lib/python3.8/http/client.py\u001b[0m in \u001b[0;36mreadinto\u001b[0;34m(self, b)\u001b[0m\n\u001b[1;32m    500\u001b[0m         \u001b[0;31m# connection, and the user is reading more bytes than will be provided\u001b[0m\u001b[0;34m\u001b[0m\u001b[0;34m\u001b[0m\u001b[0;34m\u001b[0m\u001b[0m\n\u001b[1;32m    501\u001b[0m         \u001b[0;31m# (for example, reading in 1k chunks)\u001b[0m\u001b[0;34m\u001b[0m\u001b[0;34m\u001b[0m\u001b[0;34m\u001b[0m\u001b[0m\n\u001b[0;32m--> 502\u001b[0;31m         \u001b[0mn\u001b[0m \u001b[0;34m=\u001b[0m \u001b[0mself\u001b[0m\u001b[0;34m.\u001b[0m\u001b[0mfp\u001b[0m\u001b[0;34m.\u001b[0m\u001b[0mreadinto\u001b[0m\u001b[0;34m(\u001b[0m\u001b[0mb\u001b[0m\u001b[0;34m)\u001b[0m\u001b[0;34m\u001b[0m\u001b[0;34m\u001b[0m\u001b[0m\n\u001b[0m\u001b[1;32m    503\u001b[0m         \u001b[0;32mif\u001b[0m \u001b[0;32mnot\u001b[0m \u001b[0mn\u001b[0m \u001b[0;32mand\u001b[0m \u001b[0mb\u001b[0m\u001b[0;34m:\u001b[0m\u001b[0;34m\u001b[0m\u001b[0;34m\u001b[0m\u001b[0m\n\u001b[1;32m    504\u001b[0m             \u001b[0;31m# Ideally, we would raise IncompleteRead if the content-length\u001b[0m\u001b[0;34m\u001b[0m\u001b[0;34m\u001b[0m\u001b[0;34m\u001b[0m\u001b[0m\n",
      "\u001b[0;32m~/opt/anaconda3/envs/siads-orbital/lib/python3.8/socket.py\u001b[0m in \u001b[0;36mreadinto\u001b[0;34m(self, b)\u001b[0m\n\u001b[1;32m    667\u001b[0m         \u001b[0;32mwhile\u001b[0m \u001b[0;32mTrue\u001b[0m\u001b[0;34m:\u001b[0m\u001b[0;34m\u001b[0m\u001b[0;34m\u001b[0m\u001b[0m\n\u001b[1;32m    668\u001b[0m             \u001b[0;32mtry\u001b[0m\u001b[0;34m:\u001b[0m\u001b[0;34m\u001b[0m\u001b[0;34m\u001b[0m\u001b[0m\n\u001b[0;32m--> 669\u001b[0;31m                 \u001b[0;32mreturn\u001b[0m \u001b[0mself\u001b[0m\u001b[0;34m.\u001b[0m\u001b[0m_sock\u001b[0m\u001b[0;34m.\u001b[0m\u001b[0mrecv_into\u001b[0m\u001b[0;34m(\u001b[0m\u001b[0mb\u001b[0m\u001b[0;34m)\u001b[0m\u001b[0;34m\u001b[0m\u001b[0;34m\u001b[0m\u001b[0m\n\u001b[0m\u001b[1;32m    670\u001b[0m             \u001b[0;32mexcept\u001b[0m \u001b[0mtimeout\u001b[0m\u001b[0;34m:\u001b[0m\u001b[0;34m\u001b[0m\u001b[0;34m\u001b[0m\u001b[0m\n\u001b[1;32m    671\u001b[0m                 \u001b[0mself\u001b[0m\u001b[0;34m.\u001b[0m\u001b[0m_timeout_occurred\u001b[0m \u001b[0;34m=\u001b[0m \u001b[0;32mTrue\u001b[0m\u001b[0;34m\u001b[0m\u001b[0;34m\u001b[0m\u001b[0m\n",
      "\u001b[0;32m~/opt/anaconda3/envs/siads-orbital/lib/python3.8/ssl.py\u001b[0m in \u001b[0;36mrecv_into\u001b[0;34m(self, buffer, nbytes, flags)\u001b[0m\n\u001b[1;32m   1239\u001b[0m                   \u001b[0;34m\"non-zero flags not allowed in calls to recv_into() on %s\"\u001b[0m \u001b[0;34m%\u001b[0m\u001b[0;34m\u001b[0m\u001b[0;34m\u001b[0m\u001b[0m\n\u001b[1;32m   1240\u001b[0m                   self.__class__)\n\u001b[0;32m-> 1241\u001b[0;31m             \u001b[0;32mreturn\u001b[0m \u001b[0mself\u001b[0m\u001b[0;34m.\u001b[0m\u001b[0mread\u001b[0m\u001b[0;34m(\u001b[0m\u001b[0mnbytes\u001b[0m\u001b[0;34m,\u001b[0m \u001b[0mbuffer\u001b[0m\u001b[0;34m)\u001b[0m\u001b[0;34m\u001b[0m\u001b[0;34m\u001b[0m\u001b[0m\n\u001b[0m\u001b[1;32m   1242\u001b[0m         \u001b[0;32melse\u001b[0m\u001b[0;34m:\u001b[0m\u001b[0;34m\u001b[0m\u001b[0;34m\u001b[0m\u001b[0m\n\u001b[1;32m   1243\u001b[0m             \u001b[0;32mreturn\u001b[0m \u001b[0msuper\u001b[0m\u001b[0;34m(\u001b[0m\u001b[0;34m)\u001b[0m\u001b[0;34m.\u001b[0m\u001b[0mrecv_into\u001b[0m\u001b[0;34m(\u001b[0m\u001b[0mbuffer\u001b[0m\u001b[0;34m,\u001b[0m \u001b[0mnbytes\u001b[0m\u001b[0;34m,\u001b[0m \u001b[0mflags\u001b[0m\u001b[0;34m)\u001b[0m\u001b[0;34m\u001b[0m\u001b[0;34m\u001b[0m\u001b[0m\n",
      "\u001b[0;32m~/opt/anaconda3/envs/siads-orbital/lib/python3.8/ssl.py\u001b[0m in \u001b[0;36mread\u001b[0;34m(self, len, buffer)\u001b[0m\n\u001b[1;32m   1097\u001b[0m         \u001b[0;32mtry\u001b[0m\u001b[0;34m:\u001b[0m\u001b[0;34m\u001b[0m\u001b[0;34m\u001b[0m\u001b[0m\n\u001b[1;32m   1098\u001b[0m             \u001b[0;32mif\u001b[0m \u001b[0mbuffer\u001b[0m \u001b[0;32mis\u001b[0m \u001b[0;32mnot\u001b[0m \u001b[0;32mNone\u001b[0m\u001b[0;34m:\u001b[0m\u001b[0;34m\u001b[0m\u001b[0;34m\u001b[0m\u001b[0m\n\u001b[0;32m-> 1099\u001b[0;31m                 \u001b[0;32mreturn\u001b[0m \u001b[0mself\u001b[0m\u001b[0;34m.\u001b[0m\u001b[0m_sslobj\u001b[0m\u001b[0;34m.\u001b[0m\u001b[0mread\u001b[0m\u001b[0;34m(\u001b[0m\u001b[0mlen\u001b[0m\u001b[0;34m,\u001b[0m \u001b[0mbuffer\u001b[0m\u001b[0;34m)\u001b[0m\u001b[0;34m\u001b[0m\u001b[0;34m\u001b[0m\u001b[0m\n\u001b[0m\u001b[1;32m   1100\u001b[0m             \u001b[0;32melse\u001b[0m\u001b[0;34m:\u001b[0m\u001b[0;34m\u001b[0m\u001b[0;34m\u001b[0m\u001b[0m\n\u001b[1;32m   1101\u001b[0m                 \u001b[0;32mreturn\u001b[0m \u001b[0mself\u001b[0m\u001b[0;34m.\u001b[0m\u001b[0m_sslobj\u001b[0m\u001b[0;34m.\u001b[0m\u001b[0mread\u001b[0m\u001b[0;34m(\u001b[0m\u001b[0mlen\u001b[0m\u001b[0;34m)\u001b[0m\u001b[0;34m\u001b[0m\u001b[0;34m\u001b[0m\u001b[0m\n",
      "\u001b[0;31mKeyboardInterrupt\u001b[0m: "
     ]
    }
   ],
   "source": [
    "# Check that we did not exceed Space-Track API limits\n",
    "# Limit API queries to less than 30 requests per minute / 300 requests per hour\n",
    "\n",
    "ops_count = 0\n",
    "\n",
    "while get_space_track_api_count(\"m\") < 25 and get_space_track_api_count(\"h\") < 275:\n",
    "    ops_count += 1\n",
    "    # clear expired cookies\n",
    "    print(\"------\")\n",
    "    print(f\"Local time: {datetime.now()}\")\n",
    "    if type(auth_cookie) == requests.cookies.RequestsCookieJar:\n",
    "        auth_cookie.clear_expired_cookies()\n",
    "    # log in if needed\n",
    "    if auth_cookie == None or len(auth_cookie) == 0:\n",
    "        auth_cookie = space_track_login()\n",
    "    # stop if can't log in\n",
    "    if auth_cookie == None:\n",
    "        log(\"skip\", error = f'Cannot log in')\n",
    "        break\n",
    "    # prep url\n",
    "    start, _, url = generate_url()\n",
    "    print(f\"Fetch at epoch >: {start}\")\n",
    "    log(\"fetch_init\", url=url, epoch=start)\n",
    "    r = requests.get(url, allow_redirects=True, cookies=auth_cookie)\n",
    "    fname = f\"./tmp/{start}.csv\".replace(\":\",\"_\")\n",
    "    open(fname, 'wb').write(r.content)\n",
    "    print(f\"Saved CSV: {fname}\")\n",
    "    log(\"fetch_success\", url=url, epoch=start, output=fname)\n",
    "    oname = (\"./output/%05d.pkl.gz\" % (get_current_file_count()+1)).replace(\":\",\"_\")\n",
    "    pd.read_csv(fname)[columns].to_pickle(oname,\"gzip\")\n",
    "    log(\"process_complete\", url=url, epoch=start, output=oname)\n",
    "    print(f\"Processed to: {oname}\")\n",
    "    \n",
    "if ops_count == 0:\n",
    "    log(\"skip\", error = f'Request limit exceeded: 1m({get_space_track_api_count(\"m\")}) 1h({get_space_track_api_count(\"h\")})')\n",
    "else:\n",
    "    log(\"stop\", output=ops_count, error = f'Request limit exceeded: 1m({get_space_track_api_count(\"m\")}) 1h({get_space_track_api_count(\"h\")})')"
   ]
  },
  {
   "cell_type": "code",
   "execution_count": null,
   "metadata": {},
   "outputs": [],
   "source": [
    "elapsed = timeit.default_timer() - start_time\n",
    "print(f\"Time used to execute cells: {elapsed} seconds\")"
   ]
  },
  {
   "cell_type": "code",
   "execution_count": null,
   "metadata": {},
   "outputs": [],
   "source": [
    "logs"
   ]
  }
 ],
 "metadata": {
  "kernelspec": {
   "display_name": "Python 3",
   "language": "python",
   "name": "python3"
  },
  "language_info": {
   "codemirror_mode": {
    "name": "ipython",
    "version": 3
   },
   "file_extension": ".py",
   "mimetype": "text/x-python",
   "name": "python",
   "nbconvert_exporter": "python",
   "pygments_lexer": "ipython3",
   "version": "3.8.5"
  }
 },
 "nbformat": 4,
 "nbformat_minor": 4
}
