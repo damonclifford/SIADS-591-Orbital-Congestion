{
 "cells": [
  {
   "cell_type": "markdown",
   "metadata": {},
   "source": [
    "# Downloading Space Track data\n",
    "\n",
    "* Requires account with Space Track\n",
    "* See `playground/tim_fetch/auto_fetch_all_payload_TLEs.ipynb` for code with auth\n",
    "* Create the `space-track-credentials.json` file from template with your own credentials\n",
    "* Limits on API - query size and date ranges are limited, for example, can't fetch all TLEs of a satellite easily.\n",
    "\n",
    "## Automated download\n",
    "\n",
    "I wanted a way to automatically download huge batches of data files from Space Track.  For example, basically 2/3rds of the data needs to be downloaded to create the debris gabbard chart.  Problems:\n",
    "* Estimate that there are at least 100 million+ rows\n",
    "* API rate limit - 30 per minute and 300 per hour\n",
    "* Per request limit - figured to be around 25MB or 100,000 rows from previous trial and error\n",
    "* Cross-platform - we don't have a backend, we need a solution that works for Unix, Win and Mac\n",
    "\n",
    "### Automation tool\n",
    "\n",
    "Fallback option: separate versions for Cron (Unix/Mac) and Windows Tasks scheduler (Win)\n",
    "* Cross-platform - do it from Jupyter Notebook!\n",
    "* Pros - if you can run notebook server, it'll work\n",
    "* Cons - you need to keep notebook open for the task to run, hopefully your browser doesn't crash :)\n",
    "* Use `IPython` javascript helpers, use %%html cell to render button to start/stop\n",
    "\n",
    "### Problems encountered\n",
    "\n",
    "* Turns out my connection speed with Space Track was too slow to reach API limits - manually running my cells intented for automation was sufficient to download all payloads.\n",
    "\n",
    "### Code\n",
    "\n",
    "* Skeleton code at `playground/tim_autorun-notebook/skeleton_autorun_below.ipynb`\n",
    "* Fetch all LEO payloads: `playground/tim_fetch/auto_fetch_all_payload_TLEs.ipynb`\n",
    "* Fetch all LEO debris: `playground/tim_fetch_debris/auto_fetch_all_debris_TLEs.ipynb`\n"
   ]
  },
  {
   "cell_type": "code",
   "execution_count": null,
   "metadata": {},
   "outputs": [],
   "source": []
  }
 ],
 "metadata": {
  "kernelspec": {
   "display_name": "Python 3",
   "language": "python",
   "name": "python3"
  },
  "language_info": {
   "codemirror_mode": {
    "name": "ipython",
    "version": 3
   },
   "file_extension": ".py",
   "mimetype": "text/x-python",
   "name": "python",
   "nbconvert_exporter": "python",
   "pygments_lexer": "ipython3",
   "version": "3.8.5"
  }
 },
 "nbformat": 4,
 "nbformat_minor": 4
}
