{
 "cells": [
  {
   "cell_type": "code",
   "execution_count": 1,
   "metadata": {},
   "outputs": [],
   "source": [
    "import pandas as pd\n",
    "import numpy as np"
   ]
  },
  {
   "cell_type": "code",
   "execution_count": 2,
   "metadata": {},
   "outputs": [],
   "source": [
    "sample_file_path = \"../../../siads591 data/space_track_raw/csv/000000001-000100186.csv.gz\""
   ]
  },
  {
   "cell_type": "code",
   "execution_count": 3,
   "metadata": {},
   "outputs": [
    {
     "name": "stdout",
     "output_type": "stream",
     "text": [
      "<class 'pandas.core.frame.DataFrame'>\n",
      "RangeIndex: 100000 entries, 0 to 99999\n",
      "Data columns (total 40 columns):\n",
      " #   Column               Non-Null Count   Dtype  \n",
      "---  ------               --------------   -----  \n",
      " 0   CCSDS_OMM_VERS       100000 non-null  float64\n",
      " 1   COMMENT              100000 non-null  object \n",
      " 2   CREATION_DATE        100000 non-null  object \n",
      " 3   ORIGINATOR           100000 non-null  object \n",
      " 4   OBJECT_NAME          100000 non-null  object \n",
      " 5   OBJECT_ID            100000 non-null  object \n",
      " 6   CENTER_NAME          100000 non-null  object \n",
      " 7   REF_FRAME            100000 non-null  object \n",
      " 8   TIME_SYSTEM          100000 non-null  object \n",
      " 9   MEAN_ELEMENT_THEORY  100000 non-null  object \n",
      " 10  EPOCH                100000 non-null  object \n",
      " 11  MEAN_MOTION          100000 non-null  float64\n",
      " 12  ECCENTRICITY         100000 non-null  float64\n",
      " 13  INCLINATION          100000 non-null  float64\n",
      " 14  RA_OF_ASC_NODE       100000 non-null  float64\n",
      " 15  ARG_OF_PERICENTER    100000 non-null  float64\n",
      " 16  MEAN_ANOMALY         100000 non-null  float64\n",
      " 17  EPHEMERIS_TYPE       100000 non-null  int64  \n",
      " 18  CLASSIFICATION_TYPE  100000 non-null  object \n",
      " 19  NORAD_CAT_ID         100000 non-null  int64  \n",
      " 20  ELEMENT_SET_NO       100000 non-null  int64  \n",
      " 21  REV_AT_EPOCH         100000 non-null  int64  \n",
      " 22  BSTAR                100000 non-null  float64\n",
      " 23  MEAN_MOTION_DOT      100000 non-null  float64\n",
      " 24  MEAN_MOTION_DDOT     100000 non-null  float64\n",
      " 25  SEMIMAJOR_AXIS       100000 non-null  float64\n",
      " 26  PERIOD               100000 non-null  float64\n",
      " 27  APOAPSIS             100000 non-null  float64\n",
      " 28  PERIAPSIS            100000 non-null  float64\n",
      " 29  OBJECT_TYPE          100000 non-null  object \n",
      " 30  RCS_SIZE             97887 non-null   object \n",
      " 31  COUNTRY_CODE         99999 non-null   object \n",
      " 32  LAUNCH_DATE          99999 non-null   object \n",
      " 33  SITE                 99999 non-null   object \n",
      " 34  DECAY_DATE           595 non-null     object \n",
      " 35  FILE                 100000 non-null  int64  \n",
      " 36  GP_ID                100000 non-null  int64  \n",
      " 37  TLE_LINE0            100000 non-null  object \n",
      " 38  TLE_LINE1            100000 non-null  object \n",
      " 39  TLE_LINE2            100000 non-null  object \n",
      "dtypes: float64(14), int64(6), object(20)\n",
      "memory usage: 30.5+ MB\n"
     ]
    }
   ],
   "source": [
    "# Raw CSV Input\n",
    "df = pd.read_csv(f'{sample_file_path}', compression='gzip')\n",
    "df.info()"
   ]
  },
  {
   "cell_type": "code",
   "execution_count": 4,
   "metadata": {},
   "outputs": [
    {
     "name": "stdout",
     "output_type": "stream",
     "text": [
      "<class 'pandas.core.frame.DataFrame'>\n",
      "Int64Index: 23126 entries, 0 to 99981\n",
      "Data columns (total 40 columns):\n",
      " #   Column               Non-Null Count  Dtype  \n",
      "---  ------               --------------  -----  \n",
      " 0   CCSDS_OMM_VERS       23126 non-null  float64\n",
      " 1   COMMENT              23126 non-null  object \n",
      " 2   CREATION_DATE        23126 non-null  object \n",
      " 3   ORIGINATOR           23126 non-null  object \n",
      " 4   OBJECT_NAME          23126 non-null  object \n",
      " 5   OBJECT_ID            23126 non-null  object \n",
      " 6   CENTER_NAME          23126 non-null  object \n",
      " 7   REF_FRAME            23126 non-null  object \n",
      " 8   TIME_SYSTEM          23126 non-null  object \n",
      " 9   MEAN_ELEMENT_THEORY  23126 non-null  object \n",
      " 10  EPOCH                23126 non-null  object \n",
      " 11  MEAN_MOTION          23126 non-null  float64\n",
      " 12  ECCENTRICITY         23126 non-null  float64\n",
      " 13  INCLINATION          23126 non-null  float64\n",
      " 14  RA_OF_ASC_NODE       23126 non-null  float64\n",
      " 15  ARG_OF_PERICENTER    23126 non-null  float64\n",
      " 16  MEAN_ANOMALY         23126 non-null  float64\n",
      " 17  EPHEMERIS_TYPE       23126 non-null  int64  \n",
      " 18  CLASSIFICATION_TYPE  23126 non-null  object \n",
      " 19  NORAD_CAT_ID         23126 non-null  int64  \n",
      " 20  ELEMENT_SET_NO       23126 non-null  int64  \n",
      " 21  REV_AT_EPOCH         23126 non-null  int64  \n",
      " 22  BSTAR                23126 non-null  float64\n",
      " 23  MEAN_MOTION_DOT      23126 non-null  float64\n",
      " 24  MEAN_MOTION_DDOT     23126 non-null  float64\n",
      " 25  SEMIMAJOR_AXIS       23126 non-null  float64\n",
      " 26  PERIOD               23126 non-null  float64\n",
      " 27  APOAPSIS             23126 non-null  float64\n",
      " 28  PERIAPSIS            23126 non-null  float64\n",
      " 29  OBJECT_TYPE          23126 non-null  object \n",
      " 30  RCS_SIZE             22436 non-null  object \n",
      " 31  COUNTRY_CODE         23126 non-null  object \n",
      " 32  LAUNCH_DATE          23126 non-null  object \n",
      " 33  SITE                 23126 non-null  object \n",
      " 34  DECAY_DATE           78 non-null     object \n",
      " 35  FILE                 23126 non-null  int64  \n",
      " 36  GP_ID                23126 non-null  int64  \n",
      " 37  TLE_LINE0            23126 non-null  object \n",
      " 38  TLE_LINE1            23126 non-null  object \n",
      " 39  TLE_LINE2            23126 non-null  object \n",
      "dtypes: float64(14), int64(6), object(20)\n",
      "memory usage: 7.2+ MB\n"
     ]
    }
   ],
   "source": [
    "# Filtering LEO artificial satellites\n",
    "df = df[(df.MEAN_MOTION > 11.25) & (df.ECCENTRICITY < 0.25) & (df.OBJECT_TYPE == \"PAYLOAD\")]\n",
    "df.info()"
   ]
  },
  {
   "cell_type": "code",
   "execution_count": 5,
   "metadata": {},
   "outputs": [
    {
     "name": "stdout",
     "output_type": "stream",
     "text": [
      "<class 'pandas.core.frame.DataFrame'>\n",
      "Int64Index: 23126 entries, 0 to 99981\n",
      "Data columns (total 16 columns):\n",
      " #   Column             Non-Null Count  Dtype  \n",
      "---  ------             --------------  -----  \n",
      " 0   EPOCH              23126 non-null  object \n",
      " 1   NORAD_CAT_ID       23126 non-null  int64  \n",
      " 2   MEAN_MOTION        23126 non-null  float64\n",
      " 3   ECCENTRICITY       23126 non-null  float64\n",
      " 4   INCLINATION        23126 non-null  float64\n",
      " 5   RA_OF_ASC_NODE     23126 non-null  float64\n",
      " 6   ARG_OF_PERICENTER  23126 non-null  float64\n",
      " 7   MEAN_ANOMALY       23126 non-null  float64\n",
      " 8   REV_AT_EPOCH       23126 non-null  int64  \n",
      " 9   BSTAR              23126 non-null  float64\n",
      " 10  MEAN_MOTION_DOT    23126 non-null  float64\n",
      " 11  MEAN_MOTION_DDOT   23126 non-null  float64\n",
      " 12  SEMIMAJOR_AXIS     23126 non-null  float64\n",
      " 13  PERIOD             23126 non-null  float64\n",
      " 14  APOAPSIS           23126 non-null  float64\n",
      " 15  PERIAPSIS          23126 non-null  float64\n",
      "dtypes: float64(13), int64(2), object(1)\n",
      "memory usage: 3.0+ MB\n"
     ]
    }
   ],
   "source": [
    "# Remove non-Orbital Element columns\n",
    "df = df[['EPOCH', 'NORAD_CAT_ID', 'MEAN_MOTION', 'ECCENTRICITY', 'INCLINATION', 'RA_OF_ASC_NODE', 'ARG_OF_PERICENTER',\n",
    "         'MEAN_ANOMALY', 'REV_AT_EPOCH', 'BSTAR', 'MEAN_MOTION_DOT', 'MEAN_MOTION_DDOT', 'SEMIMAJOR_AXIS', 'PERIOD',\n",
    "         'APOAPSIS', 'PERIAPSIS']]\n",
    "df.info()"
   ]
  },
  {
   "cell_type": "code",
   "execution_count": 6,
   "metadata": {},
   "outputs": [
    {
     "name": "stdout",
     "output_type": "stream",
     "text": [
      "<class 'pandas.core.frame.DataFrame'>\n",
      "Int64Index: 23126 entries, 0 to 99981\n",
      "Data columns (total 4 columns):\n",
      " #   Column          Non-Null Count  Dtype  \n",
      "---  ------          --------------  -----  \n",
      " 0   EPOCH           23126 non-null  object \n",
      " 1   NORAD_CAT_ID    23126 non-null  int64  \n",
      " 2   INCLINATION     23126 non-null  float64\n",
      " 3   SEMIMAJOR_AXIS  23126 non-null  float64\n",
      "dtypes: float64(2), int64(1), object(1)\n",
      "memory usage: 903.4+ KB\n"
     ]
    }
   ],
   "source": [
    "# Reduce Orbital Element columns to SEMIMAJOR_AXIS and INCLINATION\n",
    "df = df[['EPOCH', 'NORAD_CAT_ID', 'INCLINATION', 'SEMIMAJOR_AXIS']]\n",
    "df.info()"
   ]
  },
  {
   "cell_type": "code",
   "execution_count": 7,
   "metadata": {},
   "outputs": [
    {
     "name": "stdout",
     "output_type": "stream",
     "text": [
      "<class 'pandas.core.frame.DataFrame'>\n",
      "RangeIndex: 23126 entries, 0 to 23125\n",
      "Data columns (total 4 columns):\n",
      " #   Column          Non-Null Count  Dtype         \n",
      "---  ------          --------------  -----         \n",
      " 0   EPOCH           23126 non-null  datetime64[ns]\n",
      " 1   NORAD_CAT_ID    23126 non-null  uint16        \n",
      " 2   INCLINATION     23126 non-null  uint32        \n",
      " 3   SEMIMAJOR_AXIS  23126 non-null  uint32        \n",
      "dtypes: datetime64[ns](1), uint16(1), uint32(2)\n",
      "memory usage: 406.6 KB\n"
     ]
    }
   ],
   "source": [
    "df['EPOCH'] = df.EPOCH.astype(np.datetime64)\n",
    "df['NORAD_CAT_ID'] = df.NORAD_CAT_ID.astype(np.uint16)\n",
    "df['INCLINATION'] = (df.INCLINATION * 10000).astype(np.uint32)\n",
    "df['SEMIMAJOR_AXIS'] = (df.SEMIMAJOR_AXIS * 1000).astype(np.uint32)\n",
    "df = df.set_index('EPOCH')\n",
    "df.reset_index().info()"
   ]
  }
 ],
 "metadata": {
  "kernelspec": {
   "display_name": "Python 3",
   "language": "python",
   "name": "python3"
  },
  "language_info": {
   "codemirror_mode": {
    "name": "ipython",
    "version": 3
   },
   "file_extension": ".py",
   "mimetype": "text/x-python",
   "name": "python",
   "nbconvert_exporter": "python",
   "pygments_lexer": "ipython3",
   "version": "3.8.5"
  }
 },
 "nbformat": 4,
 "nbformat_minor": 4
}
