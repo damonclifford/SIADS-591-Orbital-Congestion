{
 "cells": [
  {
   "cell_type": "code",
   "execution_count": 1,
   "metadata": {
    "scrolled": true
   },
   "outputs": [],
   "source": [
    "import pandas as pd\n",
    "import numpy as np\n",
    "from os import listdir\n",
    "\n",
    "columns = ['EPOCH', 'NORAD_CAT_ID', 'MEAN_MOTION', 'ECCENTRICITY', 'INCLINATION', 'RA_OF_ASC_NODE', 'ARG_OF_PERICENTER', 'MEAN_ANOMALY', 'REV_AT_EPOCH', 'BSTAR', 'MEAN_MOTION_DOT', 'MEAN_MOTION_DDOT', 'SEMIMAJOR_AXIS', 'PERIOD', 'APOAPSIS', 'PERIAPSIS']\n",
    "\n",
    "dtypes = {'NORAD_CAT_ID':np.uint32,\n",
    "          'REV_AT_EPOCH':np.uint32,\n",
    "          'INCLINATION':np.float32,\n",
    "          'RA_OF_ASC_NODE':np.float32,\n",
    "          'ARG_OF_PERICENTER':np.float32,\n",
    "          'MEAN_ANOMALY':np.float32,\n",
    "          'SEMIMAJOR_AXIS':np.float32,\n",
    "          'PERIOD':np.float32,\n",
    "          'APOAPSIS':np.float32,\n",
    "          'PERIAPSIS':np.float32,\n",
    "          'MEAN_MOTION':np.float64,\n",
    "          'ECCENTRICITY':np.float64,\n",
    "          'BSTAR':np.float64,\n",
    "          'MEAN_MOTION_DOT':np.float64,\n",
    "          'MEAN_MOTION_DDOT':np.float64,\n",
    "         }\n",
    "\n",
    "selected_columns = ['EPOCH', 'NORAD_CAT_ID', 'SEMIMAJOR_AXIS', 'INCLINATION']\n",
    "selected_dtypes = {k:dtypes[k] for k in selected_columns if k != 'EPOCH'}\n",
    "\n",
    "object_type = \"payload\" # debris, rb, or payload\n",
    "\n",
    "path = f'../../../siads591 data/{object_type}_all' # path to the data directory\n",
    "\n",
    "df = pd.concat([pd.read_csv(path + \"/\" + f, usecols=selected_columns, parse_dates=['EPOCH'], infer_datetime_format=True, index_col='EPOCH', dtype=selected_dtypes) for f in sorted([f for f in listdir(path) if f.endswith(\".csv\")])])"
   ]
  },
  {
   "cell_type": "code",
   "execution_count": 2,
   "metadata": {},
   "outputs": [
    {
     "name": "stdout",
     "output_type": "stream",
     "text": [
      "CPU times: user 3min 17s, sys: 872 ms, total: 3min 18s\n",
      "Wall time: 3min 18s\n"
     ]
    }
   ],
   "source": [
    "%%time\n",
    "df.to_pickle(f\"./data/{object_type}/all.pkl.gz\", compression=\"gzip\")"
   ]
  },
  {
   "cell_type": "code",
   "execution_count": 3,
   "metadata": {},
   "outputs": [
    {
     "name": "stdout",
     "output_type": "stream",
     "text": [
      "1959-05-15T21_10_06.444192.csv\n",
      "<class 'pandas.core.frame.DataFrame'>\n",
      "DatetimeIndex: 13086 entries, 1959-05-15 21:10:06.444192 to 1969-12-31 23:33:38.656223\n",
      "Data columns (total 3 columns):\n",
      " #   Column          Non-Null Count  Dtype  \n",
      "---  ------          --------------  -----  \n",
      " 0   INCLINATION     13086 non-null  float64\n",
      " 1   NORAD_CAT_ID    13086 non-null  uint32 \n",
      " 2   SEMIMAJOR_AXIS  13086 non-null  float64\n",
      "dtypes: float64(2), uint32(1)\n",
      "memory usage: 357.8 KB\n"
     ]
    }
   ],
   "source": [
    "import pandas as pd\n",
    "import numpy as np\n",
    "from os import listdir\n",
    "\n",
    "columns = ['EPOCH', 'NORAD_CAT_ID', 'MEAN_MOTION', 'ECCENTRICITY', 'INCLINATION', 'RA_OF_ASC_NODE', 'ARG_OF_PERICENTER', 'MEAN_ANOMALY', 'REV_AT_EPOCH', 'BSTAR', 'MEAN_MOTION_DOT', 'MEAN_MOTION_DDOT', 'SEMIMAJOR_AXIS', 'PERIOD', 'APOAPSIS', 'PERIAPSIS']\n",
    "\n",
    "dtypes = {'NORAD_CAT_ID':np.uint32,\n",
    "          'INCLINATION':np.float64,\n",
    "          'SEMIMAJOR_AXIS':np.float64,\n",
    "         }\n",
    "\n",
    "selected_columns = ['EPOCH', 'NORAD_CAT_ID', 'SEMIMAJOR_AXIS', 'INCLINATION']\n",
    "selected_dtypes = {k:dtypes[k] for k in selected_columns if k != 'EPOCH'}\n",
    "\n",
    "object_type = \"payload\" # debris, rb, or payload\n",
    "\n",
    "path = f'../../../siads591 data/{object_type}_all' # path to the data directory\n",
    "\n",
    "df = None\n",
    "\n",
    "for f in sorted([f for f in listdir(path) if f.endswith(\".csv\")]):\n",
    "    print(f)\n",
    "    df = pd.read_csv(path + \"/\" + f,\n",
    "                     usecols=selected_columns,\n",
    "                     parse_dates=['EPOCH'],\n",
    "                     infer_datetime_format=True,\n",
    "                     index_col='EPOCH',\n",
    "                     dtype=selected_dtypes,\n",
    "                    )\n",
    "    break\n",
    "        \n",
    "df.info()"
   ]
  },
  {
   "cell_type": "code",
   "execution_count": 4,
   "metadata": {},
   "outputs": [
    {
     "name": "stdout",
     "output_type": "stream",
     "text": [
      "<class 'pandas.core.frame.DataFrame'>\n",
      "DatetimeIndex: 13086 entries, 1959-05-15 21:10:06.444192 to 1969-12-31 23:33:38.656223\n",
      "Data columns (total 3 columns):\n",
      " #   Column          Non-Null Count  Dtype \n",
      "---  ------          --------------  ----- \n",
      " 0   INCLINATION     13086 non-null  uint32\n",
      " 1   NORAD_CAT_ID    13086 non-null  uint32\n",
      " 2   SEMIMAJOR_AXIS  13086 non-null  uint32\n",
      "dtypes: uint32(3)\n",
      "memory usage: 255.6 KB\n"
     ]
    }
   ],
   "source": [
    "df2 = df.copy()\n",
    "df2.INCLINATION =df2.INCLINATION * 10000\n",
    "df2.SEMIMAJOR_AXIS   =df2.SEMIMAJOR_AXIS   * 1000\n",
    "df2['INCLINATION']=df2.INCLINATION.astype(np.uint32)\n",
    "df2['SEMIMAJOR_AXIS']=df2.SEMIMAJOR_AXIS.astype(np.uint32)\n",
    "df2.info()"
   ]
  },
  {
   "cell_type": "code",
   "execution_count": 5,
   "metadata": {},
   "outputs": [
    {
     "name": "stdout",
     "output_type": "stream",
     "text": [
      "<class 'pandas.core.frame.DataFrame'>\n",
      "DatetimeIndex: 13086 entries, 1959-05-15 21:10:06.444192 to 1969-12-31 23:33:38.656223\n",
      "Data columns (total 3 columns):\n",
      " #   Column          Non-Null Count  Dtype  \n",
      "---  ------          --------------  -----  \n",
      " 0   INCLINATION     13086 non-null  float32\n",
      " 1   NORAD_CAT_ID    13086 non-null  uint32 \n",
      " 2   SEMIMAJOR_AXIS  13086 non-null  float32\n",
      "dtypes: float32(2), uint32(1)\n",
      "memory usage: 255.6 KB\n"
     ]
    }
   ],
   "source": [
    "df3=df.copy()\n",
    "df3['INCLINATION']=df3.INCLINATION.astype(np.float32)\n",
    "df3['SEMIMAJOR_AXIS']=df3.SEMIMAJOR_AXIS.astype(np.float32)\n",
    "df3.info()"
   ]
  },
  {
   "cell_type": "code",
   "execution_count": null,
   "metadata": {},
   "outputs": [],
   "source": []
  }
 ],
 "metadata": {
  "kernelspec": {
   "display_name": "Python 3",
   "language": "python",
   "name": "python3"
  },
  "language_info": {
   "codemirror_mode": {
    "name": "ipython",
    "version": 3
   },
   "file_extension": ".py",
   "mimetype": "text/x-python",
   "name": "python",
   "nbconvert_exporter": "python",
   "pygments_lexer": "ipython3",
   "version": "3.8.5"
  }
 },
 "nbformat": 4,
 "nbformat_minor": 4
}
