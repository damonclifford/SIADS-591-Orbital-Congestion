{
 "cells": [
  {
   "cell_type": "code",
   "execution_count": null,
   "metadata": {
    "scrolled": true
   },
   "outputs": [],
   "source": [
    "import pandas as pd\n",
    "import numpy as np\n",
    "from os import listdir\n",
    "\n",
    "columns = ['EPOCH', 'NORAD_CAT_ID', 'MEAN_MOTION', 'ECCENTRICITY', 'INCLINATION', 'RA_OF_ASC_NODE', 'ARG_OF_PERICENTER', 'MEAN_ANOMALY', 'REV_AT_EPOCH', 'BSTAR', 'MEAN_MOTION_DOT', 'MEAN_MOTION_DDOT', 'SEMIMAJOR_AXIS', 'PERIOD', 'APOAPSIS', 'PERIAPSIS']\n",
    "\n",
    "dtypes = {'NORAD_CAT_ID':np.uint32,\n",
    "          'REV_AT_EPOCH':np.uint32,\n",
    "          'INCLINATION':np.float32,\n",
    "          'RA_OF_ASC_NODE':np.float32,\n",
    "          'ARG_OF_PERICENTER':np.float32,\n",
    "          'MEAN_ANOMALY':np.float32,\n",
    "          'SEMIMAJOR_AXIS':np.float32,\n",
    "          'PERIOD':np.float32,\n",
    "          'APOAPSIS':np.float32,\n",
    "          'PERIAPSIS':np.float32,\n",
    "          'MEAN_MOTION':np.float64,\n",
    "          'ECCENTRICITY':np.float64,\n",
    "          'BSTAR':np.float64,\n",
    "          'MEAN_MOTION_DOT':np.float64,\n",
    "          'MEAN_MOTION_DDOT':np.float64,\n",
    "         }\n",
    "\n",
    "selected_columns = ['EPOCH', 'NORAD_CAT_ID', 'APOAPSIS', 'PERIAPSIS']\n",
    "selected_dtypes = {k:dtypes[k] for k in selected_columns if k != 'EPOCH'}\n",
    "\n",
    "object_type = \"debris\" # debris, rb, or payload\n",
    "\n",
    "path = f'../../../siads591 data/{object_type}_all' # path to the data directory\n",
    "\n",
    "res = None\n",
    "\n",
    "for f in sorted([f for f in listdir(path) if f.endswith(\".csv\")]):\n",
    "    print(f)\n",
    "    df = pd.read_csv(path + \"/\" + f,\n",
    "                     usecols=selected_columns,\n",
    "                     parse_dates=['EPOCH'],\n",
    "                     infer_datetime_format=True,\n",
    "                     index_col='EPOCH',\n",
    "                     dtype=selected_dtypes,\n",
    "                    )\n",
    "    if type(res) == type(None) :\n",
    "        res = df\n",
    "    else:\n",
    "        res = pd.concat([res,df])\n",
    "    while res.index[0].year != res.index[-1].year:\n",
    "        res[res.index.year == res.index[0].year].to_pickle(f\"./data/{object_type}/{res.index[0].year}.pkl.gz\",\"gzip\")\n",
    "        res = res[res.index.year != res.index[0].year]\n",
    "        \n",
    "# export the last year\n",
    "res[res.index.year == res.index[0].year].to_pickle(f\"./data/{object_type}/{res.index[0].year}.pkl.gz\",\"gzip\")"
   ]
  }
 ],
 "metadata": {
  "kernelspec": {
   "display_name": "Python 3",
   "language": "python",
   "name": "python3"
  },
  "language_info": {
   "codemirror_mode": {
    "name": "ipython",
    "version": 3
   },
   "file_extension": ".py",
   "mimetype": "text/x-python",
   "name": "python",
   "nbconvert_exporter": "python",
   "pygments_lexer": "ipython3",
   "version": "3.8.5"
  }
 },
 "nbformat": 4,
 "nbformat_minor": 4
}
