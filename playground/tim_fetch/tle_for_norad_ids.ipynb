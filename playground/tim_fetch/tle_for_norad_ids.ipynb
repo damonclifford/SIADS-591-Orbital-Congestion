{
 "cells": [
  {
   "cell_type": "code",
   "execution_count": 12,
   "metadata": {},
   "outputs": [
    {
     "data": {
      "text/plain": [
       "['satname-gp-history-USA 193.csv',\n",
       " 'satname-gp-history-FY_DEB_DECAYED_19.csv',\n",
       " 'satname-gp-history-FY_DEB_DECAYED_18.csv',\n",
       " 'fy1c deb from beginning',\n",
       " 'fy1c_dd_2.gif',\n",
       " '.DS_Store',\n",
       " 'combined_csv.csv',\n",
       " 'satname-gp-history-FY_DEB_DECAYED_9.csv',\n",
       " 'satname-gp-history-FY_DEB_DECAYED_8.csv',\n",
       " 'example.gif',\n",
       " 'satname-gp-history-FY_DEB_DECAYED_0.csv',\n",
       " 'satname-gp-history-FY_DEB_DECAYED_1.csv',\n",
       " 'satname-gp-history-FY_DEB_DECAYED_3.csv',\n",
       " 'satname-gp-history-FY_DEB_DECAYED_2.csv',\n",
       " 'satname-gp-history-FY_DEB_DECAYED_6.csv',\n",
       " 'fy1c_dd.gif',\n",
       " 'satname-gp-history-FY_DEB_DECAYED_7.csv',\n",
       " 'satname-gp-history-FY_DEB_DECAYED_5.csv',\n",
       " 'satname-gp-history-FY_DEB_DECAYED_4.csv',\n",
       " 'satname-gp-history-FY_DEB_DECAYED_10.csv',\n",
       " 'satname-gp-history-FY_DEB_DECAYED_11.csv',\n",
       " 'satname-gp-history-FY_DEB_DECAYED_13.csv',\n",
       " 'satname-gp-history-FY_DEB_DECAYED_12.csv',\n",
       " 'satname-gp-history-FY_DEB_DECAYED_16.csv',\n",
       " 'satname-gp-history-FY_DEB_DECAYED_17.csv',\n",
       " 'satname-gp-history-FY_DEB_DECAYED_15.csv',\n",
       " 'satname-gp-history-FY_DEB_DECAYED_14.csv']"
      ]
     },
     "execution_count": 12,
     "metadata": {},
     "output_type": "execute_result"
    }
   ],
   "source": [
    "import pandas as pd\n",
    "from os import listdir\n",
    "from os.path import isfile, join\n",
    "import re\n",
    "\n",
    "path = '../../../siads591 data'\n",
    "files = [f for f in listdir(path)]\n",
    "files\n"
   ]
  }
 ],
 "metadata": {
  "kernelspec": {
   "display_name": "Python 3",
   "language": "python",
   "name": "python3"
  },
  "language_info": {
   "codemirror_mode": {
    "name": "ipython",
    "version": 3
   },
   "file_extension": ".py",
   "mimetype": "text/x-python",
   "name": "python",
   "nbconvert_exporter": "python",
   "pygments_lexer": "ipython3",
   "version": "3.8.5"
  }
 },
 "nbformat": 4,
 "nbformat_minor": 4
}
