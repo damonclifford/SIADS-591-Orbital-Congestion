{
 "cells": [
  {
   "cell_type": "code",
   "execution_count": 1,
   "metadata": {},
   "outputs": [],
   "source": [
    "import timeit\n",
    "from datetime import datetime\n",
    "import requests\n",
    "import pandas as pd\n",
    "import numpy as np\n",
    "from os import listdir\n",
    "from os.path import isfile, join\n",
    "import urllib\n",
    "import json"
   ]
  },
  {
   "cell_type": "code",
   "execution_count": 2,
   "metadata": {},
   "outputs": [],
   "source": [
    "if \"auth_cookie\" not in locals():\n",
    "    auth_cookie = None\n",
    "\n",
    "autorun_execute_count = 0\n",
    "columns = ['EPOCH', 'NORAD_CAT_ID', 'MEAN_MOTION', 'ECCENTRICITY', 'INCLINATION', 'RA_OF_ASC_NODE', 'ARG_OF_PERICENTER', 'MEAN_ANOMALY', 'REV_AT_EPOCH', 'BSTAR', 'MEAN_MOTION_DOT', 'MEAN_MOTION_DDOT', 'SEMIMAJOR_AXIS', 'PERIOD', 'APOAPSIS', 'PERIAPSIS']"
   ]
  },
  {
   "cell_type": "code",
   "execution_count": 3,
   "metadata": {},
   "outputs": [],
   "source": [
    "try:\n",
    "    logs = pd.read_pickle(\"./logs.pkl.gz\",\"gzip\")\n",
    "except:\n",
    "    # time, type (trigger, login, skip, fetch_init, fetch_success, process_complete, error), url, epoch, out file\n",
    "    logs = pd.DataFrame(columns = [\"created_on\",\"type\",\"url\",\"epoch\",\"error\",\"output\"])\n",
    "    logs = logs.astype({'created_on': 'datetime64[ns]'})\n",
    "    \n",
    "def save_logs():\n",
    "    logs.to_pickle(\"./logs.pkl.gz\",\"gzip\")\n",
    "    \n",
    "def log(log_type,url=None,epoch=None,error=None,output=None):\n",
    "    global logs\n",
    "    new_log = {'created_on':np.datetime64('now'), 'type':log_type, 'url':url, 'epoch':epoch, 'error':error, 'output':output}\n",
    "    logs = logs.append(new_log,ignore_index=True)\n",
    "    save_logs()"
   ]
  },
  {
   "cell_type": "code",
   "execution_count": 4,
   "metadata": {},
   "outputs": [],
   "source": [
    "def get_current_file_count():\n",
    "    return max([int(f[:-7]) for f in listdir('./output/') if f.endswith(\".pkl.gz\")])\n",
    "\n",
    "def get_last_epoch():\n",
    "    df = pd.read_pickle(\"./output/%05d.pkl.gz\" % get_current_file_count(),\"gzip\")\n",
    "    return df.EPOCH[-1:].astype(\"datetime64[ns]\").values[0]\n",
    "\n",
    "def get_space_track_api_count(unit=\"m\"):\n",
    "    return len(logs[(logs.created_on > (np.datetime64('now') - np.timedelta64(1,unit))) & (logs.type==\"fetch_init\")])\n",
    "\n",
    "def space_track_login():\n",
    "    with open(\"space-track-credentials.json\") as json_file:\n",
    "        credentials = json.load(json_file)\n",
    "    print(\"Logging in space-track.org with identity:\",credentials['identity'])\n",
    "    url = \"https://www.space-track.org/ajaxauth/login\"\n",
    "    x = requests.post(url, data = credentials)\n",
    "    if x.status_code == 200:\n",
    "        print(\"Logged in\")\n",
    "        log(\"login\", output=\"success\")\n",
    "        return x.cookies\n",
    "    else:\n",
    "        log(\"login\", error=x.status_code)\n",
    "        print(\"Failed with code:\",x.status_code)\n",
    "        return None\n",
    "    \n",
    "def generate_url():\n",
    "    lower = get_last_epoch()\n",
    "    l = np.datetime_as_string(lower, unit='us')\n",
    "    if lower.astype('datetime64[Y]').item().year > 2014:\n",
    "        upper = lower + np.timedelta64(60,'D') # after 2014\n",
    "    elif lower.astype('datetime64[Y]').item().year > 2009:\n",
    "        upper = lower + np.timedelta64(180,'D') # after 2009\n",
    "    else:\n",
    "        upper = lower + np.timedelta64(365,'D') # before 2014\n",
    "    u = np.datetime_as_string(upper, unit='us')\n",
    "    return (l, u, f'https://www.space-track.org/basicspacedata/query/class/gp_history/ECCENTRICITY/<0.25/MEAN_MOTION//>11.25/EPOCH/>{l},<{u}/OBJECT_TYPE/ROCKET BODY/orderby/EPOCH asc/limit/100000/format/csv/emptyresult/show')"
   ]
  },
  {
   "cell_type": "markdown",
   "metadata": {},
   "source": [
    "Before you proceed:\n",
    "* Create the `space-track-credentials.json` file from template with your own credentials\n",
    "* Manually test the fetch cell to make sure things are working first\n",
    "* Set an appropriate intervalTime\n",
    "* This will probably mess up if your task time is longer than your interval time\n",
    "* If you don't know what you are doing, ask Tim."
   ]
  },
  {
   "cell_type": "code",
   "execution_count": 5,
   "metadata": {},
   "outputs": [
    {
     "ename": "Exception",
     "evalue": "This exception is to stop the cells below from running when you do \"Run All Cells\"",
     "output_type": "error",
     "traceback": [
      "\u001b[0;31m---------------------------------------------------------------------------\u001b[0m",
      "\u001b[0;31mException\u001b[0m                                 Traceback (most recent call last)",
      "\u001b[0;32m<ipython-input-5-d2dbe78a8e07>\u001b[0m in \u001b[0;36m<module>\u001b[0;34m\u001b[0m\n\u001b[0;32m----> 1\u001b[0;31m \u001b[0;32mraise\u001b[0m \u001b[0mException\u001b[0m\u001b[0;34m(\u001b[0m\u001b[0;34m'This exception is to stop the cells below from running when you do \"Run All Cells\"'\u001b[0m\u001b[0;34m)\u001b[0m\u001b[0;34m\u001b[0m\u001b[0;34m\u001b[0m\u001b[0m\n\u001b[0m",
      "\u001b[0;31mException\u001b[0m: This exception is to stop the cells below from running when you do \"Run All Cells\""
     ]
    }
   ],
   "source": [
    "raise Exception('This exception is to stop the cells below from running when you do \"Run All Cells\"')"
   ]
  },
  {
   "cell_type": "code",
   "execution_count": null,
   "metadata": {},
   "outputs": [],
   "source": [
    "%%html\n",
    "<script>\n",
    "    var intervalTime = 300000; // 5 minutes in ms\n",
    "    if (typeof autorun_toggle === 'undefined') {\n",
    "        var autorun_toggle = null;\n",
    "    }\n",
    "    function toggle_autorun() {\n",
    "        var btn = document.getElementById(\"autorun_button\");\n",
    "        setTimeout(function(){ // add a delay so the selected cell is correctly set here\n",
    "            if (autorun_toggle == null) {\n",
    "                var start_index = IPython.notebook.get_selected_index()+1;\n",
    "                var end_index = IPython.notebook.get_cells().length;\n",
    "                console.log(\"start autorun, start: \" + start_index + \" end: \" + end_index);\n",
    "                IPython.notebook.execute_cell_range(start_index, end_index);\n",
    "                //$('div.input').hide(200);\n",
    "                autorun_toggle = setInterval(function(){\n",
    "                    console.log(\"Run cells below\");\n",
    "                    //IPython.notebook.execute_cells_below();\n",
    "                    IPython.notebook.execute_cell_range(start_index, end_index);\n",
    "                }, intervalTime);\n",
    "            } else {\n",
    "                window.clearInterval(autorun_toggle);\n",
    "                console.log(\"clear autorun\");\n",
    "                autorun_toggle = null;\n",
    "                //$('div.input').show(200);\n",
    "            }\n",
    "        }, 100);\n",
    "    }\n",
    "</script>\n",
    "<button id=\"autorun_button\" onclick=\"toggle_autorun()\">Toggle autorun cells below</button>"
   ]
  },
  {
   "cell_type": "code",
   "execution_count": null,
   "metadata": {},
   "outputs": [],
   "source": [
    "start_time = timeit.default_timer()\n",
    "autorun_execute_count+=1\n",
    "print(f'Last run local time: {datetime.now()}')\n",
    "print(f'Total times ran: {autorun_execute_count}')"
   ]
  },
  {
   "cell_type": "code",
   "execution_count": null,
   "metadata": {
    "scrolled": false
   },
   "outputs": [],
   "source": [
    "# Check that we did not exceed Space-Track API limits\n",
    "# Limit API queries to less than 30 requests per minute / 300 requests per hour\n",
    "\n",
    "ops_count = 0\n",
    "\n",
    "while get_space_track_api_count(\"m\") < 25 and get_space_track_api_count(\"h\") < 275:\n",
    "    ops_count += 1\n",
    "    # clear expired cookies\n",
    "    print(\"------\")\n",
    "    print(f\"Local time: {datetime.now()}\")\n",
    "    if type(auth_cookie) == requests.cookies.RequestsCookieJar:\n",
    "        auth_cookie.clear_expired_cookies()\n",
    "    # log in if needed\n",
    "    if auth_cookie == None or len(auth_cookie) == 0:\n",
    "        auth_cookie = space_track_login()\n",
    "    # stop if can't log in\n",
    "    if auth_cookie == None:\n",
    "        log(\"skip\", error = f'Cannot log in')\n",
    "        break\n",
    "    # prep url\n",
    "    start, _, url = generate_url()\n",
    "    print(f\"Fetch at epoch >: {start}\")\n",
    "    log(\"fetch_init\", url=url, epoch=start)\n",
    "    r = requests.get(url, allow_redirects=True, cookies=auth_cookie)\n",
    "    fname = f\"./tmp/{start}.csv\".replace(\":\",\"_\")\n",
    "    open(fname, 'wb').write(r.content)\n",
    "    print(f\"Saved CSV: {fname}\")\n",
    "    log(\"fetch_success\", url=url, epoch=start, output=fname)\n",
    "    oname = (\"./output/%05d.pkl.gz\" % (get_current_file_count()+1)).replace(\":\",\"_\")\n",
    "    pd.read_csv(fname)[columns].to_pickle(oname,\"gzip\")\n",
    "    log(\"process_complete\", url=url, epoch=start, output=oname)\n",
    "    print(f\"Processed to: {oname}\")\n",
    "    \n",
    "if ops_count == 0:\n",
    "    log(\"skip\", error = f'Request limit exceeded: 1m({get_space_track_api_count(\"m\")}) 1h({get_space_track_api_count(\"h\")})')\n",
    "else:\n",
    "    log(\"stop\", output=ops_count, error = f'Request limit exceeded: 1m({get_space_track_api_count(\"m\")}) 1h({get_space_track_api_count(\"h\")})')"
   ]
  },
  {
   "cell_type": "code",
   "execution_count": null,
   "metadata": {},
   "outputs": [],
   "source": [
    "elapsed = timeit.default_timer() - start_time\n",
    "print(f\"Time used to execute cells: {elapsed} seconds\")"
   ]
  },
  {
   "cell_type": "code",
   "execution_count": null,
   "metadata": {},
   "outputs": [],
   "source": [
    "logs"
   ]
  },
  {
   "cell_type": "code",
   "execution_count": null,
   "metadata": {},
   "outputs": [],
   "source": [
    "get_last_epoch().astype('datetime64[Y]').item().year"
   ]
  }
 ],
 "metadata": {
  "kernelspec": {
   "display_name": "Python 3",
   "language": "python",
   "name": "python3"
  },
  "language_info": {
   "codemirror_mode": {
    "name": "ipython",
    "version": 3
   },
   "file_extension": ".py",
   "mimetype": "text/x-python",
   "name": "python",
   "nbconvert_exporter": "python",
   "pygments_lexer": "ipython3",
   "version": "3.8.5"
  }
 },
 "nbformat": 4,
 "nbformat_minor": 4
}
