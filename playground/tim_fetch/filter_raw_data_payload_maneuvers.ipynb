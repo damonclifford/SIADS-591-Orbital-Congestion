{
 "cells": [
  {
   "cell_type": "code",
   "execution_count": 1,
   "metadata": {},
   "outputs": [],
   "source": [
    "import pandas as pd\n",
    "import numpy as np\n",
    "import os\n",
    "from tqdm import tqdm"
   ]
  },
  {
   "cell_type": "code",
   "execution_count": 2,
   "metadata": {},
   "outputs": [],
   "source": [
    "csv_store_path = \"../../../siads591 data/space_track_raw/csv/\"\n",
    "filtered_store_path = \"../../../siads591 data/filtered_raw/\"\n",
    "output_file_name = \"payload.pkl\""
   ]
  },
  {
   "cell_type": "code",
   "execution_count": 3,
   "metadata": {},
   "outputs": [],
   "source": [
    "# setting up default and initial variables\n",
    "columns = ['NORAD_CAT_ID', 'MEAN_MOTION', 'ECCENTRICITY', 'SEMIMAJOR_AXIS', 'INCLINATION', 'OBJECT_TYPE', 'EPOCH']\n",
    "dtypes = {\n",
    "    'NORAD_CAT_ID':np.uint32,\n",
    "    'SEMIMAJOR_AXIS':np.float64,\n",
    "    'INCLINATION':np.float64,\n",
    "    'MEAN_MOTION':np.float64,\n",
    "    'ECCENTRICITY':np.float64,\n",
    "}"
   ]
  },
  {
   "cell_type": "code",
   "execution_count": 4,
   "metadata": {},
   "outputs": [
    {
     "name": "stderr",
     "output_type": "stream",
     "text": [
      "100%|██████████| 1449/1449 [17:23<00:00,  1.39it/s]\n"
     ]
    },
    {
     "name": "stdout",
     "output_type": "stream",
     "text": [
      "Total number of rows 32147425\n"
     ]
    }
   ],
   "source": [
    "dfs = []\n",
    "files = sorted([x for x in os.listdir(f'{csv_store_path}/') if x.endswith(\".csv.gz\")])\n",
    "for f in tqdm(files):\n",
    "    if f.endswith(\".csv.gz\"):\n",
    "#        LEO = Mean Motion > 11.25 and Eccentricity < 0.25\n",
    "        df = pd.read_csv(f'{csv_store_path}{f}', usecols=columns, parse_dates=['EPOCH'], infer_datetime_format=True, index_col='EPOCH', dtype=dtypes, compression='gzip')\n",
    "        df = df[(df.MEAN_MOTION > 11.25) & (df.ECCENTRICITY < 0.25) & (df.OBJECT_TYPE == \"PAYLOAD\")][['NORAD_CAT_ID', 'SEMIMAJOR_AXIS', 'INCLINATION']]\n",
    "        df['SEMIMAJOR_AXIS'] = (df.SEMIMAJOR_AXIS * 1000).astype(np.uint32)\n",
    "        df['INCLINATION'] = (df.INCLINATION * 10000).astype(np.uint32)\n",
    "        dfs.append(df)\n",
    "df = pd.concat(dfs)\n",
    "df.to_pickle(f\"{filtered_store_path}{output_file_name}.gz\",compression=\"gzip\")\n",
    "print(f\"Total number of rows {len(df)}\")"
   ]
  }
 ],
 "metadata": {
  "kernelspec": {
   "display_name": "Python 3",
   "language": "python",
   "name": "python3"
  },
  "language_info": {
   "codemirror_mode": {
    "name": "ipython",
    "version": 3
   },
   "file_extension": ".py",
   "mimetype": "text/x-python",
   "name": "python",
   "nbconvert_exporter": "python",
   "pygments_lexer": "ipython3",
   "version": "3.8.5"
  }
 },
 "nbformat": 4,
 "nbformat_minor": 4
}
